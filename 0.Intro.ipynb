{
 "cells": [
  {
   "cell_type": "markdown",
   "id": "c541652c-e25d-4504-ae8e-a60d411190d0",
   "metadata": {},
   "source": [
    "# 추천 시스템 강의\n",
    "\n",
    "\n",
    "## 강의 목표\n",
    "\n",
    "> **추천 시스템**을 연구하고 이해하기 위한 **가장 기본적인 지식**을 쌓아 봅니다.\n",
    "\n",
    "> **머신 러닝**(Machine Learning)기반의 추천 시스템의 기본 지식을 다룹니다. \n",
    "\n",
    "> 사용자와 아이템간의 **상호작용을 패턴**을 모델링에 적합한 **Matrix Factorization(행렬 분해)** 모델을 깊숙히 알아 봅니다. \n",
    "\n",
    "> 모수적 모델(Parameteric Model)을 만들고 학습하기 위한 Framework인 **Tensorflow**을 활용해 봅니다.\n",
    "\n",
    "> 간접 피드백 데이터를 **Negative sampling**기법을 다루어 봅니다.\n"
   ]
  },
  {
   "cell_type": "markdown",
   "id": "c957624a-e5b5-48ac-87e8-f43e30e9e70a",
   "metadata": {},
   "source": [
    "## 진행 방식\n",
    "\n",
    "주제별로 Python Notebook(ipynb) 파일이 주어 지고, \n",
    "\n",
    "ipynb에는 Markdown으로 추천 관련 내용과 실습 과제들이 주어집니다. \n",
    "\n",
    "주어진 과제들을 같이 풀어 가는 방식으로 진행합니다."
   ]
  },
  {
   "cell_type": "markdown",
   "id": "6c68ccd3-d9c1-4421-a788-b345be04b9d3",
   "metadata": {},
   "source": [
    "## 강의 목차\n",
    "\n",
    "### 1일차\n",
    "\n",
    "1. MovieLens 데이터셋 소개\n",
    "\n",
    "2. 추천 시스템 개론\n",
    "\n",
    "3. 머신러닝\n",
    "\n",
    "### 2일차\n",
    "\n",
    "4. Matrix Factorization 1\n",
    "\n",
    "5. Matrix Factorization 2\n",
    "\n",
    "### 3일차\n",
    "\n",
    "6. Matrix Factorization 3\n",
    "\n",
    "7. Negative sampling\n",
    "\n",
    "\n"
   ]
  },
  {
   "cell_type": "code",
   "execution_count": null,
   "id": "41b48168-ba4e-41cc-9944-4e92ae63fad5",
   "metadata": {},
   "outputs": [],
   "source": []
  }
 ],
 "metadata": {
  "kernelspec": {
   "display_name": "Python 3 (ipykernel)",
   "language": "python",
   "name": "python3"
  },
  "language_info": {
   "codemirror_mode": {
    "name": "ipython",
    "version": 3
   },
   "file_extension": ".py",
   "mimetype": "text/x-python",
   "name": "python",
   "nbconvert_exporter": "python",
   "pygments_lexer": "ipython3",
   "version": "3.10.12"
  }
 },
 "nbformat": 4,
 "nbformat_minor": 5
}
