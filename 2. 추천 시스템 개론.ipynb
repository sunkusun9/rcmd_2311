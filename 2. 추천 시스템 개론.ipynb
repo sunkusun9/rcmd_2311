{
 "cells": [
  {
   "cell_type": "markdown",
   "id": "3ab8311c-c80a-4259-9cbe-0a2198d0dbf9",
   "metadata": {},
   "source": [
    "# 준비"
   ]
  },
  {
   "cell_type": "code",
   "execution_count": 1,
   "id": "6829b1b2-3052-47f9-9803-754443deabc8",
   "metadata": {},
   "outputs": [],
   "source": [
    "# Python 내장 Library\n",
    "\n",
    "import pickle # pkl 파일을 처리합니다.\n",
    "import tqdm"
   ]
  },
  {
   "cell_type": "code",
   "execution_count": 4,
   "id": "e4cdfe4f-9c2c-44e5-8773-a77bf08614d8",
   "metadata": {},
   "outputs": [
    {
     "name": "stdout",
     "output_type": "stream",
     "text": [
      "pandas 2.1.1\n",
      "numpy 1.26.1\n",
      "sklearn 1.3.2\n",
      "mlxtend 0.22.0\n",
      "matplotlib 3.8.0\n",
      "seaborn 0.13.0\n",
      "kiwipiepy 0.16.1\n"
     ]
    }
   ],
   "source": [
    "# Library를 불러옵니다.\n",
    "\n",
    "# 데이터처리 Library\n",
    "import pandas as pd  # DataFrame Library\n",
    "import numpy as np # Array 연산 Library\n",
    "import scipy # 과학 영역에서의 수치 연산 Library\n",
    "\n",
    "# Machine Learning Library\n",
    "import sklearn \n",
    "import mlxtend \n",
    "\n",
    "# 시각화 Library\n",
    "import matplotlib as mpl \n",
    "import matplotlib.pyplot as plt\n",
    "import seaborn as sns  \n",
    "\n",
    "# 한글 형태소분석 Library\n",
    "import kiwipiepy \n",
    "from kiwipiepy import Kiwi\n",
    "\n",
    "# 사용한 library 별 version을 확인합니다.\n",
    "for i in [pd, np, sklearn, mlxtend, mpl, sns, kiwipiepy]:\n",
    "    print(i.__name__, i.__version__)"
   ]
  },
  {
   "cell_type": "markdown",
   "id": "e3320bd4-b451-4ea1-8ec6-31e3c1fc007d",
   "metadata": {},
   "source": [
    "# 추천이란?\n",
    "\n",
    "\n",
    "**추천 = 사용자가 선택할 가능성에 높은 아이템에 대한 순위매김(Ranking)**"
   ]
  },
  {
   "cell_type": "markdown",
   "id": "f64ffcee-0e5e-464b-9c08-8f000ea26ea9",
   "metadata": {},
   "source": [
    "# 초간단 추천 로직 만들기\n",
    "\n",
    "추천 로직을 직접 만들어 봄으로써 추천 시스템에 대한 연구의 본질을 파악해봅니다.\n",
    "\n",
    "## Task\n",
    "\n",
    "MovieLens 100K 데이터셋을 이용하여,\n",
    "\n",
    "10개의 영화(movieId)를 추천하는 로직을 만듭니다.\n",
    "\n",
    "현재 주어진 데이터에서 사용자들이 볼 가능성이 높은\n",
    "\n",
    "영화를 추천하는 로직을 만들어 보아요!\n"
   ]
  },
  {
   "cell_type": "markdown",
   "id": "025e28be-a3bb-4653-a08a-7b05acdcfbe9",
   "metadata": {},
   "source": [
    "## Dataset 불러 오기\n",
    "\n",
    "데이터셋 크기가 작은 MovieLen 100K을 불러 옵니다."
   ]
  },
  {
   "cell_type": "code",
   "execution_count": 5,
   "id": "42975e11-7f3e-416c-86ad-3e79c42a92df",
   "metadata": {},
   "outputs": [],
   "source": [
    "df_ratings = pd.read_csv('dataset/ratings_100k.csv')\n",
    "df_ratings['date'] = df_ratings.pop('timestamp').pipe(lambda x: pd.to_datetime(x, unit='s'))\n",
    "df_user = pd.read_csv('dataset/users_100k.csv', index_col='user id')\n",
    "df_movie = pd.read_csv('dataset/movies_100k.csv', index_col='movie id')"
   ]
  },
  {
   "cell_type": "code",
   "execution_count": 6,
   "id": "66bc62ec-e5db-4311-bb77-1e5cba24c025",
   "metadata": {},
   "outputs": [
    {
     "name": "stdout",
     "output_type": "stream",
     "text": [
      "평점 데이터 크기 (100000, 4)\n",
      "영화 정보 크기 (1682, 21)\n",
      "사용자 정보 크기 (943, 4)\n"
     ]
    }
   ],
   "source": [
    "print(\"평점 데이터 크기\", df_ratings.shape)\n",
    "print(\"영화 정보 크기\", df_movie.shape)\n",
    "print(\"사용자 정보 크기\", df_user.shape)"
   ]
  },
  {
   "cell_type": "code",
   "execution_count": 7,
   "id": "248381f3-83fe-450d-895b-2d9f3873b294",
   "metadata": {},
   "outputs": [
    {
     "name": "stdout",
     "output_type": "stream",
     "text": [
      "<class 'pandas.core.frame.DataFrame'>\n",
      "RangeIndex: 100000 entries, 0 to 99999\n",
      "Data columns (total 4 columns):\n",
      " #   Column   Non-Null Count   Dtype         \n",
      "---  ------   --------------   -----         \n",
      " 0   user id  100000 non-null  int64         \n",
      " 1   item id  100000 non-null  int64         \n",
      " 2   rating   100000 non-null  int64         \n",
      " 3   date     100000 non-null  datetime64[ns]\n",
      "dtypes: datetime64[ns](1), int64(3)\n",
      "memory usage: 3.1 MB\n"
     ]
    }
   ],
   "source": [
    "df_ratings.info()"
   ]
  },
  {
   "cell_type": "code",
   "execution_count": 8,
   "id": "bb595711-95a0-4a90-bb8d-74a10823ed60",
   "metadata": {},
   "outputs": [
    {
     "data": {
      "text/html": [
       "<div>\n",
       "<style scoped>\n",
       "    .dataframe tbody tr th:only-of-type {\n",
       "        vertical-align: middle;\n",
       "    }\n",
       "\n",
       "    .dataframe tbody tr th {\n",
       "        vertical-align: top;\n",
       "    }\n",
       "\n",
       "    .dataframe thead th {\n",
       "        text-align: right;\n",
       "    }\n",
       "</style>\n",
       "<table border=\"1\" class=\"dataframe\">\n",
       "  <thead>\n",
       "    <tr style=\"text-align: right;\">\n",
       "      <th></th>\n",
       "      <th>user id</th>\n",
       "      <th>item id</th>\n",
       "      <th>rating</th>\n",
       "      <th>date</th>\n",
       "    </tr>\n",
       "  </thead>\n",
       "  <tbody>\n",
       "    <tr>\n",
       "      <th>0</th>\n",
       "      <td>196</td>\n",
       "      <td>242</td>\n",
       "      <td>3</td>\n",
       "      <td>1997-12-04 15:55:49</td>\n",
       "    </tr>\n",
       "    <tr>\n",
       "      <th>1</th>\n",
       "      <td>186</td>\n",
       "      <td>302</td>\n",
       "      <td>3</td>\n",
       "      <td>1998-04-04 19:22:22</td>\n",
       "    </tr>\n",
       "    <tr>\n",
       "      <th>2</th>\n",
       "      <td>22</td>\n",
       "      <td>377</td>\n",
       "      <td>1</td>\n",
       "      <td>1997-11-07 07:18:36</td>\n",
       "    </tr>\n",
       "    <tr>\n",
       "      <th>3</th>\n",
       "      <td>244</td>\n",
       "      <td>51</td>\n",
       "      <td>2</td>\n",
       "      <td>1997-11-27 05:02:03</td>\n",
       "    </tr>\n",
       "    <tr>\n",
       "      <th>4</th>\n",
       "      <td>166</td>\n",
       "      <td>346</td>\n",
       "      <td>1</td>\n",
       "      <td>1998-02-02 05:33:16</td>\n",
       "    </tr>\n",
       "  </tbody>\n",
       "</table>\n",
       "</div>"
      ],
      "text/plain": [
       "   user id  item id  rating                date\n",
       "0      196      242       3 1997-12-04 15:55:49\n",
       "1      186      302       3 1998-04-04 19:22:22\n",
       "2       22      377       1 1997-11-07 07:18:36\n",
       "3      244       51       2 1997-11-27 05:02:03\n",
       "4      166      346       1 1998-02-02 05:33:16"
      ]
     },
     "execution_count": 8,
     "metadata": {},
     "output_type": "execute_result"
    }
   ],
   "source": [
    "df_ratings.head()"
   ]
  },
  {
   "cell_type": "code",
   "execution_count": 9,
   "id": "a763b9e8-57ae-4d10-b8b2-266163e27bd8",
   "metadata": {},
   "outputs": [
    {
     "name": "stdout",
     "output_type": "stream",
     "text": [
      "<class 'pandas.core.frame.DataFrame'>\n",
      "Index: 943 entries, 1 to 943\n",
      "Data columns (total 4 columns):\n",
      " #   Column      Non-Null Count  Dtype \n",
      "---  ------      --------------  ----- \n",
      " 0   age         943 non-null    int64 \n",
      " 1   gender      943 non-null    object\n",
      " 2   occupation  943 non-null    object\n",
      " 3   zip code    943 non-null    object\n",
      "dtypes: int64(1), object(3)\n",
      "memory usage: 36.8+ KB\n"
     ]
    }
   ],
   "source": [
    "df_user.info()"
   ]
  },
  {
   "cell_type": "code",
   "execution_count": 10,
   "id": "05ed7b15-a69f-446f-b986-d89f2bab7148",
   "metadata": {},
   "outputs": [
    {
     "data": {
      "text/html": [
       "<div>\n",
       "<style scoped>\n",
       "    .dataframe tbody tr th:only-of-type {\n",
       "        vertical-align: middle;\n",
       "    }\n",
       "\n",
       "    .dataframe tbody tr th {\n",
       "        vertical-align: top;\n",
       "    }\n",
       "\n",
       "    .dataframe thead th {\n",
       "        text-align: right;\n",
       "    }\n",
       "</style>\n",
       "<table border=\"1\" class=\"dataframe\">\n",
       "  <thead>\n",
       "    <tr style=\"text-align: right;\">\n",
       "      <th></th>\n",
       "      <th>age</th>\n",
       "      <th>gender</th>\n",
       "      <th>occupation</th>\n",
       "      <th>zip code</th>\n",
       "    </tr>\n",
       "    <tr>\n",
       "      <th>user id</th>\n",
       "      <th></th>\n",
       "      <th></th>\n",
       "      <th></th>\n",
       "      <th></th>\n",
       "    </tr>\n",
       "  </thead>\n",
       "  <tbody>\n",
       "    <tr>\n",
       "      <th>1</th>\n",
       "      <td>24</td>\n",
       "      <td>M</td>\n",
       "      <td>technician</td>\n",
       "      <td>85711</td>\n",
       "    </tr>\n",
       "    <tr>\n",
       "      <th>2</th>\n",
       "      <td>53</td>\n",
       "      <td>F</td>\n",
       "      <td>other</td>\n",
       "      <td>94043</td>\n",
       "    </tr>\n",
       "    <tr>\n",
       "      <th>3</th>\n",
       "      <td>23</td>\n",
       "      <td>M</td>\n",
       "      <td>writer</td>\n",
       "      <td>32067</td>\n",
       "    </tr>\n",
       "    <tr>\n",
       "      <th>4</th>\n",
       "      <td>24</td>\n",
       "      <td>M</td>\n",
       "      <td>technician</td>\n",
       "      <td>43537</td>\n",
       "    </tr>\n",
       "    <tr>\n",
       "      <th>5</th>\n",
       "      <td>33</td>\n",
       "      <td>F</td>\n",
       "      <td>other</td>\n",
       "      <td>15213</td>\n",
       "    </tr>\n",
       "  </tbody>\n",
       "</table>\n",
       "</div>"
      ],
      "text/plain": [
       "         age gender  occupation zip code\n",
       "user id                                 \n",
       "1         24      M  technician    85711\n",
       "2         53      F       other    94043\n",
       "3         23      M      writer    32067\n",
       "4         24      M  technician    43537\n",
       "5         33      F       other    15213"
      ]
     },
     "execution_count": 10,
     "metadata": {},
     "output_type": "execute_result"
    }
   ],
   "source": [
    "df_user.head()"
   ]
  },
  {
   "cell_type": "code",
   "execution_count": 11,
   "id": "7a75ee21-d46b-46aa-b43f-3f45d348af0b",
   "metadata": {},
   "outputs": [
    {
     "name": "stdout",
     "output_type": "stream",
     "text": [
      "<class 'pandas.core.frame.DataFrame'>\n",
      "Index: 1682 entries, 1 to 1682\n",
      "Data columns (total 21 columns):\n",
      " #   Column        Non-Null Count  Dtype \n",
      "---  ------        --------------  ----- \n",
      " 0   movie title   1682 non-null   object\n",
      " 1   release date  1681 non-null   object\n",
      " 2   unknown       1682 non-null   int64 \n",
      " 3   Action        1682 non-null   int64 \n",
      " 4   Adventure     1682 non-null   int64 \n",
      " 5   Animation     1682 non-null   int64 \n",
      " 6   Children's    1682 non-null   int64 \n",
      " 7   Comedy        1682 non-null   int64 \n",
      " 8   Crime         1682 non-null   int64 \n",
      " 9   Documentary   1682 non-null   int64 \n",
      " 10  Drama         1682 non-null   int64 \n",
      " 11  Fantasy       1682 non-null   int64 \n",
      " 12  Film-Noir     1682 non-null   int64 \n",
      " 13  Horror        1682 non-null   int64 \n",
      " 14  Musical       1682 non-null   int64 \n",
      " 15  Mystery       1682 non-null   int64 \n",
      " 16  Romance       1682 non-null   int64 \n",
      " 17  Sci-Fi        1682 non-null   int64 \n",
      " 18  Thriller      1682 non-null   int64 \n",
      " 19  War           1682 non-null   int64 \n",
      " 20  Western       1682 non-null   int64 \n",
      "dtypes: int64(19), object(2)\n",
      "memory usage: 289.1+ KB\n"
     ]
    }
   ],
   "source": [
    "df_movie.info()"
   ]
  },
  {
   "cell_type": "code",
   "execution_count": 12,
   "id": "e3dc6c0c-a3a0-4227-b790-10065a1d5631",
   "metadata": {},
   "outputs": [
    {
     "data": {
      "text/html": [
       "<div>\n",
       "<style scoped>\n",
       "    .dataframe tbody tr th:only-of-type {\n",
       "        vertical-align: middle;\n",
       "    }\n",
       "\n",
       "    .dataframe tbody tr th {\n",
       "        vertical-align: top;\n",
       "    }\n",
       "\n",
       "    .dataframe thead th {\n",
       "        text-align: right;\n",
       "    }\n",
       "</style>\n",
       "<table border=\"1\" class=\"dataframe\">\n",
       "  <thead>\n",
       "    <tr style=\"text-align: right;\">\n",
       "      <th></th>\n",
       "      <th>movie title</th>\n",
       "      <th>release date</th>\n",
       "      <th>unknown</th>\n",
       "      <th>Action</th>\n",
       "      <th>Adventure</th>\n",
       "      <th>Animation</th>\n",
       "      <th>Children's</th>\n",
       "      <th>Comedy</th>\n",
       "      <th>Crime</th>\n",
       "      <th>Documentary</th>\n",
       "      <th>...</th>\n",
       "      <th>Fantasy</th>\n",
       "      <th>Film-Noir</th>\n",
       "      <th>Horror</th>\n",
       "      <th>Musical</th>\n",
       "      <th>Mystery</th>\n",
       "      <th>Romance</th>\n",
       "      <th>Sci-Fi</th>\n",
       "      <th>Thriller</th>\n",
       "      <th>War</th>\n",
       "      <th>Western</th>\n",
       "    </tr>\n",
       "    <tr>\n",
       "      <th>movie id</th>\n",
       "      <th></th>\n",
       "      <th></th>\n",
       "      <th></th>\n",
       "      <th></th>\n",
       "      <th></th>\n",
       "      <th></th>\n",
       "      <th></th>\n",
       "      <th></th>\n",
       "      <th></th>\n",
       "      <th></th>\n",
       "      <th></th>\n",
       "      <th></th>\n",
       "      <th></th>\n",
       "      <th></th>\n",
       "      <th></th>\n",
       "      <th></th>\n",
       "      <th></th>\n",
       "      <th></th>\n",
       "      <th></th>\n",
       "      <th></th>\n",
       "      <th></th>\n",
       "    </tr>\n",
       "  </thead>\n",
       "  <tbody>\n",
       "    <tr>\n",
       "      <th>1</th>\n",
       "      <td>Toy Story (1995)</td>\n",
       "      <td>01-Jan-1995</td>\n",
       "      <td>0</td>\n",
       "      <td>0</td>\n",
       "      <td>0</td>\n",
       "      <td>1</td>\n",
       "      <td>1</td>\n",
       "      <td>1</td>\n",
       "      <td>0</td>\n",
       "      <td>0</td>\n",
       "      <td>...</td>\n",
       "      <td>0</td>\n",
       "      <td>0</td>\n",
       "      <td>0</td>\n",
       "      <td>0</td>\n",
       "      <td>0</td>\n",
       "      <td>0</td>\n",
       "      <td>0</td>\n",
       "      <td>0</td>\n",
       "      <td>0</td>\n",
       "      <td>0</td>\n",
       "    </tr>\n",
       "    <tr>\n",
       "      <th>2</th>\n",
       "      <td>GoldenEye (1995)</td>\n",
       "      <td>01-Jan-1995</td>\n",
       "      <td>0</td>\n",
       "      <td>1</td>\n",
       "      <td>1</td>\n",
       "      <td>0</td>\n",
       "      <td>0</td>\n",
       "      <td>0</td>\n",
       "      <td>0</td>\n",
       "      <td>0</td>\n",
       "      <td>...</td>\n",
       "      <td>0</td>\n",
       "      <td>0</td>\n",
       "      <td>0</td>\n",
       "      <td>0</td>\n",
       "      <td>0</td>\n",
       "      <td>0</td>\n",
       "      <td>0</td>\n",
       "      <td>1</td>\n",
       "      <td>0</td>\n",
       "      <td>0</td>\n",
       "    </tr>\n",
       "    <tr>\n",
       "      <th>3</th>\n",
       "      <td>Four Rooms (1995)</td>\n",
       "      <td>01-Jan-1995</td>\n",
       "      <td>0</td>\n",
       "      <td>0</td>\n",
       "      <td>0</td>\n",
       "      <td>0</td>\n",
       "      <td>0</td>\n",
       "      <td>0</td>\n",
       "      <td>0</td>\n",
       "      <td>0</td>\n",
       "      <td>...</td>\n",
       "      <td>0</td>\n",
       "      <td>0</td>\n",
       "      <td>0</td>\n",
       "      <td>0</td>\n",
       "      <td>0</td>\n",
       "      <td>0</td>\n",
       "      <td>0</td>\n",
       "      <td>1</td>\n",
       "      <td>0</td>\n",
       "      <td>0</td>\n",
       "    </tr>\n",
       "    <tr>\n",
       "      <th>4</th>\n",
       "      <td>Get Shorty (1995)</td>\n",
       "      <td>01-Jan-1995</td>\n",
       "      <td>0</td>\n",
       "      <td>1</td>\n",
       "      <td>0</td>\n",
       "      <td>0</td>\n",
       "      <td>0</td>\n",
       "      <td>1</td>\n",
       "      <td>0</td>\n",
       "      <td>0</td>\n",
       "      <td>...</td>\n",
       "      <td>0</td>\n",
       "      <td>0</td>\n",
       "      <td>0</td>\n",
       "      <td>0</td>\n",
       "      <td>0</td>\n",
       "      <td>0</td>\n",
       "      <td>0</td>\n",
       "      <td>0</td>\n",
       "      <td>0</td>\n",
       "      <td>0</td>\n",
       "    </tr>\n",
       "    <tr>\n",
       "      <th>5</th>\n",
       "      <td>Copycat (1995)</td>\n",
       "      <td>01-Jan-1995</td>\n",
       "      <td>0</td>\n",
       "      <td>0</td>\n",
       "      <td>0</td>\n",
       "      <td>0</td>\n",
       "      <td>0</td>\n",
       "      <td>0</td>\n",
       "      <td>1</td>\n",
       "      <td>0</td>\n",
       "      <td>...</td>\n",
       "      <td>0</td>\n",
       "      <td>0</td>\n",
       "      <td>0</td>\n",
       "      <td>0</td>\n",
       "      <td>0</td>\n",
       "      <td>0</td>\n",
       "      <td>0</td>\n",
       "      <td>1</td>\n",
       "      <td>0</td>\n",
       "      <td>0</td>\n",
       "    </tr>\n",
       "  </tbody>\n",
       "</table>\n",
       "<p>5 rows × 21 columns</p>\n",
       "</div>"
      ],
      "text/plain": [
       "                movie title release date  unknown  Action  Adventure  \\\n",
       "movie id                                                               \n",
       "1          Toy Story (1995)  01-Jan-1995        0       0          0   \n",
       "2          GoldenEye (1995)  01-Jan-1995        0       1          1   \n",
       "3         Four Rooms (1995)  01-Jan-1995        0       0          0   \n",
       "4         Get Shorty (1995)  01-Jan-1995        0       1          0   \n",
       "5            Copycat (1995)  01-Jan-1995        0       0          0   \n",
       "\n",
       "          Animation  Children's  Comedy  Crime  Documentary  ...  Fantasy  \\\n",
       "movie id                                                     ...            \n",
       "1                 1           1       1      0            0  ...        0   \n",
       "2                 0           0       0      0            0  ...        0   \n",
       "3                 0           0       0      0            0  ...        0   \n",
       "4                 0           0       1      0            0  ...        0   \n",
       "5                 0           0       0      1            0  ...        0   \n",
       "\n",
       "          Film-Noir  Horror  Musical  Mystery  Romance  Sci-Fi  Thriller  War  \\\n",
       "movie id                                                                        \n",
       "1                 0       0        0        0        0       0         0    0   \n",
       "2                 0       0        0        0        0       0         1    0   \n",
       "3                 0       0        0        0        0       0         1    0   \n",
       "4                 0       0        0        0        0       0         0    0   \n",
       "5                 0       0        0        0        0       0         1    0   \n",
       "\n",
       "          Western  \n",
       "movie id           \n",
       "1               0  \n",
       "2               0  \n",
       "3               0  \n",
       "4               0  \n",
       "5               0  \n",
       "\n",
       "[5 rows x 21 columns]"
      ]
     },
     "execution_count": 12,
     "metadata": {},
     "output_type": "execute_result"
    }
   ],
   "source": [
    "df_movie.head()"
   ]
  },
  {
   "cell_type": "markdown",
   "id": "b11eccc2-cbea-4920-9e76-2b7914241079",
   "metadata": {},
   "source": [
    "## 간단한 추천 로직을 만들어 봐요.\n",
    "\n",
    "Rating은 추천 로직 평가할 만한 내용을 담고 있습니다.\n",
    "\n",
    "사용자(user id)가 영화(movie id)를 시청한 후 평가를 했다고 가정합니다.\n",
    "\n",
    "\n",
    "* 추천 시나리오\n",
    "\n",
    "> 사용자(user id)와 시점(date)를 추천 로직에 제공합니다.\n",
    "\n",
    "> 추천 로직은 사용자에게 10개의 **df_movie**에서 영화(movie id)를 제공합니다.\n",
    "\n",
    "* 평가 시나리오\n",
    "\n",
    "> Rating을 통해서 시청 여부를 파악합니다.\n",
    "\n",
    "> 로직에서 받아온 10개의 영화(movie id) 중에 item id와 일치한다면, **Hit**로 정의합니다.\n",
    "\n",
    "> 평가에 주어진 케이스에 대해 Hit한 확률을 지표로 합니다.\n",
    "\n",
    "\n",
    "외부 데이터를 제외하고 **df_user**와 **df_movie**를 가지고,\n",
    "\n",
    "그럼 추천 간단한 로직을 만들어 보겠습니다. \n",
    "\n",
    "df_rating을 통해 제작한 추천로직의 성능을 측정하는데 활용해 봅니다.\n"
   ]
  },
  {
   "cell_type": "code",
   "execution_count": 13,
   "id": "0ba4ffd8-5fd4-4e64-9f80-57be4878054d",
   "metadata": {},
   "outputs": [],
   "source": [
    "# 추천 결과에 대한 평가 로직입니다.\n",
    "def evaluate(df_eval, rcmd_func):\n",
    "    \"\"\"\n",
    "    평가 데이터와 추천 로직을 입력 받아 추천 지표 (Hit ratio)를 계산합니다.\n",
    "    Parameters:\n",
    "        df_evel: pd.DataFrame\n",
    "            평가 데이터프레임: user id / item id / date 형태로 되어 있습니다.\n",
    "        rcmd_func: function\n",
    "            추천 로직 callback, user_id와 date를 전달하면 이에 따른  10개의 movie_id를 가직 리스트를 반환해줍니다.\n",
    "    Returns:\n",
    "        Hit ratio\n",
    "    \"\"\"\n",
    "    result = list()\n",
    "    # user id와 date를 rcmd_func의 인자로 전달하고 rcmd_func\n",
    "    # rcmd_func가 반환한 리스트  item id가 있으면 True(Hit)로 기록합니다.\n",
    "    for x in tqdm.tqdm(df_eval[['user id', 'item id', 'date']].values):\n",
    "        result.append( x[1] in set(rcmd_func(x[0], x[2])[:10])) # 10개까지 만을 체크합니다.\n",
    "    return np.mean(result) # True(Hit)인 비율, 즉 Hit Ratio를 반환합니다.\n",
    "\n",
    "def to_movie_title(movie_ids):\n",
    "    \"\"\"\n",
    "    movie id 리스트에 대한 제목을 출력합니다.\n",
    "    Parameters:\n",
    "        movie_ids: list\n",
    "            제목을 출력할 영화 ID 리스트\n",
    "    \"\"\"\n",
    "    for i, movie_id in enumerate(movie_ids):\n",
    "        print(i + 1, df_movie.loc[movie_id, ['movie title', 'release date']].tolist())"
   ]
  },
  {
   "cell_type": "markdown",
   "id": "4c2d821e-2118-4a37-bddc-019fd30b7bcb",
   "metadata": {},
   "source": [
    "예제) 랜덤으로 추천합니다. ^^"
   ]
  },
  {
   "cell_type": "code",
   "execution_count": 14,
   "id": "ba72f881-37a8-41a8-9eda-bc1a047f8c81",
   "metadata": {},
   "outputs": [],
   "source": []
  },
  {
   "cell_type": "markdown",
   "id": "498d00db-2560-47b6-97eb-953d92e355e3",
   "metadata": {},
   "source": [
    "## Task 1\n",
    "\n",
    "출시한 시점과 가장 가까운 30개의 콘텐츠 중에서 10개를 랜덤으로 해봅니다."
   ]
  },
  {
   "cell_type": "code",
   "execution_count": 18,
   "id": "da77ec82-db15-4647-8307-1b8515eefab3",
   "metadata": {},
   "outputs": [],
   "source": [
    "np.random.seed(123) # 랜덤 로직의 동일한 결과를 위해 seed를 줍니다.\n",
    "n_sel = 30\n",
    "df_movie.sort_values('release date', ascending=False)\n",
    "def recent_random_rcmd(user_id, date):\n",
    "    # To-Do: date보다 출시 연도가 오래된 영화중에서 출시 시점이 가까운 30개의 영화를 Random으로 10개를 뽑아 주는 로직을 만듭니다."
   ]
  },
  {
   "cell_type": "code",
   "execution_count": 19,
   "id": "a83e286d-3e69-4cab-bc5a-7da17f42847c",
   "metadata": {},
   "outputs": [
    {
     "name": "stdout",
     "output_type": "stream",
     "text": [
      "1 ['Whole Wide World, The (1996)', Timestamp('1996-12-25 00:00:00')]\n",
      "2 ['Jingle All the Way (1996)', Timestamp('1996-11-22 00:00:00')]\n",
      "3 ['Thieves (Voleurs, Les) (1996)', Timestamp('1996-12-25 00:00:00')]\n",
      "4 ['101 Dalmatians (1996)', Timestamp('1996-11-27 00:00:00')]\n",
      "5 ['Michael (1996)', Timestamp('1996-12-25 00:00:00')]\n",
      "6 ['Crucible, The (1996)', Timestamp('1996-11-27 00:00:00')]\n",
      "7 ['Beavis and Butt-head Do America (1996)', Timestamp('1996-12-20 00:00:00')]\n",
      "8 ['Substance of Fire, The (1996)', Timestamp('1996-12-06 00:00:00')]\n",
      "9 ['Scream (1996)', Timestamp('1996-12-20 00:00:00')]\n",
      "10 ['Daylight (1996)', Timestamp('1996-12-06 00:00:00')]\n"
     ]
    }
   ],
   "source": [
    "# 테스트로 결과를 뽑아봅니다.\n",
    "to_movie_title(recent_random_rcmd(None, '1997-01-01'))"
   ]
  },
  {
   "cell_type": "code",
   "execution_count": 20,
   "id": "b0e62624-2af0-48ae-9339-719e4c413f84",
   "metadata": {},
   "outputs": [
    {
     "name": "stderr",
     "output_type": "stream",
     "text": [
      "100%|█████████████████████████████████████████████████████████████████████████| 100000/100000 [00:16<00:00, 6023.13it/s]\n"
     ]
    },
    {
     "data": {
      "text/plain": [
       "0.006"
      ]
     },
     "execution_count": 20,
     "metadata": {},
     "output_type": "execute_result"
    }
   ],
   "source": [
    "# 평가를 합니다.\n",
    "evaluate(df_ratings, recent_random_rcmd)"
   ]
  },
  {
   "cell_type": "markdown",
   "id": "039504de-73d3-4088-aa9e-da9aa2f0d948",
   "metadata": {},
   "source": [
    "## Task 2\n",
    "\n",
    "사용자의 나이가 13세 이하일 경우 movie의 Children's가 0인 것에서 랜덤으로 뽑고, \n",
    "\n",
    "초과할 경우에는 Children's가 1인 것에서 랜덤으로 뽑습니다."
   ]
  },
  {
   "cell_type": "code",
   "execution_count": 21,
   "id": "eb5bad18-a825-4297-95f9-69b37f1b20c3",
   "metadata": {},
   "outputs": [
    {
     "name": "stderr",
     "output_type": "stream",
     "text": [
      "100%|█████████████████████████████████████████████████████████████████████████| 100000/100000 [00:15<00:00, 6540.53it/s]\n"
     ]
    },
    {
     "data": {
      "text/plain": [
       "0.00575"
      ]
     },
     "execution_count": 21,
     "metadata": {},
     "output_type": "execute_result"
    }
   ],
   "source": [
    "# 동일한 결과를 위해 seed를 줍니다.\n",
    "# 나이를 기준으로 어린이는 Children's로 추천합니다.\n",
    "np.random.seed(123)\n",
    "n_age = 13\n",
    "def age_random_rcmd(user_id, date):\n",
    "    # To-Do: df_user에서 user_id의 연령을 가져와서, \n",
    "    # 13세 이하이면 Children's가 1인 것에서 랜덤으로 뽑고\n",
    "    # 13세 이상이면 Children's가 0인 것에서 랜덤으로 뽑습니다.\n",
    "\n",
    "evaluate(df_ratings, age_random_rcmd)"
   ]
  },
  {
   "cell_type": "code",
   "execution_count": 22,
   "id": "49933b70-172f-4fb3-b652-78e85b21a40f",
   "metadata": {},
   "outputs": [
    {
     "name": "stdout",
     "output_type": "stream",
     "text": [
      "1 ['Heavyweights (1994)', Timestamp('1994-01-01 00:00:00')]\n",
      "2 ['Space Jam (1996)', Timestamp('1996-11-15 00:00:00')]\n",
      "3 ['First Kid (1996)', Timestamp('1996-08-30 00:00:00')]\n",
      "4 ['Homeward Bound II: Lost in San Francisco (1996)', Timestamp('1996-03-08 00:00:00')]\n",
      "5 ['Beauty and the Beast (1991)', Timestamp('1991-01-01 00:00:00')]\n",
      "6 ['Love Bug, The (1969)', Timestamp('1969-01-01 00:00:00')]\n",
      "7 ['Fluke (1995)', Timestamp('1995-01-01 00:00:00')]\n",
      "8 ['Indian in the Cupboard, The (1995)', Timestamp('1995-01-01 00:00:00')]\n",
      "9 ['Escape to Witch Mountain (1975)', Timestamp('1975-01-01 00:00:00')]\n",
      "10 ['Zeus and Roxanne (1997)', Timestamp('1997-01-10 00:00:00')]\n"
     ]
    }
   ],
   "source": [
    "to_movie_title(age_random_rcmd(30, None))"
   ]
  },
  {
   "cell_type": "code",
   "execution_count": 23,
   "id": "cfe86b85-47db-42cf-ba0b-62e21c8feded",
   "metadata": {},
   "outputs": [
    {
     "data": {
      "text/html": [
       "<div>\n",
       "<style scoped>\n",
       "    .dataframe tbody tr th:only-of-type {\n",
       "        vertical-align: middle;\n",
       "    }\n",
       "\n",
       "    .dataframe tbody tr th {\n",
       "        vertical-align: top;\n",
       "    }\n",
       "\n",
       "    .dataframe thead th {\n",
       "        text-align: right;\n",
       "    }\n",
       "</style>\n",
       "<table border=\"1\" class=\"dataframe\">\n",
       "  <thead>\n",
       "    <tr style=\"text-align: right;\">\n",
       "      <th></th>\n",
       "      <th>user id</th>\n",
       "      <th>item id</th>\n",
       "      <th>rating</th>\n",
       "      <th>date</th>\n",
       "    </tr>\n",
       "  </thead>\n",
       "  <tbody>\n",
       "    <tr>\n",
       "      <th>328</th>\n",
       "      <td>101</td>\n",
       "      <td>829</td>\n",
       "      <td>3</td>\n",
       "      <td>1997-10-18 00:55:38</td>\n",
       "    </tr>\n",
       "    <tr>\n",
       "      <th>372</th>\n",
       "      <td>142</td>\n",
       "      <td>169</td>\n",
       "      <td>5</td>\n",
       "      <td>1998-02-28 04:32:36</td>\n",
       "    </tr>\n",
       "    <tr>\n",
       "      <th>526</th>\n",
       "      <td>281</td>\n",
       "      <td>338</td>\n",
       "      <td>2</td>\n",
       "      <td>1997-12-04 01:54:17</td>\n",
       "    </tr>\n",
       "    <tr>\n",
       "      <th>662</th>\n",
       "      <td>101</td>\n",
       "      <td>304</td>\n",
       "      <td>3</td>\n",
       "      <td>1997-10-18 00:47:57</td>\n",
       "    </tr>\n",
       "    <tr>\n",
       "      <th>1191</th>\n",
       "      <td>206</td>\n",
       "      <td>302</td>\n",
       "      <td>5</td>\n",
       "      <td>1998-02-22 20:43:47</td>\n",
       "    </tr>\n",
       "    <tr>\n",
       "      <th>...</th>\n",
       "      <td>...</td>\n",
       "      <td>...</td>\n",
       "      <td>...</td>\n",
       "      <td>...</td>\n",
       "    </tr>\n",
       "    <tr>\n",
       "      <th>99806</th>\n",
       "      <td>880</td>\n",
       "      <td>5</td>\n",
       "      <td>3</td>\n",
       "      <td>1997-11-22 23:29:39</td>\n",
       "    </tr>\n",
       "    <tr>\n",
       "      <th>99875</th>\n",
       "      <td>887</td>\n",
       "      <td>274</td>\n",
       "      <td>1</td>\n",
       "      <td>1997-12-06 03:21:18</td>\n",
       "    </tr>\n",
       "    <tr>\n",
       "      <th>99889</th>\n",
       "      <td>887</td>\n",
       "      <td>1063</td>\n",
       "      <td>1</td>\n",
       "      <td>1997-12-06 03:53:24</td>\n",
       "    </tr>\n",
       "    <tr>\n",
       "      <th>99976</th>\n",
       "      <td>618</td>\n",
       "      <td>628</td>\n",
       "      <td>2</td>\n",
       "      <td>1998-03-31 01:33:39</td>\n",
       "    </tr>\n",
       "    <tr>\n",
       "      <th>99995</th>\n",
       "      <td>880</td>\n",
       "      <td>476</td>\n",
       "      <td>3</td>\n",
       "      <td>1997-11-22 05:10:44</td>\n",
       "    </tr>\n",
       "  </tbody>\n",
       "</table>\n",
       "<p>1259 rows × 4 columns</p>\n",
       "</div>"
      ],
      "text/plain": [
       "       user id  item id  rating                date\n",
       "328        101      829       3 1997-10-18 00:55:38\n",
       "372        142      169       5 1998-02-28 04:32:36\n",
       "526        281      338       2 1997-12-04 01:54:17\n",
       "662        101      304       3 1997-10-18 00:47:57\n",
       "1191       206      302       5 1998-02-22 20:43:47\n",
       "...        ...      ...     ...                 ...\n",
       "99806      880        5       3 1997-11-22 23:29:39\n",
       "99875      887      274       1 1997-12-06 03:21:18\n",
       "99889      887     1063       1 1997-12-06 03:53:24\n",
       "99976      618      628       2 1998-03-31 01:33:39\n",
       "99995      880      476       3 1997-11-22 05:10:44\n",
       "\n",
       "[1259 rows x 4 columns]"
      ]
     },
     "execution_count": 23,
     "metadata": {},
     "output_type": "execute_result"
    }
   ],
   "source": [
    "df_ratings.loc[df_ratings['user id'].isin(df_user.query('age <= 15').index)]"
   ]
  },
  {
   "cell_type": "markdown",
   "id": "45973632-b129-4f3b-8b2e-7564e1f91394",
   "metadata": {},
   "source": [
    "## Task 3 \n",
    "\n",
    "평점 이력은 사용하지 말고, \n",
    "\n",
    "자유롭게 추천 로직을 만들어 봅니다."
   ]
  },
  {
   "cell_type": "code",
   "execution_count": null,
   "id": "8830ebd9-7833-45dc-abc2-769bfeb04965",
   "metadata": {},
   "outputs": [],
   "source": []
  },
  {
   "cell_type": "markdown",
   "id": "17a47109-d0db-4008-a119-910207aceadf",
   "metadata": {},
   "source": [
    "**평점 이력**을 사용해보겠습니다.\n",
    "\n",
    "데이터의 일부를 추천 로직을 만드는 데 사용하고, \n",
    "\n",
    "그 외의 데이터는 추천 로직 평가에 사용해봅니다.\n",
    "\n",
    "이를 위해서, 로직을 만드는 것은 \n",
    "\n",
    "**df_rating**에서 1998-03-01 전의 데이터를 \n",
    "\n",
    "평가는 1998-03-01 이후의 데이터를 사용합니다.\n",
    "\n",
    "\n",
    "외부 데이터를 제외하고 **df_user**와 **df_movie**를 가지고,\n",
    "\n",
    "그럼 추천 로직을 만들어 보겠습니다. \n",
    "\n",
    "굉장한 추천 로직을 만들라는 것이 아닙니다. 이 상황에서 아주 간단하게 해볼 수 있는 것을 해보세요~"
   ]
  },
  {
   "cell_type": "code",
   "execution_count": 24,
   "id": "f717cfb1-1133-43ce-8211-9f6f06e7ac87",
   "metadata": {},
   "outputs": [
    {
     "data": {
      "text/plain": [
       "(77985, 22015)"
      ]
     },
     "execution_count": 24,
     "metadata": {},
     "output_type": "execute_result"
    }
   ],
   "source": [
    "# 추천 로직을 만들기 위한 데이터\n",
    "df_logic = df_ratings.query('date < \"1998-03-01\"')\n",
    "\n",
    "# 추천 결과를 평가하기 위한 데이터\n",
    "df_eval = df_ratings.query('date >= \"1998-03-01\"')\n",
    "len(df_logic), len(df_eval)"
   ]
  },
  {
   "cell_type": "markdown",
   "id": "768d57a9-ee45-45f6-a600-e0775c31b973",
   "metadata": {},
   "source": [
    "가설: 기존에 많이 봤던 것은 여전히 많이 볼 것입니다.\n",
    "\n",
    "평가(시청)가 많은 영화순으로 추천해 봅니다."
   ]
  },
  {
   "cell_type": "code",
   "execution_count": 25,
   "id": "aa93f3f4-b793-41e9-af8c-1301de0515ca",
   "metadata": {},
   "outputs": [
    {
     "name": "stderr",
     "output_type": "stream",
     "text": [
      "100%|█████████████████████████████████████████████████████████████████████████| 22015/22015 [00:00<00:00, 117247.99it/s]\n"
     ]
    },
    {
     "data": {
      "text/plain": [
       "0.04524188053599818"
      ]
     },
     "execution_count": 25,
     "metadata": {},
     "output_type": "execute_result"
    }
   ],
   "source": [
    "s_viewcnt = df_logic['item id'].value_counts()\n",
    "def mostview_recommender(userId, date):\n",
    "    return s_viewcnt.iloc[:10].index\n",
    "evaluate(df_eval, mostview_recommender)"
   ]
  },
  {
   "cell_type": "markdown",
   "id": "0635a794-aeb7-40cc-ac3d-53acce7a8581",
   "metadata": {},
   "source": [
    "가설: 시의성이 있어 최근에 본 것을 볼 가능성이 높습니다.\n",
    "\n",
    "최근에 평가(시청)가 많은 영화순으로 추천해 봅니다."
   ]
  },
  {
   "cell_type": "code",
   "execution_count": 26,
   "id": "12d3ee85-fcb3-40c0-9708-c06d3b58cc77",
   "metadata": {},
   "outputs": [
    {
     "name": "stderr",
     "output_type": "stream",
     "text": [
      "100%|█████████████████████████████████████████████████████████████████████████| 22015/22015 [00:00<00:00, 118180.48it/s]\n"
     ]
    },
    {
     "data": {
      "text/plain": [
       "0.05141948671360436"
      ]
     },
     "execution_count": 26,
     "metadata": {},
     "output_type": "execute_result"
    }
   ],
   "source": [
    "s_viewcnt = # To-Do: 1998-01-01 이후의 평점 중에서 영화별 평점 카운트를 가져옵니다.\n",
    "def mostview_recommender(userId, date):\n",
    "    return s_viewcnt.iloc[:10].index\n",
    "evaluate(df_eval, mostview_recommender)"
   ]
  },
  {
   "cell_type": "markdown",
   "id": "a8aae285-b1df-4fd1-a179-ff50b3bf7f3a",
   "metadata": {},
   "source": [
    "가설: 평점이 높을 수록 시청할 가능성이 높을 것입니다."
   ]
  },
  {
   "cell_type": "code",
   "execution_count": 27,
   "id": "a38aa044-0c31-4084-be69-34bfae068127",
   "metadata": {},
   "outputs": [
    {
     "name": "stderr",
     "output_type": "stream",
     "text": [
      "100%|█████████████████████████████████████████████████████████████████████████| 22015/22015 [00:00<00:00, 103700.94it/s]\n"
     ]
    },
    {
     "data": {
      "text/plain": [
       "0.027481262775380422"
      ]
     },
     "execution_count": 27,
     "metadata": {},
     "output_type": "execute_result"
    }
   ],
   "source": [
    "# 어느 정도(여기서는 20건 이상) 평점이 높은 것 위주로 추천합니다.\n",
    "# 평점이 높은 위주로 추천합니다.\n",
    "s_rating = # To-Do-With\n",
    "def mostrating_recommender(userId, date):\n",
    "    return s_rating.iloc[:10].index\n",
    "evaluate(df_eval, mostrating_recommender)"
   ]
  },
  {
   "cell_type": "markdown",
   "id": "08d0f101-1a6f-4a94-a629-863363ba8914",
   "metadata": {},
   "source": [
    "가설: 시청했던 것을 다시 시청하지 않을 것입니다."
   ]
  },
  {
   "cell_type": "code",
   "execution_count": 28,
   "id": "64b54de1-3941-4925-b85f-cfc18b93bab5",
   "metadata": {},
   "outputs": [
    {
     "name": "stderr",
     "output_type": "stream",
     "text": [
      "100%|██████████████████████████████████████████████████████████████████████████| 22015/22015 [00:00<00:00, 37765.97it/s]\n"
     ]
    },
    {
     "data": {
      "text/plain": [
       "0.055961844197138316"
      ]
     },
     "execution_count": 28,
     "metadata": {},
     "output_type": "execute_result"
    }
   ],
   "source": [
    "# 최근에 (1998-01-01 이후)많이 봤던 것 중에서 시청하지 않은 것을 추천합니다.\n",
    "s_user_hist = # To-Do-With\n",
    "s_viewcnt = # To-Do-With\n",
    "def mostview_notseen_recommender(userId, date):\n",
    "    if userId in s_user_hist:\n",
    "        return # To-Do-With\n",
    "    else:\n",
    "        return s_viewcnt.iloc[:10].index\n",
    "\n",
    "evaluate(df_eval, mostview_notseen_recommender)"
   ]
  },
  {
   "cell_type": "markdown",
   "id": "c5240478-601b-4439-b86e-902b03fd10f0",
   "metadata": {},
   "source": [
    "### 사용자 성별 통계\n",
    "\n",
    "Ex) 성별에 따라 평가를 한 영화의 차이를 살펴 보자"
   ]
  },
  {
   "cell_type": "markdown",
   "id": "a46be2d6-2ab2-49ef-8a3f-7edd0da8763e",
   "metadata": {},
   "source": [
    "성별(gender)에 따른 선호도에 차이가 있을지 봅니다.\n",
    "\n",
    "최근에 (1998-01-01 이후)에 성별로 Top 10 시청 영화를 살펴 보겠습니다."
   ]
  },
  {
   "cell_type": "code",
   "execution_count": 29,
   "id": "3334dec9-328c-4a91-a6a1-b777cc494c09",
   "metadata": {},
   "outputs": [
    {
     "data": {
      "image/png": "[encoded data removed]",
      "text/plain": [
       "<Figure size 1600x500 with 2 Axes>"
      ]
     },
     "metadata": {},
     "output_type": "display_data"
    }
   ],
   "source": [
    "df_gender_most10 = # To-Do-With\n",
    "fig, axes = plt.subplots(1, 2, figsize=(16, 5))\n",
    "\n",
    "sns.barplot(data=df_gender_most10.loc['F'], x='count', y='title', ax=axes[0])\n",
    "axes[0].set_title('Female')\n",
    "sns.barplot(data=df_gender_most10.loc['M'], x='count', y='title', ax=axes[1])\n",
    "axes[1].set_title('Male')\n",
    "\n",
    "plt.tight_layout()\n",
    "plt.show()"
   ]
  },
  {
   "cell_type": "markdown",
   "id": "c96b15ee-30aa-4f20-aac3-3f928c4c0808",
   "metadata": {},
   "source": [
    "성별에 따른 Top 10의 차이가 보이긴 합니다.\n",
    "\n",
    "이를 기반으로 다음 가설을 해봅니다.\n",
    "\n",
    "가설: 성별에 따라 Top 10을 뽑아 추천하면 효과가 높을 것이다.\n",
    "\n",
    "조회수를 보고 개선 여지를 확인해봅니다."
   ]
  },
  {
   "cell_type": "code",
   "execution_count": 30,
   "id": "50362658-34db-4747-a33c-6f0e34d6328f",
   "metadata": {},
   "outputs": [],
   "source": [
    "s_gender_rcmd = df_logic.query('date > \"1998-01-01\"').groupby(\n",
    "    df_logic['user id'].map(df_user['gender'])\n",
    ").apply(lambda x: x['item id'].value_counts().iloc[:10].index.values)"
   ]
  },
  {
   "cell_type": "code",
   "execution_count": 31,
   "id": "29ca8084-8ba7-4469-b72d-a0fa72e5eaa4",
   "metadata": {},
   "outputs": [
    {
     "name": "stdout",
     "output_type": "stream",
     "text": [
      "1 ['Titanic (1997)', Timestamp('1997-01-01 00:00:00')]\n",
      "2 ['Scream (1996)', Timestamp('1996-12-20 00:00:00')]\n",
      "3 ['Liar Liar (1997)', Timestamp('1997-03-21 00:00:00')]\n",
      "4 ['Air Force One (1997)', Timestamp('1997-01-01 00:00:00')]\n",
      "5 ['Contact (1997)', Timestamp('1997-07-11 00:00:00')]\n",
      "6 ['English Patient, The (1996)', Timestamp('1996-11-15 00:00:00')]\n",
      "7 ['Star Wars (1977)', Timestamp('1977-01-01 00:00:00')]\n",
      "8 ['Toy Story (1995)', Timestamp('1995-01-01 00:00:00')]\n",
      "9 [\"Dante's Peak (1997)\", Timestamp('1997-02-07 00:00:00')]\n",
      "10 ['Good Will Hunting (1997)', Timestamp('1997-01-01 00:00:00')]\n"
     ]
    }
   ],
   "source": [
    "to_movie_title(s_gender_rcmd.loc['F'])"
   ]
  },
  {
   "cell_type": "code",
   "execution_count": 32,
   "id": "9e5dafc7-6000-466b-9fb2-72ae6a713a2f",
   "metadata": {},
   "outputs": [
    {
     "name": "stdout",
     "output_type": "stream",
     "text": [
      "1 ['Titanic (1997)', Timestamp('1997-01-01 00:00:00')]\n",
      "2 ['Star Wars (1977)', Timestamp('1977-01-01 00:00:00')]\n",
      "3 ['Contact (1997)', Timestamp('1997-07-11 00:00:00')]\n",
      "4 ['Return of the Jedi (1983)', Timestamp('1997-03-14 00:00:00')]\n",
      "5 ['Scream (1996)', Timestamp('1996-12-20 00:00:00')]\n",
      "6 ['Fargo (1996)', Timestamp('1997-02-14 00:00:00')]\n",
      "7 ['Liar Liar (1997)', Timestamp('1997-03-21 00:00:00')]\n",
      "8 ['Independence Day (ID4) (1996)', Timestamp('1996-07-03 00:00:00')]\n",
      "9 ['Toy Story (1995)', Timestamp('1995-01-01 00:00:00')]\n",
      "10 ['Star Trek: First Contact (1996)', Timestamp('1996-11-22 00:00:00')]\n"
     ]
    }
   ],
   "source": [
    "to_movie_title(s_gender_rcmd.loc['M'])"
   ]
  },
  {
   "cell_type": "code",
   "execution_count": 33,
   "id": "2967f6c1-d090-4387-aca7-dd941fce2796",
   "metadata": {},
   "outputs": [
    {
     "name": "stdout",
     "output_type": "stream",
     "text": [
      "1 ['Good Will Hunting (1997)', Timestamp('1997-01-01 00:00:00')]\n",
      "2 [\"Dante's Peak (1997)\", Timestamp('1997-02-07 00:00:00')]\n",
      "3 ['Air Force One (1997)', Timestamp('1997-01-01 00:00:00')]\n",
      "4 ['English Patient, The (1996)', Timestamp('1996-11-15 00:00:00')]\n"
     ]
    }
   ],
   "source": [
    "to_movie_title(set(s_gender_rcmd.loc['F']) - set(s_gender_rcmd.loc['M']))"
   ]
  },
  {
   "cell_type": "code",
   "execution_count": 34,
   "id": "0dab22b6-6a87-4a13-87c1-21f498827375",
   "metadata": {},
   "outputs": [
    {
     "name": "stdout",
     "output_type": "stream",
     "text": [
      "1 ['Independence Day (ID4) (1996)', Timestamp('1996-07-03 00:00:00')]\n",
      "2 ['Fargo (1996)', Timestamp('1997-02-14 00:00:00')]\n",
      "3 ['Return of the Jedi (1983)', Timestamp('1997-03-14 00:00:00')]\n",
      "4 ['Star Trek: First Contact (1996)', Timestamp('1996-11-22 00:00:00')]\n"
     ]
    }
   ],
   "source": [
    "to_movie_title(set(s_gender_rcmd.loc['M']) - set(s_gender_rcmd.loc['F']))"
   ]
  },
  {
   "cell_type": "code",
   "execution_count": 35,
   "id": "5447d91f-6c40-4c53-b903-fdb1353b0a21",
   "metadata": {},
   "outputs": [
    {
     "name": "stderr",
     "output_type": "stream",
     "text": [
      "100%|█████████████████████████████████████████████████████████████████████████| 22015/22015 [00:00<00:00, 120979.82it/s]\n"
     ]
    },
    {
     "data": {
      "text/plain": [
       "0.04719509425391778"
      ]
     },
     "execution_count": 35,
     "metadata": {},
     "output_type": "execute_result"
    }
   ],
   "source": [
    "# 성별로 많이 본 것을 추천합니다.\n",
    "def mostview_gender_recommender(userId, date):\n",
    "    return # To-Do-With\n",
    "\n",
    "evaluate(df_eval, mostview_gender_recommender)"
   ]
  },
  {
   "cell_type": "markdown",
   "id": "d2bab4b1-60f5-488c-b714-76ea61bed0a4",
   "metadata": {},
   "source": [
    "가정: 사용자가 가장 마지막에 시청한 영화를 시청한 사용자가 많이 시청한 영화를 성능이 좋아질 것이다."
   ]
  },
  {
   "cell_type": "code",
   "execution_count": 36,
   "id": "669d86d5-84d0-4dd0-8e30-57c245f0e14f",
   "metadata": {},
   "outputs": [],
   "source": [
    "# 사용자별 영화 시청 내역 \n",
    "s_user_hist = df_logic.groupby('user id')['item id'].apply(set)"
   ]
  },
  {
   "cell_type": "code",
   "execution_count": 37,
   "id": "b24ea330-472c-4134-85c3-3d66158ab0a4",
   "metadata": {},
   "outputs": [
    {
     "data": {
      "text/html": [
       "<div>\n",
       "<style scoped>\n",
       "    .dataframe tbody tr th:only-of-type {\n",
       "        vertical-align: middle;\n",
       "    }\n",
       "\n",
       "    .dataframe tbody tr th {\n",
       "        vertical-align: top;\n",
       "    }\n",
       "\n",
       "    .dataframe thead th {\n",
       "        text-align: right;\n",
       "    }\n",
       "</style>\n",
       "<table border=\"1\" class=\"dataframe\">\n",
       "  <thead>\n",
       "    <tr style=\"text-align: right;\">\n",
       "      <th></th>\n",
       "      <th>user id</th>\n",
       "      <th>item id</th>\n",
       "      <th>rating</th>\n",
       "      <th>date</th>\n",
       "    </tr>\n",
       "  </thead>\n",
       "  <tbody>\n",
       "    <tr>\n",
       "      <th>0</th>\n",
       "      <td>196</td>\n",
       "      <td>242</td>\n",
       "      <td>3</td>\n",
       "      <td>1997-12-04 15:55:49</td>\n",
       "    </tr>\n",
       "    <tr>\n",
       "      <th>2</th>\n",
       "      <td>22</td>\n",
       "      <td>377</td>\n",
       "      <td>1</td>\n",
       "      <td>1997-11-07 07:18:36</td>\n",
       "    </tr>\n",
       "    <tr>\n",
       "      <th>3</th>\n",
       "      <td>244</td>\n",
       "      <td>51</td>\n",
       "      <td>2</td>\n",
       "      <td>1997-11-27 05:02:03</td>\n",
       "    </tr>\n",
       "    <tr>\n",
       "      <th>4</th>\n",
       "      <td>166</td>\n",
       "      <td>346</td>\n",
       "      <td>1</td>\n",
       "      <td>1998-02-02 05:33:16</td>\n",
       "    </tr>\n",
       "    <tr>\n",
       "      <th>5</th>\n",
       "      <td>298</td>\n",
       "      <td>474</td>\n",
       "      <td>4</td>\n",
       "      <td>1998-01-07 14:20:06</td>\n",
       "    </tr>\n",
       "    <tr>\n",
       "      <th>...</th>\n",
       "      <td>...</td>\n",
       "      <td>...</td>\n",
       "      <td>...</td>\n",
       "      <td>...</td>\n",
       "    </tr>\n",
       "    <tr>\n",
       "      <th>99995</th>\n",
       "      <td>880</td>\n",
       "      <td>476</td>\n",
       "      <td>3</td>\n",
       "      <td>1997-11-22 05:10:44</td>\n",
       "    </tr>\n",
       "    <tr>\n",
       "      <th>99996</th>\n",
       "      <td>716</td>\n",
       "      <td>204</td>\n",
       "      <td>5</td>\n",
       "      <td>1997-11-17 19:39:03</td>\n",
       "    </tr>\n",
       "    <tr>\n",
       "      <th>99997</th>\n",
       "      <td>276</td>\n",
       "      <td>1090</td>\n",
       "      <td>1</td>\n",
       "      <td>1997-09-20 22:49:55</td>\n",
       "    </tr>\n",
       "    <tr>\n",
       "      <th>99998</th>\n",
       "      <td>13</td>\n",
       "      <td>225</td>\n",
       "      <td>2</td>\n",
       "      <td>1997-12-17 22:52:36</td>\n",
       "    </tr>\n",
       "    <tr>\n",
       "      <th>99999</th>\n",
       "      <td>12</td>\n",
       "      <td>203</td>\n",
       "      <td>3</td>\n",
       "      <td>1997-11-19 17:13:03</td>\n",
       "    </tr>\n",
       "  </tbody>\n",
       "</table>\n",
       "<p>77985 rows × 4 columns</p>\n",
       "</div>"
      ],
      "text/plain": [
       "       user id  item id  rating                date\n",
       "0          196      242       3 1997-12-04 15:55:49\n",
       "2           22      377       1 1997-11-07 07:18:36\n",
       "3          244       51       2 1997-11-27 05:02:03\n",
       "4          166      346       1 1998-02-02 05:33:16\n",
       "5          298      474       4 1998-01-07 14:20:06\n",
       "...        ...      ...     ...                 ...\n",
       "99995      880      476       3 1997-11-22 05:10:44\n",
       "99996      716      204       5 1997-11-17 19:39:03\n",
       "99997      276     1090       1 1997-09-20 22:49:55\n",
       "99998       13      225       2 1997-12-17 22:52:36\n",
       "99999       12      203       3 1997-11-19 17:13:03\n",
       "\n",
       "[77985 rows x 4 columns]"
      ]
     },
     "execution_count": 37,
     "metadata": {},
     "output_type": "execute_result"
    }
   ],
   "source": [
    "df_logic"
   ]
  },
  {
   "cell_type": "code",
   "execution_count": 38,
   "id": "9bd139c3-589b-47c0-971b-f13ed79dc526",
   "metadata": {},
   "outputs": [],
   "source": [
    "s_user_hist = # To-Do-With: 사용자별 시청한 평가한 영롸(item id)을 리스트로 만들어 pd.Series에 정리합니다.\n",
    "\n",
    "s_rcmd_table = # To-Do-With: 영화별로 시청했던 사용자(user id)들이 평가한 영화 중에서 빈도수가 높은 10개의 영화들을 "
   ]
  },
  {
   "cell_type": "code",
   "execution_count": null,
   "id": "a54c8ece-7a66-4fdc-8caa-768b9d5eeb80",
   "metadata": {},
   "outputs": [],
   "source": [
    "def most_recent_movie_recommender(userId, date):\n",
    "    if userId in s_user_hist:\n",
    "        return # To-Do-With: 사용자가 평가한 마직막 영화의 리스트를 s_rcmd_tabl 에서 가져옵니다.\n",
    "    else:\n",
    "        return s_viewcnt.iloc[:10].index\n",
    "\n",
    "evaluate(df_eval, most_recent_movie_recommender)"
   ]
  },
  {
   "cell_type": "markdown",
   "id": "2235cb5d-50a1-4a90-957e-0c775d8e0060",
   "metadata": {
    "tags": []
   },
   "source": [
    "# 추천 시스템의 요소\n",
    "\n",
    "사용자(User): 서비스 이용자\n",
    "\n",
    " > MovieLens 회원\n",
    "\n",
    "아이템(Item): 서비스 아이템\n",
    "\n",
    " > 영화\n",
    "\n",
    "피드백 데이터: 사용자의 아이템에 대한 평가 이력\n",
    "\n",
    " > 명시적 피드백 (Explicit Feedback) : 선호도를 직접 나타내는 데이터: Ex) 평가 이력\n",
    "   \n",
    " > 암시적 피드백 (Implicit Feedback) : 선호도를 직접 나타내지 않고 선호를 짐작할 수 데이터: Ex) 조회 이력\n",
    "\n",
    "추천 목표: \n",
    "\n",
    " > 가장 볼 가능성이 높은 영화을 제시\n",
    "\n",
    "추천 내용: \n",
    "\n",
    " > 영화 10개 추천\n",
    " \n",
    "**추천의 평가**: 추천 결과를 정량화하여 측정\n",
    "  \n",
    " > 추천의 목표에서 추천의 평가할 지표를 정의: Hit Rate\n",
    " \n",
    " > 평가 이력에서 사용자와 시점 정보를 넘겨 Hit Rate를 계산\n",
    "\n",
    "**추천 방법**: 추천 목표를 달성하기 위한 내용을 만들어내기 위한 프로세스\n",
    "\n",
    " > 최신 영화\n",
    " \n",
    " > 가장 많이 시청한 영화\n",
    "  "
   ]
  },
  {
   "cell_type": "markdown",
   "id": "7f852174-4b29-4502-a5fd-b25b3f82113a",
   "metadata": {
    "tags": []
   },
   "source": [
    "# 추천 알고리즘 설계 과정\n",
    "\n",
    "1. 추천 시나리오 분석\n",
    "\n",
    "  > 사용자와 시점에 따라 시청 가능성이 높은 10개의 영화를 추천\n",
    "\n",
    "2. 데이터 수집\n",
    "\n",
    "  > MovieLens 데이터\n",
    "\n",
    "3. 추천 알고리즘 평가 방법 정의\n",
    "\n",
    "  > 평가 지표: Hit Ratio\n",
    "  \n",
    "  > MovieLens 데이터의 rating 기록에서 user id와 time을 주고, 추천 받은 10개의 영화를 받아 Hit 여부를 집계\n",
    "\n",
    "4. 추천 알고리즘 개발 \n",
    " \n",
    "  > 최근에 나온 영화 위주 / 13세 이하는 Children's에서 추천 / 최근에 많이 평가한 콘텐츠 .... \n",
    "  \n",
    "  > Machine Learning을 통한 예측 모델 활용"
   ]
  },
  {
   "cell_type": "markdown",
   "id": "1480f474-1ed1-49e8-a2a3-276632af40c3",
   "metadata": {},
   "source": [
    "# 추천 시스템의 유형\n",
    "\n",
    "## 협업 필터링(Collaborative Filtering)\n",
    "\n",
    "사용자의 아이템에 대한 피드백을 기반으로 추천합니다.\n",
    "\n",
    "> Big Data에서 아이템과 사용자의 특성과 상호작용의 양상을 반영하여 추천을 하기 위해서는 머신러닝(Machine Learning)이 필요합니다.\n",
    "\n",
    "## 콘텐츠 기반의 추천 (Content-based Recommendation)\n",
    "\n",
    "아이템의 콘텐츠(내용, Contents) 기반으로 추천합니다.\n",
    "\n",
    "> 연산 기기(Computer)에 아이템의 내용이 지닌 의미 나타내기 위해 머신러닝(Machine Learning)이 필요합니다."
   ]
  },
  {
   "cell_type": "code",
   "execution_count": null,
   "id": "0b475cd1-deba-4819-9d6e-e608baadef50",
   "metadata": {},
   "outputs": [],
   "source": []
  }
 ],
 "metadata": {
  "kernelspec": {
   "display_name": "Python 3 (ipykernel)",
   "language": "python",
   "name": "python3"
  },
  "language_info": {
   "codemirror_mode": {
    "name": "ipython",
    "version": 3
   },
   "file_extension": ".py",
   "mimetype": "text/x-python",
   "name": "python",
   "nbconvert_exporter": "python",
   "pygments_lexer": "ipython3",
   "version": "3.10.12"
  }
 },
 "nbformat": 4,
 "nbformat_minor": 5
}
