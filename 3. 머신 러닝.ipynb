{
 "cells": [
  {
   "cell_type": "code",
   "execution_count": 1,
   "id": "f39591e4-4c4e-4775-9c32-b0bfe11770df",
   "metadata": {},
   "outputs": [],
   "source": [
    "import pandas as pd\n",
    "import numpy as np\n",
    "import pickle as pkl"
   ]
  },
  {
   "cell_type": "code",
   "execution_count": 2,
   "id": "b0163cf3-5018-43d5-b1e5-a1afc9964677",
   "metadata": {},
   "outputs": [],
   "source": [
    "# MovieLens 100K를 데이터셋을 불러옵니다.\n",
    "df_ratings = pd.read_csv('dataset/ratings_100k.csv')\n",
    "df_ratings['date'] = df_ratings.pop('timestamp').pipe(lambda x: pd.to_datetime(x, unit='s'))\n",
    "df_user = pd.read_csv('dataset/users_100k.csv', index_col='user id')\n",
    "df_movie = pd.read_csv('dataset/movies_100k.csv', index_col='movie id')"
   ]
  },
  {
   "cell_type": "code",
   "execution_count": 3,
   "id": "91731cfa-1e12-4887-bf7d-6e1c439a89f2",
   "metadata": {},
   "outputs": [
    {
     "data": {
      "text/plain": [
       "((100000, 4), (943, 4), (1682, 21))"
      ]
     },
     "execution_count": 3,
     "metadata": {},
     "output_type": "execute_result"
    }
   ],
   "source": [
    "df_ratings.shape, df_user.shape, df_movie.shape"
   ]
  },
  {
   "cell_type": "markdown",
   "id": "0aadc90b-b4d2-486c-995c-c6482239937f",
   "metadata": {},
   "source": [
    "# 머신 러닝(기계 학습, Machine Learning)\n",
    "\n",
    "연산 장치(Computer)로 성능 향상을 위한 명시적인 알고리즘 없이 데이터를 통해 성능을 향상시키는 방법을 연구하는 분야\n",
    "\n",
    "# 지도 학습(Supervised Learning)\n",
    "\n",
    "- 머신러닝 모델을 정답이 주어진 데이터로 학습(Training)을 시키는 것\n",
    "\n",
    "## 회귀 (Regression)\n",
    "\n",
    "- 정답이 수치형\n",
    "\n",
    "Ex) 사용자의 아이템에 대한 평점을 예측\n",
    "\n",
    "## 분류 (Classfication)\n",
    "\n",
    "- 정답이 범주\n",
    "\n",
    "Ex) 사용자가 아이템을 좋아요/싫어요 피드백을 예측\n",
    "\n",
    "# 비지도 학습(Unsupervised Learning)\n",
    "\n",
    "- 머신러닝 모델을 정답이 주어지지 않은 데이터로 학습(Training)을 시키는 것\n",
    "\n",
    "# 머신러닝 모델(Machine Learning  Model)\n",
    "\n",
    "- 데이터에서 추출한 지식(패턴)을 연산 장치(컴퓨터)에 근사화한 객체\n",
    "\n",
    "# 성능 지표(Performance Metric)\n",
    "\n",
    "## 회귀\n",
    "\n",
    "  - Mean Squared Error(MSE)\n",
    "  - Mean Absolute Error(MAE)\n",
    "  - R2 Score\n",
    "  \n",
    "## 분류\n",
    "\n",
    "  - Accuracy\n",
    "  - Precision  \n",
    "  - Recall\n",
    "  \n",
    "# 모델 검증 \n",
    "\n",
    "  - 학습(Train)/검증(Validation) 단순 분리\n",
    "  - 교차 검증 (Cross-Validation)\n",
    "\n",
    "# 기계학습의 궁극 목표\n",
    "\n",
    "- 실제 투입이 되었을 때 성능이 좋은 머신러닝 모델을 만드는 것\n",
    "\n",
    "  > 학습 데이터를 통해 일반화(Generalized)된 머신러닝 모델을 만드는 것\n",
    "  \n",
    "  > 과적합(Over-fit): 학습데이터에 모델이 지나치게 맞추어져 학습데이터에 치우치게 되어 실제 데이터에 대한 성능이 떨어지게 되는 현상입니다.\n",
    "  \n",
    "  > 과소적합(Over-fit): 학습데이터에 모델이 덜 맞추어져 현상을 제대로 모델이 담지 못하여 실제 데이터에 대한 성능이 떨어지게 되는 현상입니다.\n",
    "   \n",
    "  ⇒ 속성 공학 - 파생 변수 생성, 차원 축소, 스캐일링, ... \n",
    "  \n",
    "  ⇒ 최적합 모델을 도출 - 모델 튜닝, 앙상블, ...\n",
    "\n",
    "# 용어 정의\n",
    "\n",
    "> 대상 변수(Target Variable) - 지도학습에서 정답에 해당하는 변수\n",
    "\n",
    "> 입력 변수(Input Variable) - 기계학습 모델에 입력 변수\n",
    "\n",
    "> 모수 (Parameter) - 모집단이 지니는 특징을 나타내는 수. 모평균 / 모분산 ...\n",
    "\n",
    "> 가중치 (Weight) - 인공신경망에서의 모수(Parameter)\n",
    "\n",
    "> 손실 (Loss) - 모델링을 통해서 발생한 실제 현상에 대한 정보 손실\n"
   ]
  },
  {
   "cell_type": "markdown",
   "id": "d443cd84-94e5-499c-bdc8-cfb3aa50af4a",
   "metadata": {},
   "source": [
    "# 머신러닝 모델 (Machine Learning Model)\n",
    "\n",
    "## 모수적 모델(Parametric Model)\n",
    "\n",
    "> 모집단의 지식(패턴)을 나타내는 함수로 나타낸 모델\n",
    "\n",
    "- 학습: 학습 데이터를 통해 함수의 모수를 추정하는 것\n",
    "\n",
    "  ⇒  학습 데이터에 대한 모델의 손실을 최소화하는 모수를 찾는 것\n",
    "\n",
    "### 모수적 모델의 손실\n",
    "\n",
    "회귀: Mean Squared Error\n",
    "\n",
    "  > $MSE = \\frac{1}{n}\\sum_{i=1}^{n}{\\left(y_i - \\hat{y}_i\\right)^2}$\n",
    "\n",
    "분류: Cross Entropy \n",
    "\n",
    "  > $H(y, \\hat{y}) = -\\frac{1}{n}\\sum_{i=1}^{n} y_i \\log(\\hat{y}_i)$\n",
    "\n",
    "  이진분류일 경우 다음과 같이 축약할 수 있습니다.\n",
    "\n",
    "  > $H(y, \\hat{y}) = -\\frac{1}{n}\\sum_{i=1}^{n} \\left(y_i \\log(\\hat{y}_i) + (1 - y_i) \\log(1 - \\hat{y}_i)\\right)$\n",
    "\n",
    "### 모수적 모델의 규제\n",
    "\n",
    "- 학습셋에 적합시키는 정도를 제한하기 위한 방법\n",
    "\n",
    "모수의 크기(Magnitude)를 손실 함수에 더합니다\n",
    "\n",
    "모수의 크기(Magnitude)가 커질 수록 손실이 커져서\n",
    "\n",
    "모수의 크기(Magnitude)가 커지는 것을 억제합니다.\n",
    "\n",
    "> L1-norm: 모수의 절대값의 합을 손실 함수에 반영\n",
    "\n",
    "> L2-norm: 모수의 제곱의 합을 손실 함수에 반영\n",
    "\n",
    "### 선형 회귀 모델(Linear Regression)\n",
    "\n",
    "대상 변수를 선형 함수로 나타낸 모델\n",
    "\n",
    "$\\hat{y_i} = \\hat{\\beta}_1x_{i1} + \\hat{\\beta}_2x_{i2} + ... + \\hat{\\beta}_nx_in + \\hat{\\beta}_0$\n",
    "\n",
    "<=> $\\hat{y} = X \\hat{\\beta} + \\hat{\\beta}_0$\n",
    "\n",
    "**학습 알고리즘**\n",
    "\n",
    "  1.정규방정식(OLS, Ordinary Least Square)\n",
    "  \n",
    "  정규방정식의 해 아래와 같이 닫힌 형태로 구할 수 있습니다.\n",
    "  \n",
    "  $\\hat{\\beta} = (X^T X)^{-1} X^T y$\n",
    "  \n",
    "  2.경사하강법(Gradient Descent)\n",
    "  \n",
    "  - 손실(Loss)에 대한 모수의 기울기(Gradient)를 측정하여 손실(Loss)을 낮추는 방향으로 모수를 찾아가는 방법\n",
    "  \n",
    "  $Loss = \\frac{1}{n}\\sum_{i=1}^{n}{\\left(y_i - \\hat{y}_i\\right)^2}$\n",
    "  \n",
    "  $\\frac{dLoss}{d\\hat{\\beta}} = -\\frac{2}{n}\\sum_{i=1}^{n}{\\left(y_i - \\hat{y}_i\\right)x_i}$"
   ]
  },
  {
   "cell_type": "markdown",
   "id": "497e4a59-273c-4fef-aa56-8efcbaef96eb",
   "metadata": {},
   "source": [
    "#### **예제: 선형회귀 모델의 학습**"
   ]
  },
  {
   "cell_type": "code",
   "execution_count": 4,
   "id": "e43e5fa0-fb9d-44f5-bf3b-974acad5b13a",
   "metadata": {},
   "outputs": [],
   "source": [
    "# sckit-learn\n",
    "from sklearn.datasets import make_regression\n",
    "\n",
    "# 예제로 사용할 데이터셋을 만듭니다.\n",
    "X, y = make_regression(\n",
    "    n_samples=100, \n",
    "    n_features=1, \n",
    "    n_informative=1, \n",
    "    noise=4.0,\n",
    "    bias=1.0, \n",
    "    random_state=123\n",
    ")"
   ]
  },
  {
   "cell_type": "code",
   "execution_count": 5,
   "id": "b5a23e82-4192-4f78-8109-c29484ee68f0",
   "metadata": {},
   "outputs": [
    {
     "data": {
      "image/png": "[encoded data removed]",
      "text/plain": [
       "<Figure size 640x480 with 1 Axes>"
      ]
     },
     "metadata": {},
     "output_type": "display_data"
    }
   ],
   "source": [
    "import matplotlib.pyplot as plt\n",
    "import seaborn as sns\n",
    "\n",
    "sns.scatterplot(x = X[:, 0], y = y)\n",
    "plt.show()"
   ]
  },
  {
   "cell_type": "markdown",
   "id": "d9df1a8f-d50c-4488-8e3b-1258c2a48ff0",
   "metadata": {},
   "source": [
    "$\\hat{y_i} = \\hat{\\beta}_1x_{i1} + \\hat{\\beta}_0$"
   ]
  },
  {
   "cell_type": "markdown",
   "id": "a18fc22c-685e-48c1-9f00-8370babc07d6",
   "metadata": {},
   "source": [
    "**OLS(Ordinary Least Square)**\n",
    "\n",
    "**X Matrix애 Linear Regression의 상수항(beta_hat_0)을 행렬연산에 포함시켜 구하기 위해 모두 1인 입력변수를 추가합니다.**"
   ]
  },
  {
   "cell_type": "code",
   "execution_count": 6,
   "id": "bb95c77c-1a7e-4507-ba8b-7e6aff1e9420",
   "metadata": {},
   "outputs": [
    {
     "data": {
      "text/plain": [
       "array([[-0.09470897,  1.        ],\n",
       "       [-1.25388067,  1.        ],\n",
       "       [ 0.00284592,  1.        ],\n",
       "       [ 1.03972709,  1.        ],\n",
       "       [-0.43435128,  1.        ]])"
      ]
     },
     "execution_count": 6,
     "metadata": {},
     "output_type": "execute_result"
    }
   ],
   "source": [
    "# np.ones 모든 값이 1인 tensor를 생성시킵니다. \n",
    "X_1 = np.hstack([ # 리스트에 있는 Matrix를 횡결합합니다.\n",
    "    X,\n",
    "    np.ones((X.shape[0], 1)) # 모든 값이 X.shape[0]×1 행렬을 만듭니다\n",
    "])\n",
    "# 처음 5행만 출력합니다.\n",
    "X_1[:5]"
   ]
  },
  {
   "cell_type": "markdown",
   "id": "c3c7d61a-8b0d-4a19-9c2b-d43aa0a44b8c",
   "metadata": {},
   "source": [
    "**OLS 방정식으로 회귀 계수를 구합니다.**\n",
    "\n",
    "$\\hat{\\beta} = (X^T X)^{-1} X^T y$"
   ]
  },
  {
   "cell_type": "code",
   "execution_count": 7,
   "id": "274b6714-9046-4915-8714-8eab5f62bf1d",
   "metadata": {},
   "outputs": [
    {
     "data": {
      "text/plain": [
       "array([33.9064697 ,  0.96504735])"
      ]
     },
     "execution_count": 7,
     "metadata": {},
     "output_type": "execute_result"
    }
   ],
   "source": [
    "# OLS를 통한 Linear Regression 모델 학습\n",
    "X_gram =  np.dot(X_1.T, X_1) # X_1^T, X_1 행렬곱을 합니다.\n",
    "X_gram_inv = np.linalg.inv(X_gram) # X_gram의 역행렬을 구합니다.\n",
    "beta_hat = np.dot(X_gram_inv, np.dot(X_1.T, y)) # beta_hat을 구합니다.\n",
    "beta_hat"
   ]
  },
  {
   "cell_type": "markdown",
   "id": "1a0efbf7-7796-43ba-a133-f68e9ffaa743",
   "metadata": {},
   "source": [
    "**입력값과 학습한 선형회귀선을 출력합니다.**"
   ]
  },
  {
   "cell_type": "code",
   "execution_count": 8,
   "id": "e2af4557-725e-4ab4-abb6-a93337572f09",
   "metadata": {},
   "outputs": [
    {
     "data": {
      "image/png": "[encoded data removed]",
      "text/plain": [
       "<Figure size 640x480 with 1 Axes>"
      ]
     },
     "metadata": {},
     "output_type": "display_data"
    }
   ],
   "source": [
    "import matplotlib.pyplot as plt\n",
    "import seaborn as sns\n",
    "\n",
    "def linear_reg(X_1, beta_hat):\n",
    "    \"\"\"\n",
    "    학습을 통해 도출한 beta_hat으로 y값 예측합니다.\n",
    "    Parameters:\n",
    "        X_1: 입력행렬\n",
    "        beta_hat: 회귀 계수\n",
    "    \"\"\"\n",
    "    return np.dot(X_1, beta_hat) # 선형 회귀 계수로 입력 변수에 대한 예측을 합니다.\n",
    "\n",
    "def plot_linear_model(x_min, x_max, beta_hat, **kwarg):\n",
    "    \"\"\"\n",
    "    beta_hat의 회귀선을 출력합니다.\n",
    "    Parameters:\n",
    "        x_min: x의 최소값\n",
    "        x_max: x의 최대값\n",
    "        beta_hat: 회귀 계수\n",
    "    \"\"\"\n",
    "    x_range = np.array([\n",
    "        [x_min, 1], \n",
    "        [x_max, 1]\n",
    "    ])\n",
    "    sns.lineplot(x=x_range[:, 0], y=linear_reg(x_range, beta_hat), **kwarg)\n",
    "    \n",
    "sns.scatterplot(x = X[:, 0], y = y)\n",
    "# 선형 회귀선을 출력합니다.\n",
    "plot_linear_model(X[:, 0].min(), X[:, 0].max(), beta_hat, color='red')\n",
    "plt.show()"
   ]
  },
  {
   "cell_type": "markdown",
   "id": "b0abc088-196d-4c52-bcf7-a5c32d53adae",
   "metadata": {},
   "source": [
    "**경사하강법(Gradient Descent)**\n",
    "\n",
    "$\\frac{dLoss}{d\\hat{\\beta}} = -\\frac{2}{n}\\sum_{i=1}^{n}{\\left(y_i - \\hat{y}_i\\right)x_i}$\n",
    "\n",
    "손실에 대한 회귀 계수의 미분을 이용한 경사(기울기)를 계산하여 손실이 줄어드는 방향으로 \n",
    "\n",
    "기울기를 업데이트하여 선형 회귀 모델의 계수 (선형 회귀 계수)를 구해봅니다."
   ]
  },
  {
   "cell_type": "code",
   "execution_count": 9,
   "id": "1c2b8381-0814-4ea1-badf-1b5e4677054b",
   "metadata": {},
   "outputs": [
    {
     "data": {
      "text/plain": [
       "array([-0.29359582,  0.74661863])"
      ]
     },
     "execution_count": 9,
     "metadata": {},
     "output_type": "execute_result"
    }
   ],
   "source": [
    "beta_hat = np.random.uniform(-1, 1, 2)\n",
    "beta_hat"
   ]
  },
  {
   "cell_type": "markdown",
   "id": "617f51b8-a604-4eef-b744-8502c58e2589",
   "metadata": {},
   "source": [
    "$\\sum_{i=1}^{n}{\\left(y_i - \\hat{y}_i\\right)x_i}$"
   ]
  },
  {
   "cell_type": "code",
   "execution_count": 10,
   "id": "0e4d623f-4e8e-4537-95e8-5e83e487486e",
   "metadata": {},
   "outputs": [],
   "source": [
    "y_hat = np.dot(X_1, beta_hat) # y_hat을 구합니다."
   ]
  },
  {
   "cell_type": "code",
   "execution_count": 11,
   "id": "34ce367d-42dc-423e-8913-a397c40439d4",
   "metadata": {},
   "outputs": [
    {
     "data": {
      "text/plain": [
       "array([4356.52268263,  114.55608157])"
      ]
     },
     "execution_count": 11,
     "metadata": {},
     "output_type": "execute_result"
    }
   ],
   "source": [
    "np.sum(\n",
    "    (y - y_hat)[:, None] * X_1, \n",
    "    axis=0\n",
    ") # 위의 합계 과정을 구현합니다. (손실 함수의 일부)"
   ]
  },
  {
   "cell_type": "code",
   "execution_count": 12,
   "id": "7e92f17f-532c-486f-8d39-418b353cd87b",
   "metadata": {},
   "outputs": [
    {
     "data": {
      "text/plain": [
       "array([4356.52268263,  114.55608157])"
      ]
     },
     "execution_count": 12,
     "metadata": {},
     "output_type": "execute_result"
    }
   ],
   "source": [
    "np.dot((y - y_hat), X_1) # 위의 식을 dot product를 이용하여 단순화 시킵니다."
   ]
  },
  {
   "cell_type": "markdown",
   "id": "9d211338-95b0-4058-89b2-eae279baf4ec",
   "metadata": {},
   "source": [
    "$\\frac{dLoss}{d\\hat{\\beta}} = -\\frac{2}{n}\\sum_{i=1}^{n}{\\left(y_i - \\hat{y}_i\\right)x_i}$"
   ]
  },
  {
   "cell_type": "code",
   "execution_count": 13,
   "id": "0d56b5b2-eb14-4fa0-9efc-f9220d959c3c",
   "metadata": {},
   "outputs": [
    {
     "data": {
      "text/plain": [
       "array([-87.13045365,  -2.29112163])"
      ]
     },
     "execution_count": 13,
     "metadata": {},
     "output_type": "execute_result"
    }
   ],
   "source": [
    "- 2 * np.dot((y - y_hat), X_1) / X_1.shape[0]"
   ]
  },
  {
   "cell_type": "code",
   "execution_count": 14,
   "id": "909ea7fc-56ca-4aa0-82ec-0c8a3b858155",
   "metadata": {},
   "outputs": [
    {
     "data": {
      "text/plain": [
       "array([4356.52268263,  114.55608157])"
      ]
     },
     "execution_count": 14,
     "metadata": {},
     "output_type": "execute_result"
    }
   ],
   "source": [
    "np.sum(\n",
    "    np.multiply((y - y_hat)[:, None], X_1), \n",
    "    axis=0\n",
    ")"
   ]
  },
  {
   "cell_type": "code",
   "execution_count": 15,
   "id": "f3dd0afe-976a-4dfd-a053-ce4cb744edd2",
   "metadata": {},
   "outputs": [
    {
     "data": {
      "image/png": "[encoded data removed]",
      "text/plain": [
       "<Figure size 640x480 with 1 Axes>"
      ]
     },
     "metadata": {},
     "output_type": "display_data"
    }
   ],
   "source": [
    "beta_hat = np.random.uniform(-1, 1, 2) # To-Do-With 초기화: -1, 1 사이의 임의 수 2개를 생성합니다.\n",
    "sns.scatterplot(x = X[:, 0], y = y)\n",
    "# 선형 회귀선을 출력합니다.\n",
    "plot_linear_model(X[:, 0].min(), X[:, 0].max(), beta_hat, color='yellow')\n",
    "\n",
    "learning_rate = 0.02 # 학습율(속도)\n",
    "# Epoch마다 손실(loss)을 기록하기 위한 리스트\n",
    "losses = []\n",
    "for epoch in range(100):\n",
    "    y_hat = np.dot(X_1, beta_hat) # 현재 회귀 계수의 X_1에 대한 예측 값을 구합니다.\n",
    "    beta_hat_grad = - 2 * np.dot((y - y_hat), X_1) / X_1.shape[0] # 회귀 계수들의 경사도를 구합니다.\n",
    "    beta_hat -= beta_hat_grad * learning_rate # To-Do-With 회귀 계수를 업데이트 합니다.\n",
    "    # 10 epoch 마다 회귀선을 출력합니다.\n",
    "    if (epoch + 1) % 10 == 0:\n",
    "        plot_linear_model(X[:, 0].min(), X[:, 0].max(), beta_hat, color='orange')\n",
    "    loss = np.mean((y - np.dot(X_1, beta_hat)) ** 2)\n",
    "    losses.append(loss) # To-Do-With 손실(loss)을 기록합니다: Mean Squared Error\n",
    "# 최종 학습된 선형 회귀선을 출력합니다.\n",
    "plot_linear_model(X[:, 0].min(), X[:, 0].max(), beta_hat, color='red')\n",
    "plt.show()"
   ]
  },
  {
   "cell_type": "code",
   "execution_count": 16,
   "id": "13d98002-2f05-4aed-a3fa-c9c595d05588",
   "metadata": {},
   "outputs": [
    {
     "data": {
      "text/plain": [
       "array([33.73014332,  0.97333901])"
      ]
     },
     "execution_count": 16,
     "metadata": {},
     "output_type": "execute_result"
    }
   ],
   "source": [
    "# 학습한 모수를 출력해봅니다.\n",
    "beta_hat"
   ]
  },
  {
   "cell_type": "code",
   "execution_count": 17,
   "id": "d7ba5ce6-43a8-4de1-aa8b-4de618d14d65",
   "metadata": {},
   "outputs": [
    {
     "data": {
      "image/png": "[encoded data removed]",
      "text/plain": [
       "<Figure size 640x480 with 1 Axes>"
      ]
     },
     "metadata": {},
     "output_type": "display_data"
    }
   ],
   "source": [
    "# epoch별로 손실을 출력해봅니다.\n",
    "sns.lineplot(losses)\n",
    "plt.show()"
   ]
  },
  {
   "cell_type": "markdown",
   "id": "9c043206-866d-4212-9856-342bcf22826e",
   "metadata": {},
   "source": [
    "- Ridge 모델: Linear Regression에 L2 규제를 적용한 모델\n",
    "\n",
    "- Lasso 모델: Linear Regression에 L1 규제를 적용한 모델 \n",
    "\n",
    "- Elastic Net: Linear Regression에 L1/L2 규제를 적용한 모델"
   ]
  },
  {
   "cell_type": "code",
   "execution_count": 18,
   "id": "46aafbf1-7f52-4e26-b2ba-8039ebb761fc",
   "metadata": {},
   "outputs": [
    {
     "data": {
      "image/png": "[encoded data removed]",
      "text/plain": [
       "<Figure size 640x480 with 1 Axes>"
      ]
     },
     "metadata": {},
     "output_type": "display_data"
    }
   ],
   "source": [
    "from sklearn.linear_model import Ridge\n",
    "\n",
    "sns.scatterplot(x = X[:, 0], y = y)\n",
    "# 선형 회귀선을 출력합니다.\n",
    "for alpha in [1, 10, 20]:\n",
    "    reg_rd = Ridge(alpha=alpha)\n",
    "    reg_rd.fit(X, y)\n",
    "    plot_linear_model(\n",
    "        X[:, 0].min(), X[:, 0].max(), \n",
    "        np.array([reg_rd.coef_[0], reg_rd.intercept_]), label='alpha:{}'.format(alpha)\n",
    "    )\n",
    "    y_hat = reg_rd.predict(X)\n",
    "    losses.append(np.mean(np.square(y - y_hat)))\n",
    "plt.show()"
   ]
  },
  {
   "cell_type": "markdown",
   "id": "895662b7-363a-4369-a49c-e0d05e3b0d93",
   "metadata": {},
   "source": [
    "규제(alpha)가 클 수록 기울기는 낮아지고, 이에 따라 변동성을 낮아지게 됩니다."
   ]
  },
  {
   "cell_type": "markdown",
   "id": "851f908d-d767-4aaf-8b66-257e94ea16f1",
   "metadata": {},
   "source": [
    "**Tensorflow**\n",
    "\n",
    "한 마디로, 모수적 모델을 구현하기 위한 라이브러리입니다.\n",
    "\n",
    "Matrix Factorization은 모수적 모델입니다. \n",
    "\n",
    "이 후 파트에서는 Tensorflow를 통한 모델링 학습이 주를 이룹니다.\n",
    "\n",
    "이를 위해 Tensorflow에 익숙해져 보기 위해 예를 들어 봅니다."
   ]
  },
  {
   "cell_type": "code",
   "execution_count": 19,
   "id": "42108890-72fe-4c56-bf10-8411e4707d9d",
   "metadata": {},
   "outputs": [],
   "source": [
    "import os\n",
    "os.environ['TF_CPP_MIN_LOG_LEVEL'] = '2'\n",
    "import tensorflow as tf"
   ]
  },
  {
   "cell_type": "code",
   "execution_count": 20,
   "id": "187db227-64c3-4086-b4e5-cc36f176e48c",
   "metadata": {},
   "outputs": [
    {
     "name": "stdout",
     "output_type": "stream",
     "text": [
      "1 Physical GPUs, 1 Logical GPUs\n"
     ]
    }
   ],
   "source": [
    "# GPU가 있다면, GPU 메모리를 최대한 활용할 수 있도록 설정합니다.\n",
    "gpus = tf.config.experimental.list_physical_devices('GPU')\n",
    "if gpus:\n",
    "    try:\n",
    "        for gpu in gpus:\n",
    "            tf.config.experimental.set_memory_growth(gpu, True)\n",
    "        logical_gpus = tf.config.list_logical_devices('GPU')\n",
    "        print(\"{} Physical GPUs, {} Logical GPUs\".format(len(gpus), len(logical_gpus)))\n",
    "    except RuntimeError as e:\n",
    "        print(e)"
   ]
  },
  {
   "cell_type": "code",
   "execution_count": 21,
   "id": "5513feec-0ea0-457e-872f-47070b2b8e4a",
   "metadata": {},
   "outputs": [],
   "source": [
    "# Tensorflow로 선형회귀 모델(Linear Regression Model)을 정의합니다.\n",
    "class LRModel(tf.keras.Model):\n",
    "    def  __init__(self):\n",
    "        super().__init__()\n",
    "        # 출력이 한 개인 밀도 레이어 단층의 신경망\n",
    "        # Dense Layer에는 입력변수 × 출력변수 형태의 가중치 행렬(Weight Matrix)와 절편(Intercept)이 있습니다.\n",
    "        # 출력 변수가 1개인 Dense Layer를 생성합니다.\n",
    "        self.beta_hat = tf.keras.layers.Dense(1) # \n",
    "\n",
    "    def call(self, X):\n",
    "        y_hat = self.beta_hat(X) # X를 beta_hat Layer에 통과 시켜 예측값을 구합니다.\n",
    "        return y_hat\n",
    "\n",
    "# Tensorflow 세션 초기화\n",
    "tf.keras.backend.clear_session()\n",
    "# 모델 생성합니다. \n",
    "lr_model = LRModel()"
   ]
  },
  {
   "cell_type": "code",
   "execution_count": 22,
   "id": "bc9acb79-8195-4bbb-8a7e-d03b41ed80d2",
   "metadata": {},
   "outputs": [
    {
     "data": {
      "text/plain": [
       "<tf.Tensor: shape=(3, 1), dtype=float32, numpy=\n",
       "array([[1.5405694],\n",
       "       [3.0811388],\n",
       "       [4.6217084]], dtype=float32)>"
      ]
     },
     "execution_count": 22,
     "metadata": {},
     "output_type": "execute_result"
    }
   ],
   "source": [
    "# 모델의 구동을 확인해봅니다.\n",
    "lr_model(tf.constant([[1.0], [2.0], [3.0]]))"
   ]
  },
  {
   "cell_type": "markdown",
   "id": "0ba03512-3d86-4d04-84a3-a564a3477d29",
   "metadata": {},
   "source": [
    "**Keras**\n",
    "\n",
    "Deep Learning Framework - Deep Learning을 위한 구성 요소를 틀로써 정의"
   ]
  },
  {
   "cell_type": "markdown",
   "id": "8a45f031-fddc-4f08-bd2d-63fe14457880",
   "metadata": {},
   "source": [
    "**학습 방법 1: Train Loop를 통한 학습**"
   ]
  },
  {
   "cell_type": "code",
   "execution_count": 23,
   "id": "0dd35382-f889-43b1-b214-5d14fd34867d",
   "metadata": {},
   "outputs": [],
   "source": [
    "# 손실함수를 생성합니다.\n",
    "mse = tf.keras.losses.MeanSquaredError()\n",
    "# 옵티마이저(손실함수를 낮추는 가중치(Weight)를 찾아주는 모듈)을 생성합니다.: Adaptive Gradient Descent 최적화기\n",
    "optimizer = tf.keras.optimizers.Adagrad(learning_rate=2)\n",
    "\n",
    "@tf.function\n",
    "def train_step(X, y):\n",
    "    # 모델에서 예측값을 구하고, 예측값과 실제값의 손실을 구하는 과정을 tape 객체에 담습니다.\n",
    "    with tf.GradientTape() as tape:\n",
    "        y_hat = lr_model(X)\n",
    "        loss = mse(y, y_hat)\n",
    "    # 모델에서 학습 가능한 가중치를 가져옵니다.\n",
    "    variables = lr_model.trainable_variables\n",
    "    # 가중치에 대한 기울기를 구합니다.\n",
    "    gradients = tape.gradient(loss, variables)\n",
    "    # 구한 기울기를 가지고 가중치를 업데이트합니다\n",
    "    optimizer.apply_gradients(zip(gradients, variables))\n",
    "    # 손실을 반환합니다.\n",
    "    return loss"
   ]
  },
  {
   "cell_type": "markdown",
   "id": "d6498a4c-4833-4374-9dd6-777734326b5b",
   "metadata": {},
   "source": [
    "**Tensorflow의 모델 구동 방식**\n",
    "\n",
    "- Eager Execution - 정의된 연산 단계를 즉각적으로 실행\n",
    "\n",
    "- Graph Execution - Graph로 표현된 연산 단계를 최적화하여 실행\n",
    "\n",
    "@tf.function - 지정한 함수안에 연산들을 Graph Execution 방법으로 구동 시키도록합니다."
   ]
  },
  {
   "cell_type": "code",
   "execution_count": 24,
   "id": "f8e829f9-fa83-4ebb-b145-1e604e4d4552",
   "metadata": {},
   "outputs": [
    {
     "name": "stdout",
     "output_type": "stream",
     "text": [
      "(64, 1) (64,)\n"
     ]
    }
   ],
   "source": [
    "# tf.data.Dataset: tensorflow 모델에 전달하기 위한 데이터셋(Dataset)\n",
    "# tf.data.Dataset.from_tensor_slices(...) Tensorflow 용 Dataset으로 만들어 줍니다. \n",
    "# batch - Dataset을 64개씩 쪼개줍니다.\n",
    "ds = tf.data.Dataset.from_tensor_slices((X, y)).batch(64)\n",
    "losses = []\n",
    "check_shape = False\n",
    "for epoch in range(100):\n",
    "    losses_epoch = []\n",
    "    for X_, y_ in ds:\n",
    "        if not check_shape:\n",
    "            print(X_.shape, y_.shape)\n",
    "            check_shape = True\n",
    "        loss = train_step(X_, y_).numpy()\n",
    "        losses_epoch.append(loss)\n",
    "    # 학습 루틴을 수행하고, 학습 루틴에서 계산된 loss를 losses_epoch에 추가합니다.\n",
    "    losses.append(np.mean(losses_epoch))"
   ]
  },
  {
   "cell_type": "markdown",
   "id": "bb42d3b9-ef04-4854-982d-6fa7554f10c8",
   "metadata": {},
   "source": [
    "**Batch** - 데이터를 지정한 숫자 만큼을 나누어 전달토록 합니다."
   ]
  },
  {
   "cell_type": "code",
   "execution_count": 25,
   "id": "9d989940-8588-44b4-b4fd-ce7c094090a4",
   "metadata": {},
   "outputs": [
    {
     "name": "stdout",
     "output_type": "stream",
     "text": [
      "Model: \"lr_model\"\n",
      "_________________________________________________________________\n",
      " Layer (type)                Output Shape              Param #   \n",
      "=================================================================\n",
      " dense (Dense)               multiple                  2         \n",
      "                                                                 \n",
      "=================================================================\n",
      "Total params: 2 (8.00 Byte)\n",
      "Trainable params: 2 (8.00 Byte)\n",
      "Non-trainable params: 0 (0.00 Byte)\n",
      "_________________________________________________________________\n"
     ]
    }
   ],
   "source": [
    "# 입력의 크기가 1 출력 크기  1: 기울기 1개  절편 1개 = 총 모수의 수는 2개가 됩니다.\n",
    "lr_model.summary()"
   ]
  },
  {
   "cell_type": "code",
   "execution_count": 26,
   "id": "d19f07cb-72e8-4396-a480-437c4060872c",
   "metadata": {},
   "outputs": [
    {
     "data": {
      "text/plain": [
       "[array([[32.333004]], dtype=float32), array([1.090326], dtype=float32)]"
      ]
     },
     "execution_count": 26,
     "metadata": {},
     "output_type": "execute_result"
    }
   ],
   "source": [
    "# 학습한 내용을 봅니다.\n",
    "# 첫번째는 기울기, 두번째는 절편이 됩니다.\n",
    "lr_model.beta_hat.get_weights()"
   ]
  },
  {
   "cell_type": "code",
   "execution_count": 27,
   "id": "089c54e1-0f18-4a73-bb90-5d90e67cc778",
   "metadata": {},
   "outputs": [
    {
     "data": {
      "image/png": "[encoded data removed]",
      "text/plain": [
       "<Figure size 640x480 with 1 Axes>"
      ]
     },
     "metadata": {},
     "output_type": "display_data"
    }
   ],
   "source": [
    "sns.lineplot(losses)\n",
    "plt.show()"
   ]
  },
  {
   "cell_type": "markdown",
   "id": "93f4c71a-60cf-49e5-ac4a-507904874048",
   "metadata": {},
   "source": [
    "**학습 방법 2: fit 메소드를 통한 학습**\n",
    "\n",
    "compile ~ fit 루틴\n",
    "\n",
    "compile: 모델 학습에 필요한 설정을 합니다.\n",
    "\n",
    "fit: 데이터셋에 대한 학습 작업을 수행시킵니다."
   ]
  },
  {
   "cell_type": "code",
   "execution_count": 28,
   "id": "71dd3320-dc6f-4f18-a416-eaab0a8a13ef",
   "metadata": {},
   "outputs": [],
   "source": [
    "# lr_model을 학습하기 위한 설정을 합니다.\n",
    "lr_model = LRModel()\n",
    "\n",
    "lr_model.compile(\n",
    "    optimizer = tf.keras.optimizers.Adagrad(learning_rate=2), # 최적화 알고리즘을 셋팅합니다: Adaptive Gradient Descent\n",
    "    loss= tf.keras.losses.MeanSquaredError(), # 손실함수를 설정합니다.\n",
    "    metrics='mse' # mse: Mean Squared Error 모델 성능 측정지표를 성정합니다.\n",
    ")\n",
    "\n",
    "# epochs: 최적화 루팅 반복 회수, 100회\n",
    "# verbose: 0 - 중간 결과 출력을 생략합니다.\n",
    "# 확습을 시킵니다.\n",
    "hist = lr_model.fit(ds, epochs=100, verbose=0)"
   ]
  },
  {
   "cell_type": "code",
   "execution_count": 29,
   "id": "5f2e7c47-bdae-4598-bc9d-25610dfd5d1b",
   "metadata": {},
   "outputs": [
    {
     "data": {
      "image/png": "[encoded data removed]",
      "text/plain": [
       "<Figure size 640x480 with 1 Axes>"
      ]
     },
     "metadata": {},
     "output_type": "display_data"
    }
   ],
   "source": [
    "# 최적화 epoch 별 모델 성능(mse)를 출력합니다.\n",
    "sns.lineplot(hist.history['mse'])\n",
    "plt.show()"
   ]
  },
  {
   "cell_type": "markdown",
   "id": "22f60b7d-ef04-47e8-96fd-39c2722e61d2",
   "metadata": {},
   "source": [
    "**Gradient Descent의 의미**\n",
    "\n",
    "1. Loss에 대한 모수의 기울기만 구할 있다면,  모든 모수 모델에 대하여 적용이 가능합니다.\n",
    "\n",
    "2. 데이터 스트림을 통한 학습이 가능합니다. \n",
    "  \n",
    "  > 대규모의 학습 데이터를 입력으로 사용 가능합니다.\n",
    "\n",
    "**Tensorflow**\n",
    "\n",
    "모수적 모델을 정의하고 이를 학습 / 예측하기 위한 프레임웤입니다.\n",
    "\n",
    "※ 이후 중점적으로 사용할 도구인 만큼 Toy셋을 통해 감을 익혀갑니다."
   ]
  },
  {
   "cell_type": "markdown",
   "id": "2ea56f80-6c0e-4db1-8a71-7d647f910e70",
   "metadata": {},
   "source": [
    "#### 예제: MovieLens100K 데이터셋에서 추천에 활용할 수 있는 모델을 만들어 봅니다.\n",
    "\n",
    "Task: 추천시 Ranking에 활용할 수 있도록 사용자별 영화 평점을 예측기를 만들어 봅시다. \n",
    "\n",
    "학습데이터:평가데이터 = 8:2\n",
    "\n",
    "검증법: 5겹 교차검증(5-fold cross validation)\n",
    "\n",
    "![image.png](data:image/png;base64,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)\n",
    "\n",
    "**선형 회귀**모델을 이용한 초간단 모델을 만들어 봅니다.\n",
    "\n",
    "입력변수: 사용자의 rating 평균, 영화의 rating 평균"
   ]
  },
  {
   "cell_type": "markdown",
   "id": "795f275e-4dc4-4210-b06a-425ec3cabe7a",
   "metadata": {},
   "source": [
    "train / test \n",
    "\n",
    "\n",
    "train => 여러가지 모델 검증을 합니다.  =>  검증 단계에서, 성능 좋은 고릅니다. => train 선택된 모델을 학습\n",
    "\n",
    "\n",
    "=> test를 가지고 평가를 합니다."
   ]
  },
  {
   "cell_type": "code",
   "execution_count": 30,
   "id": "7591e99e-8786-4249-9a99-1bf7df006bd8",
   "metadata": {},
   "outputs": [
    {
     "data": {
      "text/plain": [
       "((80000, 4), (20000, 4))"
      ]
     },
     "execution_count": 30,
     "metadata": {},
     "output_type": "execute_result"
    }
   ],
   "source": [
    "from sklearn.model_selection import train_test_split\n",
    "# df_ratings를 학습:평가 = 8:2 비율로 나눕니다. \n",
    "df_train, df_test = train_test_split(df_ratings, train_size=0.8, random_state=123)\n",
    "df_train.shape, df_test.shape"
   ]
  },
  {
   "cell_type": "code",
   "execution_count": 31,
   "id": "6a28017d-c00f-4b67-99e5-ceea559917ae",
   "metadata": {},
   "outputs": [
    {
     "data": {
      "text/html": [
       "<div>\n",
       "<style scoped>\n",
       "    .dataframe tbody tr th:only-of-type {\n",
       "        vertical-align: middle;\n",
       "    }\n",
       "\n",
       "    .dataframe tbody tr th {\n",
       "        vertical-align: top;\n",
       "    }\n",
       "\n",
       "    .dataframe thead th {\n",
       "        text-align: right;\n",
       "    }\n",
       "</style>\n",
       "<table border=\"1\" class=\"dataframe\">\n",
       "  <thead>\n",
       "    <tr style=\"text-align: right;\">\n",
       "      <th></th>\n",
       "      <th>user id</th>\n",
       "      <th>item id</th>\n",
       "      <th>rating</th>\n",
       "      <th>date</th>\n",
       "    </tr>\n",
       "  </thead>\n",
       "  <tbody>\n",
       "    <tr>\n",
       "      <th>22302</th>\n",
       "      <td>429</td>\n",
       "      <td>24</td>\n",
       "      <td>3</td>\n",
       "      <td>1997-12-17 19:18:29</td>\n",
       "    </tr>\n",
       "    <tr>\n",
       "      <th>49609</th>\n",
       "      <td>480</td>\n",
       "      <td>511</td>\n",
       "      <td>4</td>\n",
       "      <td>1998-03-29 21:56:39</td>\n",
       "    </tr>\n",
       "    <tr>\n",
       "      <th>89251</th>\n",
       "      <td>916</td>\n",
       "      <td>746</td>\n",
       "      <td>3</td>\n",
       "      <td>1997-11-29 22:57:42</td>\n",
       "    </tr>\n",
       "    <tr>\n",
       "      <th>96385</th>\n",
       "      <td>892</td>\n",
       "      <td>196</td>\n",
       "      <td>4</td>\n",
       "      <td>1998-02-04 16:27:02</td>\n",
       "    </tr>\n",
       "    <tr>\n",
       "      <th>17569</th>\n",
       "      <td>90</td>\n",
       "      <td>83</td>\n",
       "      <td>5</td>\n",
       "      <td>1998-03-31 22:34:47</td>\n",
       "    </tr>\n",
       "  </tbody>\n",
       "</table>\n",
       "</div>"
      ],
      "text/plain": [
       "       user id  item id  rating                date\n",
       "22302      429       24       3 1997-12-17 19:18:29\n",
       "49609      480      511       4 1998-03-29 21:56:39\n",
       "89251      916      746       3 1997-11-29 22:57:42\n",
       "96385      892      196       4 1998-02-04 16:27:02\n",
       "17569       90       83       5 1998-03-31 22:34:47"
      ]
     },
     "execution_count": 31,
     "metadata": {},
     "output_type": "execute_result"
    }
   ],
   "source": [
    "df_train.head()"
   ]
  },
  {
   "cell_type": "code",
   "execution_count": 32,
   "id": "089b27ae-2196-4983-9a1d-1096f900d33f",
   "metadata": {},
   "outputs": [
    {
     "data": {
      "text/html": [
       "<div>\n",
       "<style scoped>\n",
       "    .dataframe tbody tr th:only-of-type {\n",
       "        vertical-align: middle;\n",
       "    }\n",
       "\n",
       "    .dataframe tbody tr th {\n",
       "        vertical-align: top;\n",
       "    }\n",
       "\n",
       "    .dataframe thead th {\n",
       "        text-align: right;\n",
       "    }\n",
       "</style>\n",
       "<table border=\"1\" class=\"dataframe\">\n",
       "  <thead>\n",
       "    <tr style=\"text-align: right;\">\n",
       "      <th></th>\n",
       "      <th>user id</th>\n",
       "      <th>item id</th>\n",
       "      <th>rating</th>\n",
       "      <th>date</th>\n",
       "    </tr>\n",
       "  </thead>\n",
       "  <tbody>\n",
       "    <tr>\n",
       "      <th>42083</th>\n",
       "      <td>600</td>\n",
       "      <td>651</td>\n",
       "      <td>4</td>\n",
       "      <td>1998-02-26 00:04:52</td>\n",
       "    </tr>\n",
       "    <tr>\n",
       "      <th>71825</th>\n",
       "      <td>607</td>\n",
       "      <td>494</td>\n",
       "      <td>5</td>\n",
       "      <td>1998-01-04 02:05:56</td>\n",
       "    </tr>\n",
       "    <tr>\n",
       "      <th>99535</th>\n",
       "      <td>875</td>\n",
       "      <td>1103</td>\n",
       "      <td>5</td>\n",
       "      <td>1997-10-10 06:32:24</td>\n",
       "    </tr>\n",
       "    <tr>\n",
       "      <th>47879</th>\n",
       "      <td>648</td>\n",
       "      <td>238</td>\n",
       "      <td>3</td>\n",
       "      <td>1997-12-15 19:18:55</td>\n",
       "    </tr>\n",
       "    <tr>\n",
       "      <th>36734</th>\n",
       "      <td>113</td>\n",
       "      <td>273</td>\n",
       "      <td>4</td>\n",
       "      <td>1997-10-04 03:26:49</td>\n",
       "    </tr>\n",
       "  </tbody>\n",
       "</table>\n",
       "</div>"
      ],
      "text/plain": [
       "       user id  item id  rating                date\n",
       "42083      600      651       4 1998-02-26 00:04:52\n",
       "71825      607      494       5 1998-01-04 02:05:56\n",
       "99535      875     1103       5 1997-10-10 06:32:24\n",
       "47879      648      238       3 1997-12-15 19:18:55\n",
       "36734      113      273       4 1997-10-04 03:26:49"
      ]
     },
     "execution_count": 32,
     "metadata": {},
     "output_type": "execute_result"
    }
   ],
   "source": [
    "df_test.head()"
   ]
  },
  {
   "cell_type": "code",
   "execution_count": 33,
   "id": "acffe113-6d3b-4ddf-923c-bcee4a8e5e42",
   "metadata": {},
   "outputs": [
    {
     "data": {
      "text/html": [
       "<div>\n",
       "<style scoped>\n",
       "    .dataframe tbody tr th:only-of-type {\n",
       "        vertical-align: middle;\n",
       "    }\n",
       "\n",
       "    .dataframe tbody tr th {\n",
       "        vertical-align: top;\n",
       "    }\n",
       "\n",
       "    .dataframe thead th {\n",
       "        text-align: right;\n",
       "    }\n",
       "</style>\n",
       "<table border=\"1\" class=\"dataframe\">\n",
       "  <thead>\n",
       "    <tr style=\"text-align: right;\">\n",
       "      <th></th>\n",
       "      <th>user id</th>\n",
       "      <th>item id</th>\n",
       "      <th>rating</th>\n",
       "      <th>date</th>\n",
       "    </tr>\n",
       "  </thead>\n",
       "  <tbody>\n",
       "    <tr>\n",
       "      <th>22302</th>\n",
       "      <td>429</td>\n",
       "      <td>24</td>\n",
       "      <td>3</td>\n",
       "      <td>1997-12-17 19:18:29</td>\n",
       "    </tr>\n",
       "    <tr>\n",
       "      <th>49609</th>\n",
       "      <td>480</td>\n",
       "      <td>511</td>\n",
       "      <td>4</td>\n",
       "      <td>1998-03-29 21:56:39</td>\n",
       "    </tr>\n",
       "    <tr>\n",
       "      <th>89251</th>\n",
       "      <td>916</td>\n",
       "      <td>746</td>\n",
       "      <td>3</td>\n",
       "      <td>1997-11-29 22:57:42</td>\n",
       "    </tr>\n",
       "    <tr>\n",
       "      <th>96385</th>\n",
       "      <td>892</td>\n",
       "      <td>196</td>\n",
       "      <td>4</td>\n",
       "      <td>1998-02-04 16:27:02</td>\n",
       "    </tr>\n",
       "    <tr>\n",
       "      <th>17569</th>\n",
       "      <td>90</td>\n",
       "      <td>83</td>\n",
       "      <td>5</td>\n",
       "      <td>1998-03-31 22:34:47</td>\n",
       "    </tr>\n",
       "  </tbody>\n",
       "</table>\n",
       "</div>"
      ],
      "text/plain": [
       "       user id  item id  rating                date\n",
       "22302      429       24       3 1997-12-17 19:18:29\n",
       "49609      480      511       4 1998-03-29 21:56:39\n",
       "89251      916      746       3 1997-11-29 22:57:42\n",
       "96385      892      196       4 1998-02-04 16:27:02\n",
       "17569       90       83       5 1998-03-31 22:34:47"
      ]
     },
     "execution_count": 33,
     "metadata": {},
     "output_type": "execute_result"
    }
   ],
   "source": [
    "df_train_5 = df_train.iloc[:5]\n",
    "df_train_5"
   ]
  },
  {
   "cell_type": "code",
   "execution_count": 35,
   "id": "3046386c-addc-41f9-928c-4cf41c924771",
   "metadata": {},
   "outputs": [
    {
     "name": "stdout",
     "output_type": "stream",
     "text": [
      "검정 학습셋: 1\n"
     ]
    },
    {
     "data": {
      "text/html": [
       "<div>\n",
       "<style scoped>\n",
       "    .dataframe tbody tr th:only-of-type {\n",
       "        vertical-align: middle;\n",
       "    }\n",
       "\n",
       "    .dataframe tbody tr th {\n",
       "        vertical-align: top;\n",
       "    }\n",
       "\n",
       "    .dataframe thead th {\n",
       "        text-align: right;\n",
       "    }\n",
       "</style>\n",
       "<table border=\"1\" class=\"dataframe\">\n",
       "  <thead>\n",
       "    <tr style=\"text-align: right;\">\n",
       "      <th></th>\n",
       "      <th>user id</th>\n",
       "      <th>item id</th>\n",
       "      <th>rating</th>\n",
       "      <th>date</th>\n",
       "    </tr>\n",
       "  </thead>\n",
       "  <tbody>\n",
       "    <tr>\n",
       "      <th>49609</th>\n",
       "      <td>480</td>\n",
       "      <td>511</td>\n",
       "      <td>4</td>\n",
       "      <td>1998-03-29 21:56:39</td>\n",
       "    </tr>\n",
       "    <tr>\n",
       "      <th>89251</th>\n",
       "      <td>916</td>\n",
       "      <td>746</td>\n",
       "      <td>3</td>\n",
       "      <td>1997-11-29 22:57:42</td>\n",
       "    </tr>\n",
       "    <tr>\n",
       "      <th>96385</th>\n",
       "      <td>892</td>\n",
       "      <td>196</td>\n",
       "      <td>4</td>\n",
       "      <td>1998-02-04 16:27:02</td>\n",
       "    </tr>\n",
       "    <tr>\n",
       "      <th>17569</th>\n",
       "      <td>90</td>\n",
       "      <td>83</td>\n",
       "      <td>5</td>\n",
       "      <td>1998-03-31 22:34:47</td>\n",
       "    </tr>\n",
       "  </tbody>\n",
       "</table>\n",
       "</div>"
      ],
      "text/plain": [
       "       user id  item id  rating                date\n",
       "49609      480      511       4 1998-03-29 21:56:39\n",
       "89251      916      746       3 1997-11-29 22:57:42\n",
       "96385      892      196       4 1998-02-04 16:27:02\n",
       "17569       90       83       5 1998-03-31 22:34:47"
      ]
     },
     "metadata": {},
     "output_type": "display_data"
    },
    {
     "name": "stdout",
     "output_type": "stream",
     "text": [
      "검정  테스트셋: 1\n"
     ]
    },
    {
     "data": {
      "text/html": [
       "<div>\n",
       "<style scoped>\n",
       "    .dataframe tbody tr th:only-of-type {\n",
       "        vertical-align: middle;\n",
       "    }\n",
       "\n",
       "    .dataframe tbody tr th {\n",
       "        vertical-align: top;\n",
       "    }\n",
       "\n",
       "    .dataframe thead th {\n",
       "        text-align: right;\n",
       "    }\n",
       "</style>\n",
       "<table border=\"1\" class=\"dataframe\">\n",
       "  <thead>\n",
       "    <tr style=\"text-align: right;\">\n",
       "      <th></th>\n",
       "      <th>user id</th>\n",
       "      <th>item id</th>\n",
       "      <th>rating</th>\n",
       "      <th>date</th>\n",
       "    </tr>\n",
       "  </thead>\n",
       "  <tbody>\n",
       "    <tr>\n",
       "      <th>22302</th>\n",
       "      <td>429</td>\n",
       "      <td>24</td>\n",
       "      <td>3</td>\n",
       "      <td>1997-12-17 19:18:29</td>\n",
       "    </tr>\n",
       "  </tbody>\n",
       "</table>\n",
       "</div>"
      ],
      "text/plain": [
       "       user id  item id  rating                date\n",
       "22302      429       24       3 1997-12-17 19:18:29"
      ]
     },
     "metadata": {},
     "output_type": "display_data"
    },
    {
     "name": "stdout",
     "output_type": "stream",
     "text": [
      "Validation #1, MSE: 1.0\n",
      "검정 학습셋: 2\n"
     ]
    },
    {
     "data": {
      "text/html": [
       "<div>\n",
       "<style scoped>\n",
       "    .dataframe tbody tr th:only-of-type {\n",
       "        vertical-align: middle;\n",
       "    }\n",
       "\n",
       "    .dataframe tbody tr th {\n",
       "        vertical-align: top;\n",
       "    }\n",
       "\n",
       "    .dataframe thead th {\n",
       "        text-align: right;\n",
       "    }\n",
       "</style>\n",
       "<table border=\"1\" class=\"dataframe\">\n",
       "  <thead>\n",
       "    <tr style=\"text-align: right;\">\n",
       "      <th></th>\n",
       "      <th>user id</th>\n",
       "      <th>item id</th>\n",
       "      <th>rating</th>\n",
       "      <th>date</th>\n",
       "    </tr>\n",
       "  </thead>\n",
       "  <tbody>\n",
       "    <tr>\n",
       "      <th>22302</th>\n",
       "      <td>429</td>\n",
       "      <td>24</td>\n",
       "      <td>3</td>\n",
       "      <td>1997-12-17 19:18:29</td>\n",
       "    </tr>\n",
       "    <tr>\n",
       "      <th>89251</th>\n",
       "      <td>916</td>\n",
       "      <td>746</td>\n",
       "      <td>3</td>\n",
       "      <td>1997-11-29 22:57:42</td>\n",
       "    </tr>\n",
       "    <tr>\n",
       "      <th>96385</th>\n",
       "      <td>892</td>\n",
       "      <td>196</td>\n",
       "      <td>4</td>\n",
       "      <td>1998-02-04 16:27:02</td>\n",
       "    </tr>\n",
       "    <tr>\n",
       "      <th>17569</th>\n",
       "      <td>90</td>\n",
       "      <td>83</td>\n",
       "      <td>5</td>\n",
       "      <td>1998-03-31 22:34:47</td>\n",
       "    </tr>\n",
       "  </tbody>\n",
       "</table>\n",
       "</div>"
      ],
      "text/plain": [
       "       user id  item id  rating                date\n",
       "22302      429       24       3 1997-12-17 19:18:29\n",
       "89251      916      746       3 1997-11-29 22:57:42\n",
       "96385      892      196       4 1998-02-04 16:27:02\n",
       "17569       90       83       5 1998-03-31 22:34:47"
      ]
     },
     "metadata": {},
     "output_type": "display_data"
    },
    {
     "name": "stdout",
     "output_type": "stream",
     "text": [
      "검정  테스트셋: 2\n"
     ]
    },
    {
     "data": {
      "text/html": [
       "<div>\n",
       "<style scoped>\n",
       "    .dataframe tbody tr th:only-of-type {\n",
       "        vertical-align: middle;\n",
       "    }\n",
       "\n",
       "    .dataframe tbody tr th {\n",
       "        vertical-align: top;\n",
       "    }\n",
       "\n",
       "    .dataframe thead th {\n",
       "        text-align: right;\n",
       "    }\n",
       "</style>\n",
       "<table border=\"1\" class=\"dataframe\">\n",
       "  <thead>\n",
       "    <tr style=\"text-align: right;\">\n",
       "      <th></th>\n",
       "      <th>user id</th>\n",
       "      <th>item id</th>\n",
       "      <th>rating</th>\n",
       "      <th>date</th>\n",
       "    </tr>\n",
       "  </thead>\n",
       "  <tbody>\n",
       "    <tr>\n",
       "      <th>49609</th>\n",
       "      <td>480</td>\n",
       "      <td>511</td>\n",
       "      <td>4</td>\n",
       "      <td>1998-03-29 21:56:39</td>\n",
       "    </tr>\n",
       "  </tbody>\n",
       "</table>\n",
       "</div>"
      ],
      "text/plain": [
       "       user id  item id  rating                date\n",
       "49609      480      511       4 1998-03-29 21:56:39"
      ]
     },
     "metadata": {},
     "output_type": "display_data"
    },
    {
     "name": "stdout",
     "output_type": "stream",
     "text": [
      "Validation #2, MSE: 0.0625\n",
      "검정 학습셋: 3\n"
     ]
    },
    {
     "data": {
      "text/html": [
       "<div>\n",
       "<style scoped>\n",
       "    .dataframe tbody tr th:only-of-type {\n",
       "        vertical-align: middle;\n",
       "    }\n",
       "\n",
       "    .dataframe tbody tr th {\n",
       "        vertical-align: top;\n",
       "    }\n",
       "\n",
       "    .dataframe thead th {\n",
       "        text-align: right;\n",
       "    }\n",
       "</style>\n",
       "<table border=\"1\" class=\"dataframe\">\n",
       "  <thead>\n",
       "    <tr style=\"text-align: right;\">\n",
       "      <th></th>\n",
       "      <th>user id</th>\n",
       "      <th>item id</th>\n",
       "      <th>rating</th>\n",
       "      <th>date</th>\n",
       "    </tr>\n",
       "  </thead>\n",
       "  <tbody>\n",
       "    <tr>\n",
       "      <th>22302</th>\n",
       "      <td>429</td>\n",
       "      <td>24</td>\n",
       "      <td>3</td>\n",
       "      <td>1997-12-17 19:18:29</td>\n",
       "    </tr>\n",
       "    <tr>\n",
       "      <th>49609</th>\n",
       "      <td>480</td>\n",
       "      <td>511</td>\n",
       "      <td>4</td>\n",
       "      <td>1998-03-29 21:56:39</td>\n",
       "    </tr>\n",
       "    <tr>\n",
       "      <th>96385</th>\n",
       "      <td>892</td>\n",
       "      <td>196</td>\n",
       "      <td>4</td>\n",
       "      <td>1998-02-04 16:27:02</td>\n",
       "    </tr>\n",
       "    <tr>\n",
       "      <th>17569</th>\n",
       "      <td>90</td>\n",
       "      <td>83</td>\n",
       "      <td>5</td>\n",
       "      <td>1998-03-31 22:34:47</td>\n",
       "    </tr>\n",
       "  </tbody>\n",
       "</table>\n",
       "</div>"
      ],
      "text/plain": [
       "       user id  item id  rating                date\n",
       "22302      429       24       3 1997-12-17 19:18:29\n",
       "49609      480      511       4 1998-03-29 21:56:39\n",
       "96385      892      196       4 1998-02-04 16:27:02\n",
       "17569       90       83       5 1998-03-31 22:34:47"
      ]
     },
     "metadata": {},
     "output_type": "display_data"
    },
    {
     "name": "stdout",
     "output_type": "stream",
     "text": [
      "검정  테스트셋: 3\n"
     ]
    },
    {
     "data": {
      "text/html": [
       "<div>\n",
       "<style scoped>\n",
       "    .dataframe tbody tr th:only-of-type {\n",
       "        vertical-align: middle;\n",
       "    }\n",
       "\n",
       "    .dataframe tbody tr th {\n",
       "        vertical-align: top;\n",
       "    }\n",
       "\n",
       "    .dataframe thead th {\n",
       "        text-align: right;\n",
       "    }\n",
       "</style>\n",
       "<table border=\"1\" class=\"dataframe\">\n",
       "  <thead>\n",
       "    <tr style=\"text-align: right;\">\n",
       "      <th></th>\n",
       "      <th>user id</th>\n",
       "      <th>item id</th>\n",
       "      <th>rating</th>\n",
       "      <th>date</th>\n",
       "    </tr>\n",
       "  </thead>\n",
       "  <tbody>\n",
       "    <tr>\n",
       "      <th>89251</th>\n",
       "      <td>916</td>\n",
       "      <td>746</td>\n",
       "      <td>3</td>\n",
       "      <td>1997-11-29 22:57:42</td>\n",
       "    </tr>\n",
       "  </tbody>\n",
       "</table>\n",
       "</div>"
      ],
      "text/plain": [
       "       user id  item id  rating                date\n",
       "89251      916      746       3 1997-11-29 22:57:42"
      ]
     },
     "metadata": {},
     "output_type": "display_data"
    },
    {
     "name": "stdout",
     "output_type": "stream",
     "text": [
      "Validation #3, MSE: 1.0\n",
      "검정 학습셋: 4\n"
     ]
    },
    {
     "data": {
      "text/html": [
       "<div>\n",
       "<style scoped>\n",
       "    .dataframe tbody tr th:only-of-type {\n",
       "        vertical-align: middle;\n",
       "    }\n",
       "\n",
       "    .dataframe tbody tr th {\n",
       "        vertical-align: top;\n",
       "    }\n",
       "\n",
       "    .dataframe thead th {\n",
       "        text-align: right;\n",
       "    }\n",
       "</style>\n",
       "<table border=\"1\" class=\"dataframe\">\n",
       "  <thead>\n",
       "    <tr style=\"text-align: right;\">\n",
       "      <th></th>\n",
       "      <th>user id</th>\n",
       "      <th>item id</th>\n",
       "      <th>rating</th>\n",
       "      <th>date</th>\n",
       "    </tr>\n",
       "  </thead>\n",
       "  <tbody>\n",
       "    <tr>\n",
       "      <th>22302</th>\n",
       "      <td>429</td>\n",
       "      <td>24</td>\n",
       "      <td>3</td>\n",
       "      <td>1997-12-17 19:18:29</td>\n",
       "    </tr>\n",
       "    <tr>\n",
       "      <th>49609</th>\n",
       "      <td>480</td>\n",
       "      <td>511</td>\n",
       "      <td>4</td>\n",
       "      <td>1998-03-29 21:56:39</td>\n",
       "    </tr>\n",
       "    <tr>\n",
       "      <th>89251</th>\n",
       "      <td>916</td>\n",
       "      <td>746</td>\n",
       "      <td>3</td>\n",
       "      <td>1997-11-29 22:57:42</td>\n",
       "    </tr>\n",
       "    <tr>\n",
       "      <th>17569</th>\n",
       "      <td>90</td>\n",
       "      <td>83</td>\n",
       "      <td>5</td>\n",
       "      <td>1998-03-31 22:34:47</td>\n",
       "    </tr>\n",
       "  </tbody>\n",
       "</table>\n",
       "</div>"
      ],
      "text/plain": [
       "       user id  item id  rating                date\n",
       "22302      429       24       3 1997-12-17 19:18:29\n",
       "49609      480      511       4 1998-03-29 21:56:39\n",
       "89251      916      746       3 1997-11-29 22:57:42\n",
       "17569       90       83       5 1998-03-31 22:34:47"
      ]
     },
     "metadata": {},
     "output_type": "display_data"
    },
    {
     "name": "stdout",
     "output_type": "stream",
     "text": [
      "검정  테스트셋: 4\n"
     ]
    },
    {
     "data": {
      "text/html": [
       "<div>\n",
       "<style scoped>\n",
       "    .dataframe tbody tr th:only-of-type {\n",
       "        vertical-align: middle;\n",
       "    }\n",
       "\n",
       "    .dataframe tbody tr th {\n",
       "        vertical-align: top;\n",
       "    }\n",
       "\n",
       "    .dataframe thead th {\n",
       "        text-align: right;\n",
       "    }\n",
       "</style>\n",
       "<table border=\"1\" class=\"dataframe\">\n",
       "  <thead>\n",
       "    <tr style=\"text-align: right;\">\n",
       "      <th></th>\n",
       "      <th>user id</th>\n",
       "      <th>item id</th>\n",
       "      <th>rating</th>\n",
       "      <th>date</th>\n",
       "    </tr>\n",
       "  </thead>\n",
       "  <tbody>\n",
       "    <tr>\n",
       "      <th>96385</th>\n",
       "      <td>892</td>\n",
       "      <td>196</td>\n",
       "      <td>4</td>\n",
       "      <td>1998-02-04 16:27:02</td>\n",
       "    </tr>\n",
       "  </tbody>\n",
       "</table>\n",
       "</div>"
      ],
      "text/plain": [
       "       user id  item id  rating                date\n",
       "96385      892      196       4 1998-02-04 16:27:02"
      ]
     },
     "metadata": {},
     "output_type": "display_data"
    },
    {
     "name": "stdout",
     "output_type": "stream",
     "text": [
      "Validation #4, MSE: 0.0625\n",
      "검정 학습셋: 5\n"
     ]
    },
    {
     "data": {
      "text/html": [
       "<div>\n",
       "<style scoped>\n",
       "    .dataframe tbody tr th:only-of-type {\n",
       "        vertical-align: middle;\n",
       "    }\n",
       "\n",
       "    .dataframe tbody tr th {\n",
       "        vertical-align: top;\n",
       "    }\n",
       "\n",
       "    .dataframe thead th {\n",
       "        text-align: right;\n",
       "    }\n",
       "</style>\n",
       "<table border=\"1\" class=\"dataframe\">\n",
       "  <thead>\n",
       "    <tr style=\"text-align: right;\">\n",
       "      <th></th>\n",
       "      <th>user id</th>\n",
       "      <th>item id</th>\n",
       "      <th>rating</th>\n",
       "      <th>date</th>\n",
       "    </tr>\n",
       "  </thead>\n",
       "  <tbody>\n",
       "    <tr>\n",
       "      <th>22302</th>\n",
       "      <td>429</td>\n",
       "      <td>24</td>\n",
       "      <td>3</td>\n",
       "      <td>1997-12-17 19:18:29</td>\n",
       "    </tr>\n",
       "    <tr>\n",
       "      <th>49609</th>\n",
       "      <td>480</td>\n",
       "      <td>511</td>\n",
       "      <td>4</td>\n",
       "      <td>1998-03-29 21:56:39</td>\n",
       "    </tr>\n",
       "    <tr>\n",
       "      <th>89251</th>\n",
       "      <td>916</td>\n",
       "      <td>746</td>\n",
       "      <td>3</td>\n",
       "      <td>1997-11-29 22:57:42</td>\n",
       "    </tr>\n",
       "    <tr>\n",
       "      <th>96385</th>\n",
       "      <td>892</td>\n",
       "      <td>196</td>\n",
       "      <td>4</td>\n",
       "      <td>1998-02-04 16:27:02</td>\n",
       "    </tr>\n",
       "  </tbody>\n",
       "</table>\n",
       "</div>"
      ],
      "text/plain": [
       "       user id  item id  rating                date\n",
       "22302      429       24       3 1997-12-17 19:18:29\n",
       "49609      480      511       4 1998-03-29 21:56:39\n",
       "89251      916      746       3 1997-11-29 22:57:42\n",
       "96385      892      196       4 1998-02-04 16:27:02"
      ]
     },
     "metadata": {},
     "output_type": "display_data"
    },
    {
     "name": "stdout",
     "output_type": "stream",
     "text": [
      "검정  테스트셋: 5\n"
     ]
    },
    {
     "data": {
      "text/html": [
       "<div>\n",
       "<style scoped>\n",
       "    .dataframe tbody tr th:only-of-type {\n",
       "        vertical-align: middle;\n",
       "    }\n",
       "\n",
       "    .dataframe tbody tr th {\n",
       "        vertical-align: top;\n",
       "    }\n",
       "\n",
       "    .dataframe thead th {\n",
       "        text-align: right;\n",
       "    }\n",
       "</style>\n",
       "<table border=\"1\" class=\"dataframe\">\n",
       "  <thead>\n",
       "    <tr style=\"text-align: right;\">\n",
       "      <th></th>\n",
       "      <th>user id</th>\n",
       "      <th>item id</th>\n",
       "      <th>rating</th>\n",
       "      <th>date</th>\n",
       "    </tr>\n",
       "  </thead>\n",
       "  <tbody>\n",
       "    <tr>\n",
       "      <th>17569</th>\n",
       "      <td>90</td>\n",
       "      <td>83</td>\n",
       "      <td>5</td>\n",
       "      <td>1998-03-31 22:34:47</td>\n",
       "    </tr>\n",
       "  </tbody>\n",
       "</table>\n",
       "</div>"
      ],
      "text/plain": [
       "       user id  item id  rating                date\n",
       "17569       90       83       5 1998-03-31 22:34:47"
      ]
     },
     "metadata": {},
     "output_type": "display_data"
    },
    {
     "name": "stdout",
     "output_type": "stream",
     "text": [
      "Validation #5, MSE: 2.25\n",
      "[0.9999999999999991, 0.0625, 1.0, 0.0625, 2.2500000000000013] 0.875\n"
     ]
    }
   ],
   "source": [
    "from sklearn.model_selection import KFold\n",
    "from sklearn.pipeline import make_pipeline\n",
    "from sklearn.preprocessing import TargetEncoder\n",
    "from sklearn.linear_model import LinearRegression\n",
    "from sklearn.metrics import mean_squared_error\n",
    "cv = KFold(5)\n",
    "cnt = 1\n",
    "reg_lr = make_pipeline( # 전처리기와 모델을 결합하여 하나의 모델 객체로 구성합니다.\n",
    "    TargetEncoder(target_type='continuous', cv=2), # 범주형 변수의 수준별 Target(Rating)의 평균으로 인코딩\n",
    "    LinearRegression() # 선형 회귀 모델 \n",
    ")\n",
    "X_lr = ['user id', 'item id']\n",
    "reg_lr.fit(df_train[X_lr], df_train['rating'])\n",
    "scores = list()\n",
    "for train_idx, test_idx in cv.split(df_train_5):\n",
    "    df_cv_train = df_train_5.iloc[train_idx] # 검증 학습셋\n",
    "    print(\"검정 학습셋: {}\".format(cnt))\n",
    "    display(df_cv_train)\n",
    "    reg_lr.fit(df_cv_train[X_lr], df_cv_train['rating'])\n",
    "\n",
    "    print(\"검정  테스트셋: {}\".format(cnt))\n",
    "    df_cv_test = df_train_5.iloc[test_idx] # 검증 테스트셋\n",
    "    prd = reg_lr.predict(df_cv_test[X_lr]) # 예측합니다.\n",
    "    display(df_cv_test)\n",
    "    score = mean_squared_error(df_cv_test['rating'], prd) # 지표 측정합니다.\n",
    "    scores.append(score)\n",
    "    print('Validation #{}, MSE: {:.5}'.format(cnt, score)) # 검정 라운드별 성능을 출혁합니다.\n",
    "    cnt += 1\n",
    "print(scores, np.mean(scores))"
   ]
  },
  {
   "cell_type": "code",
   "execution_count": 36,
   "id": "2eaff93d-c284-4d0b-be97-b925ac4fed59",
   "metadata": {},
   "outputs": [
    {
     "data": {
      "text/plain": [
       "{'fit_time': array([0.00627232, 0.00237966, 0.002424  , 0.00209332, 0.00242519]),\n",
       " 'score_time': array([0.00203919, 0.00120831, 0.00086951, 0.00102186, 0.00083566]),\n",
       " 'test_score': array([-1.    , -0.0625, -1.    , -0.0625, -2.25  ])}"
      ]
     },
     "execution_count": 36,
     "metadata": {},
     "output_type": "execute_result"
    }
   ],
   "source": [
    "from sklearn.model_selection import cross_validate\n",
    "# 위의 루틴이 구현한 함수입니다. cross_validate\n",
    "cross_validate(\n",
    "    reg_lr, # 평\n",
    "    df_train_5[X_lr],\n",
    "    df_train_5['rating'],\n",
    "    cv=cv,\n",
    "    scoring='neg_mean_squared_error'\n",
    ")"
   ]
  },
  {
   "cell_type": "code",
   "execution_count": 37,
   "id": "187ca48a-cc80-462d-9d77-3361578c1ddd",
   "metadata": {},
   "outputs": [],
   "source": [
    "# 모델 검증 프로세스부터 구현합니다!!!\n",
    "from sklearn.model_selection import cross_validate\n",
    "from sklearn.metrics import r2_score\n",
    "\n",
    "# 5겹의 교차 검증 Splitter를 준비합니다.\n",
    "cv = KFold(n_splits=5, random_state=123, shuffle=True) \n",
    "def eval_model(reg_model, df, X):\n",
    "    \"\"\"\n",
    "    모델의 성능 검증 루틴입니다.\n",
    "    Parameters:\n",
    "        df: pd.DataFrame\n",
    "            데이터셋\n",
    "        X: list[str]\n",
    "            입력변수 리스트\n",
    "    Returns:\n",
    "        교차검증결과\n",
    "    \"\"\"\n",
    "    return cross_validate(\n",
    "        reg_model, \n",
    "        df[X], df['rating'], cv=cv, scoring='r2', return_train_score=True\n",
    "    )"
   ]
  },
  {
   "cell_type": "code",
   "execution_count": 38,
   "id": "5178e76f-7445-4a0f-9f2e-5b35e568bbc7",
   "metadata": {},
   "outputs": [
    {
     "data": {
      "text/plain": [
       "array([[3.39303134, 3.43011389],\n",
       "       [3.72487552, 4.23383989],\n",
       "       [3.38681329, 3.62972923],\n",
       "       ...,\n",
       "       [3.2430435 , 4.14358384],\n",
       "       [3.71696198, 4.46338322],\n",
       "       [3.2430435 , 3.78169614]])"
      ]
     },
     "execution_count": 38,
     "metadata": {},
     "output_type": "execute_result"
    }
   ],
   "source": [
    "from sklearn.preprocessing import TargetEncoder\n",
    "# 사용자의 rating 평균, 영화의 rating 평균으로 인코딩해줍니다.\n",
    "tgt = TargetEncoder(target_type='continuous')\n",
    "tgt.fit(df_train[['user id', 'item id']], df_train['rating'])\n",
    "# user id, item id 별 target(rating)에 대한 평균으로 변환됩니다.\n",
    "tgt.transform(df_train[['user id', 'item id']])"
   ]
  },
  {
   "cell_type": "code",
   "execution_count": 74,
   "id": "2f94639d-468f-4fba-9d8d-0855cbe2b00a",
   "metadata": {},
   "outputs": [
    {
     "data": {
      "text/plain": [
       "(943, 1647)"
      ]
     },
     "execution_count": 74,
     "metadata": {},
     "output_type": "execute_result"
    }
   ],
   "source": [
    "df_train['user id'].nunique(), df_train['item id'].nunique()"
   ]
  },
  {
   "cell_type": "code",
   "execution_count": 70,
   "id": "ac49fe65-b042-4ea2-ae79-a2adb83f42f6",
   "metadata": {},
   "outputs": [
    {
     "data": {
      "text/plain": [
       "22302    3.392749\n",
       "49609    3.727273\n",
       "89251    3.386454\n",
       "Name: rating, dtype: float64"
      ]
     },
     "execution_count": 70,
     "metadata": {},
     "output_type": "execute_result"
    }
   ],
   "source": [
    "df_train.groupby('user id')['rating'].transform('mean')[:3]"
   ]
  },
  {
   "cell_type": "code",
   "execution_count": null,
   "id": "98d511cc-d7a1-4882-944c-8a375f7595fc",
   "metadata": {},
   "outputs": [],
   "source": [
    "df_train.groupby('item id')['rating'].transform('mean')[:3]"
   ]
  },
  {
   "cell_type": "code",
   "execution_count": 40,
   "id": "65dab229-45a7-45b4-af22-b3d9ff15f00d",
   "metadata": {},
   "outputs": [
    {
     "data": {
      "text/plain": [
       "array([[0., 0., 0., ..., 0., 0., 0.],\n",
       "       [0., 0., 0., ..., 0., 0., 0.],\n",
       "       [0., 0., 0., ..., 0., 0., 0.],\n",
       "       [0., 0., 0., ..., 0., 0., 0.],\n",
       "       [0., 0., 0., ..., 0., 0., 0.]])"
      ]
     },
     "execution_count": 40,
     "metadata": {},
     "output_type": "execute_result"
    }
   ],
   "source": [
    "from sklearn.preprocessing import OneHotEncoder\n",
    "# 반면 OneHot 인코더는 범주형 변수의 수준만큼 변수를 만들어냅니다.\n",
    "ohe = OneHotEncoder(sparse_output=False)\n",
    "X_ohe = ohe.fit_transform(df_train[['user id', 'item id']])\n",
    "X_ohe[:5]"
   ]
  },
  {
   "cell_type": "code",
   "execution_count": 43,
   "id": "c81fbe01-e03d-4340-b298-dce382bc003c",
   "metadata": {},
   "outputs": [
    {
     "data": {
      "text/plain": [
       "((80000, 2590), array([2., 2., 2., 2., 2.]))"
      ]
     },
     "execution_count": 43,
     "metadata": {},
     "output_type": "execute_result"
    }
   ],
   "source": [
    "# 실제 입력 변수는 2개이지만, 수준의 합만큼의 변수를 만들고 1(Hot)인 수는 입력변수 만큼입니다.\n",
    "X_ohe.shape, np.sum(X_ohe, axis=1)[:5]"
   ]
  },
  {
   "cell_type": "code",
   "execution_count": 44,
   "id": "21f0420e-a9db-4127-a977-7994fa8b2864",
   "metadata": {},
   "outputs": [
    {
     "data": {
      "text/plain": [
       "({'fit_time': array([0.03649974, 0.06941009, 0.06401157, 0.0647223 , 0.06479001]),\n",
       "  'score_time': array([0.00537443, 0.01356721, 0.00744104, 0.00739551, 0.00742865]),\n",
       "  'test_score': array([0.27155589, 0.27543624, 0.27216794, 0.26486013, 0.28174167]),\n",
       "  'train_score': array([0.32304118, 0.3221079 , 0.32282782, 0.32356252, 0.32019925])},\n",
       " 0.27315237408470194)"
      ]
     },
     "execution_count": 44,
     "metadata": {},
     "output_type": "execute_result"
    }
   ],
   "source": [
    "reg_lr_tgt = make_pipeline( # 전처리기와 모델을 결합하여 하나의 모델 객체로 구성합니다.\n",
    "    TargetEncoder(target_type='continuous'), # 범주형 변수의 수준별 Target(Rating)의 평균으로 인코딩\n",
    "    LinearRegression() # 선형 회귀 모델 \n",
    ")\n",
    "result_tgt = eval_model(reg_lr_tgt, df_train, ['user id', 'item id'])\n",
    "result_tgt, np.mean(result_tgt['test_score'])"
   ]
  },
  {
   "cell_type": "code",
   "execution_count": 45,
   "id": "561707eb-55e2-496c-a473-3728ae98f1b9",
   "metadata": {},
   "outputs": [
    {
     "name": "stderr",
     "output_type": "stream",
     "text": [
      "/home/multicampus/.local/lib/python3.11/site-packages/sklearn/preprocessing/_encoders.py:228: UserWarning: Found unknown categories in columns [1] during transform. These unknown categories will be encoded as all zeros\n",
      "  warnings.warn(\n",
      "/home/multicampus/.local/lib/python3.11/site-packages/sklearn/preprocessing/_encoders.py:228: UserWarning: Found unknown categories in columns [1] during transform. These unknown categories will be encoded as all zeros\n",
      "  warnings.warn(\n",
      "/home/multicampus/.local/lib/python3.11/site-packages/sklearn/preprocessing/_encoders.py:228: UserWarning: Found unknown categories in columns [1] during transform. These unknown categories will be encoded as all zeros\n",
      "  warnings.warn(\n",
      "/home/multicampus/.local/lib/python3.11/site-packages/sklearn/preprocessing/_encoders.py:228: UserWarning: Found unknown categories in columns [1] during transform. These unknown categories will be encoded as all zeros\n",
      "  warnings.warn(\n",
      "/home/multicampus/.local/lib/python3.11/site-packages/sklearn/preprocessing/_encoders.py:228: UserWarning: Found unknown categories in columns [1] during transform. These unknown categories will be encoded as all zeros\n",
      "  warnings.warn(\n"
     ]
    },
    {
     "data": {
      "text/plain": [
       "({'fit_time': array([0.28595328, 0.1668644 , 0.23356891, 0.1774888 , 0.17118883]),\n",
       "  'score_time': array([0.01830602, 0.01358843, 0.01365018, 0.01781201, 0.01582623]),\n",
       "  'test_score': array([0.28795111, 0.29009013, 0.28802192, 0.28457031, 0.29605311]),\n",
       "  'train_score': array([0.35288361, 0.35203302, 0.35290813, 0.35338584, 0.34996948])},\n",
       " 0.2893373152305244)"
      ]
     },
     "execution_count": 45,
     "metadata": {},
     "output_type": "execute_result"
    }
   ],
   "source": [
    "reg_lr_ohe = make_pipeline( # 전처리기와 모델을 결합하여 하나의 모델 객체로 구성합니다.\n",
    "    OneHotEncoder(drop='first', handle_unknown='ignore'), #  OneHotEncoder, 선형회귀 모델은 drop='first' 필요\n",
    "    LinearRegression() # 선형 회귀 모델 \n",
    ")\n",
    "result_ohe = eval_model(reg_lr_ohe, df_train, ['user id', 'item id'])\n",
    "result_ohe, np.mean(result_ohe['test_score'])"
   ]
  },
  {
   "cell_type": "code",
   "execution_count": 46,
   "id": "ac3192a6-50f5-401a-8bfa-5b5df3855453",
   "metadata": {},
   "outputs": [],
   "source": [
    "# 위 과정을 수동으로 구하여 넣어줍니다.\n",
    "df_train_mean = df_train.assign(\n",
    "    user_id_mean = df_train.groupby('user id')['rating'].transform('mean'),\n",
    "    item_id_mean = df_train.groupby('item id')['rating'].transform('mean')\n",
    ")"
   ]
  },
  {
   "cell_type": "code",
   "execution_count": 47,
   "id": "757a3adb-6656-4fbf-9a36-603d5da0e86b",
   "metadata": {},
   "outputs": [
    {
     "data": {
      "text/plain": [
       "({'fit_time': array([0.00681043, 0.01061249, 0.01075649, 0.0107429 , 0.00943851]),\n",
       "  'score_time': array([0.00958133, 0.00353527, 0.00369525, 0.01224232, 0.00366688]),\n",
       "  'test_score': array([0.31608035, 0.32183405, 0.31761742, 0.31227918, 0.32951272]),\n",
       "  'train_score': array([0.32041141, 0.318958  , 0.32003185, 0.32136307, 0.31706177])},\n",
       " 0.31946474225901395)"
      ]
     },
     "execution_count": 47,
     "metadata": {},
     "output_type": "execute_result"
    }
   ],
   "source": [
    "reg_lr_mean = LinearRegression() # 선형 회귀 모델\n",
    "result_mean = eval_model(reg_lr_mean, df_train_mean, ['user_id_mean', 'item_id_mean'])\n",
    "result_mean, np.mean(result_mean['test_score'])"
   ]
  },
  {
   "cell_type": "code",
   "execution_count": 48,
   "id": "8db615ad-128b-4943-8195-95b9c1215cac",
   "metadata": {},
   "outputs": [
    {
     "data": {
      "text/plain": [
       "user id\n",
       "1    3.638009\n",
       "2    3.750000\n",
       "3    2.725000\n",
       "4    4.200000\n",
       "5    2.914286\n",
       "Name: rating, dtype: float64"
      ]
     },
     "execution_count": 48,
     "metadata": {},
     "output_type": "execute_result"
    }
   ],
   "source": [
    "df_train.groupby('user id')['rating'].agg('mean').head()"
   ]
  },
  {
   "cell_type": "code",
   "execution_count": 49,
   "id": "97d07a1c-634f-441f-b531-584632910133",
   "metadata": {},
   "outputs": [],
   "source": [
    "rating_mean = df_train['rating'].mean()\n",
    "df_test_mean = df_test.assign(\n",
    "    user_id_mean = lambda x: x['user id'].map(df_train.groupby('user id')['rating'].agg('mean')).fillna(rating_mean),\n",
    "    item_id_mean = lambda x: x['item id'].map(df_train.groupby('item id')['rating'].agg('mean')).fillna(rating_mean)\n",
    ")"
   ]
  },
  {
   "cell_type": "code",
   "execution_count": 50,
   "id": "cfb5f720-8af5-4d9b-97da-64523ac696f4",
   "metadata": {},
   "outputs": [
    {
     "name": "stdout",
     "output_type": "stream",
     "text": [
      "tgt 0.27524365042696797\n",
      "ohe 0.2945509586497558\n",
      "mean 0.2738418209165743\n"
     ]
    },
    {
     "name": "stderr",
     "output_type": "stream",
     "text": [
      "/home/multicampus/.local/lib/python3.11/site-packages/sklearn/preprocessing/_encoders.py:228: UserWarning: Found unknown categories in columns [1] during transform. These unknown categories will be encoded as all zeros\n",
      "  warnings.warn(\n"
     ]
    }
   ],
   "source": [
    "from sklearn.metrics import r2_score\n",
    "reg_lr_tgt.fit(df_train[['user id', 'item id']], df_train['rating'])\n",
    "print(\n",
    "    'tgt', r2_score(df_test['rating'], reg_lr_tgt.predict(df_test[['user id', 'item id']]))\n",
    ")\n",
    "reg_lr_ohe.fit(df_train[['user id', 'item id']], df_train['rating'])\n",
    "print(\n",
    "    'ohe', r2_score(df_test['rating'], reg_lr_ohe.predict(df_test[['user id', 'item id']]))\n",
    ")\n",
    "reg_lr_mean.fit(df_train_mean[['user_id_mean', 'item_id_mean']], df_train_mean['rating'])\n",
    "print(\n",
    "    'mean', r2_score(df_test_mean['rating'], reg_lr_mean.predict(df_test_mean[['user_id_mean', 'item_id_mean']]))\n",
    ")"
   ]
  },
  {
   "cell_type": "markdown",
   "id": "6d4e25c1-9ae7-48da-b388-b8d1dc0a8c1f",
   "metadata": {},
   "source": [
    "**검증 결과 수동으로 평균을 구한 결과가 더 검증 성능이 좋습니다** \n",
    "> 누수 현상(Data Leakage)에 의해 검증 성능이 결과가 더 좋아진 것입니다.\n",
    "\n",
    "> 실제 test 셋에서 Data Leakage를 고려한다면 많이 떨어질 것으로 예상됩니다."
   ]
  },
  {
   "cell_type": "code",
   "execution_count": 51,
   "id": "92584d91-5154-43f7-9e37-055b3998690c",
   "metadata": {},
   "outputs": [
    {
     "data": {
      "text/plain": [
       "0.27520953319604746"
      ]
     },
     "execution_count": 51,
     "metadata": {},
     "output_type": "execute_result"
    }
   ],
   "source": [
    "reg_lr = make_pipeline( # 전처리기와 모델을 결합하여 하나의 모델 객체로 구성합니다.\n",
    "    TargetEncoder(target_type='continuous'), # 범주형 변수의 수준별 Target(Rating)의 평균으로 인코딩\n",
    "    LinearRegression() # 선형 회귀 모델 \n",
    ")\n",
    "X_lr = ['user id', 'item id']\n",
    "reg_lr.fit(df_train[X_lr], df_train['rating'])\n",
    "r2_score(df_test['rating'], reg_lr.predict(df_test[X_lr]))"
   ]
  },
  {
   "cell_type": "code",
   "execution_count": 52,
   "id": "d73ea130-02e9-49cf-8e21-a52a737c4404",
   "metadata": {},
   "outputs": [
    {
     "data": {
      "text/plain": [
       "0.2738418209165743"
      ]
     },
     "execution_count": 52,
     "metadata": {},
     "output_type": "execute_result"
    }
   ],
   "source": [
    "df_test_mean = df_test.assign( # df_train에서 구한 통계정보로 test의 user_id_mean, item_id_mean을 구합니다.\n",
    "    user_id_mean = df_test['user id'].map(\n",
    "        df_train.groupby('user id')['rating'].agg('mean')\n",
    "    ).fillna(df_train['rating'].mean()), # 결측치는 전체 평점으로 채웁니다.\n",
    "    item_id_mean = df_test['item id'].map(\n",
    "        df_train.groupby('item id')['rating'].agg('mean')\n",
    "    ).fillna(df_train['rating'].mean()) # 결측치는 전체 평점으로 채웁니다.\n",
    ")\n",
    "reg_lr = LinearRegression()\n",
    "X_lr = ['user_id_mean', 'item_id_mean']\n",
    "reg_lr.fit(df_train_mean[X_lr], df_train_mean['rating'])\n",
    "r2_score(df_test_mean['rating'], reg_lr.predict(df_test_mean[X_lr]))"
   ]
  },
  {
   "cell_type": "markdown",
   "id": "6912f7dc-bff7-42d0-9e09-6f5c0eb961ce",
   "metadata": {},
   "source": [
    "**실습**\n",
    "\n",
    "사용자의 직업, 성별과 영화 장르 정보를 입력 변수에 추가하여 rating  예측 모델의 기능을 추가해봅니다\n",
    "\n",
    "직업과 성별은 OneHotEncoder를 사용합니다. \n",
    "\n",
    "그리고 장르는 정르의 해당 여부를 그대로 전달합니다."
   ]
  },
  {
   "cell_type": "code",
   "execution_count": 53,
   "id": "a9b26818-c1a8-4a64-a8e7-b305127f8452",
   "metadata": {},
   "outputs": [],
   "source": [
    "from sklearn.compose import ColumnTransformer\n",
    "from sklearn.preprocessing import OneHotEncoder"
   ]
  },
  {
   "cell_type": "code",
   "execution_count": 54,
   "id": "52abe4f3-36a6-4035-ab3f-771f7d772338",
   "metadata": {},
   "outputs": [],
   "source": [
    "# 사용자 Metadata(df_user) 영화의 Metadata(df_movie)를 결합하여 활용해봅니다.\n",
    "df_train_2 = df_train.join(df_user, on='user id').join(df_movie, on='item id')\n",
    "df_test_2 = df_test.join(df_user, on='user id').join(df_movie, on='item id')"
   ]
  },
  {
   "cell_type": "code",
   "execution_count": 55,
   "id": "7034189e-4b07-4440-b44c-2271983ec074",
   "metadata": {},
   "outputs": [
    {
     "data": {
      "text/html": [
       "<div>\n",
       "<style scoped>\n",
       "    .dataframe tbody tr th:only-of-type {\n",
       "        vertical-align: middle;\n",
       "    }\n",
       "\n",
       "    .dataframe tbody tr th {\n",
       "        vertical-align: top;\n",
       "    }\n",
       "\n",
       "    .dataframe thead th {\n",
       "        text-align: right;\n",
       "    }\n",
       "</style>\n",
       "<table border=\"1\" class=\"dataframe\">\n",
       "  <thead>\n",
       "    <tr style=\"text-align: right;\">\n",
       "      <th></th>\n",
       "      <th>user id</th>\n",
       "      <th>item id</th>\n",
       "      <th>rating</th>\n",
       "      <th>date</th>\n",
       "      <th>age</th>\n",
       "      <th>gender</th>\n",
       "      <th>occupation</th>\n",
       "      <th>zip code</th>\n",
       "      <th>movie title</th>\n",
       "      <th>release date</th>\n",
       "      <th>...</th>\n",
       "      <th>Fantasy</th>\n",
       "      <th>Film-Noir</th>\n",
       "      <th>Horror</th>\n",
       "      <th>Musical</th>\n",
       "      <th>Mystery</th>\n",
       "      <th>Romance</th>\n",
       "      <th>Sci-Fi</th>\n",
       "      <th>Thriller</th>\n",
       "      <th>War</th>\n",
       "      <th>Western</th>\n",
       "    </tr>\n",
       "  </thead>\n",
       "  <tbody>\n",
       "    <tr>\n",
       "      <th>22302</th>\n",
       "      <td>429</td>\n",
       "      <td>24</td>\n",
       "      <td>3</td>\n",
       "      <td>1997-12-17 19:18:29</td>\n",
       "      <td>27</td>\n",
       "      <td>M</td>\n",
       "      <td>student</td>\n",
       "      <td>29205</td>\n",
       "      <td>Rumble in the Bronx (1995)</td>\n",
       "      <td>23-Feb-1996</td>\n",
       "      <td>...</td>\n",
       "      <td>0</td>\n",
       "      <td>0</td>\n",
       "      <td>0</td>\n",
       "      <td>0</td>\n",
       "      <td>0</td>\n",
       "      <td>0</td>\n",
       "      <td>0</td>\n",
       "      <td>0</td>\n",
       "      <td>0</td>\n",
       "      <td>0</td>\n",
       "    </tr>\n",
       "    <tr>\n",
       "      <th>49609</th>\n",
       "      <td>480</td>\n",
       "      <td>511</td>\n",
       "      <td>4</td>\n",
       "      <td>1998-03-29 21:56:39</td>\n",
       "      <td>57</td>\n",
       "      <td>M</td>\n",
       "      <td>retired</td>\n",
       "      <td>98257</td>\n",
       "      <td>Lawrence of Arabia (1962)</td>\n",
       "      <td>01-Jan-1962</td>\n",
       "      <td>...</td>\n",
       "      <td>0</td>\n",
       "      <td>0</td>\n",
       "      <td>0</td>\n",
       "      <td>0</td>\n",
       "      <td>0</td>\n",
       "      <td>0</td>\n",
       "      <td>0</td>\n",
       "      <td>0</td>\n",
       "      <td>1</td>\n",
       "      <td>0</td>\n",
       "    </tr>\n",
       "    <tr>\n",
       "      <th>89251</th>\n",
       "      <td>916</td>\n",
       "      <td>746</td>\n",
       "      <td>3</td>\n",
       "      <td>1997-11-29 22:57:42</td>\n",
       "      <td>27</td>\n",
       "      <td>M</td>\n",
       "      <td>engineer</td>\n",
       "      <td>N2L5N</td>\n",
       "      <td>Real Genius (1985)</td>\n",
       "      <td>01-Jan-1985</td>\n",
       "      <td>...</td>\n",
       "      <td>0</td>\n",
       "      <td>0</td>\n",
       "      <td>0</td>\n",
       "      <td>0</td>\n",
       "      <td>0</td>\n",
       "      <td>0</td>\n",
       "      <td>0</td>\n",
       "      <td>0</td>\n",
       "      <td>0</td>\n",
       "      <td>0</td>\n",
       "    </tr>\n",
       "    <tr>\n",
       "      <th>96385</th>\n",
       "      <td>892</td>\n",
       "      <td>196</td>\n",
       "      <td>4</td>\n",
       "      <td>1998-02-04 16:27:02</td>\n",
       "      <td>36</td>\n",
       "      <td>M</td>\n",
       "      <td>other</td>\n",
       "      <td>45243</td>\n",
       "      <td>Dead Poets Society (1989)</td>\n",
       "      <td>01-Jan-1989</td>\n",
       "      <td>...</td>\n",
       "      <td>0</td>\n",
       "      <td>0</td>\n",
       "      <td>0</td>\n",
       "      <td>0</td>\n",
       "      <td>0</td>\n",
       "      <td>0</td>\n",
       "      <td>0</td>\n",
       "      <td>0</td>\n",
       "      <td>0</td>\n",
       "      <td>0</td>\n",
       "    </tr>\n",
       "    <tr>\n",
       "      <th>17569</th>\n",
       "      <td>90</td>\n",
       "      <td>83</td>\n",
       "      <td>5</td>\n",
       "      <td>1998-03-31 22:34:47</td>\n",
       "      <td>60</td>\n",
       "      <td>M</td>\n",
       "      <td>educator</td>\n",
       "      <td>78155</td>\n",
       "      <td>Much Ado About Nothing (1993)</td>\n",
       "      <td>01-Jan-1993</td>\n",
       "      <td>...</td>\n",
       "      <td>0</td>\n",
       "      <td>0</td>\n",
       "      <td>0</td>\n",
       "      <td>0</td>\n",
       "      <td>0</td>\n",
       "      <td>1</td>\n",
       "      <td>0</td>\n",
       "      <td>0</td>\n",
       "      <td>0</td>\n",
       "      <td>0</td>\n",
       "    </tr>\n",
       "  </tbody>\n",
       "</table>\n",
       "<p>5 rows × 29 columns</p>\n",
       "</div>"
      ],
      "text/plain": [
       "       user id  item id  rating                date  age gender occupation  \\\n",
       "22302      429       24       3 1997-12-17 19:18:29   27      M    student   \n",
       "49609      480      511       4 1998-03-29 21:56:39   57      M    retired   \n",
       "89251      916      746       3 1997-11-29 22:57:42   27      M   engineer   \n",
       "96385      892      196       4 1998-02-04 16:27:02   36      M      other   \n",
       "17569       90       83       5 1998-03-31 22:34:47   60      M   educator   \n",
       "\n",
       "      zip code                    movie title release date  ...  Fantasy  \\\n",
       "22302    29205     Rumble in the Bronx (1995)  23-Feb-1996  ...        0   \n",
       "49609    98257      Lawrence of Arabia (1962)  01-Jan-1962  ...        0   \n",
       "89251    N2L5N             Real Genius (1985)  01-Jan-1985  ...        0   \n",
       "96385    45243      Dead Poets Society (1989)  01-Jan-1989  ...        0   \n",
       "17569    78155  Much Ado About Nothing (1993)  01-Jan-1993  ...        0   \n",
       "\n",
       "       Film-Noir  Horror  Musical  Mystery  Romance  Sci-Fi  Thriller  War  \\\n",
       "22302          0       0        0        0        0       0         0    0   \n",
       "49609          0       0        0        0        0       0         0    1   \n",
       "89251          0       0        0        0        0       0         0    0   \n",
       "96385          0       0        0        0        0       0         0    0   \n",
       "17569          0       0        0        0        1       0         0    0   \n",
       "\n",
       "       Western  \n",
       "22302        0  \n",
       "49609        0  \n",
       "89251        0  \n",
       "96385        0  \n",
       "17569        0  \n",
       "\n",
       "[5 rows x 29 columns]"
      ]
     },
     "execution_count": 55,
     "metadata": {},
     "output_type": "execute_result"
    }
   ],
   "source": [
    "df_train_2.head()"
   ]
  },
  {
   "cell_type": "code",
   "execution_count": 56,
   "id": "d1391692-3de6-43b6-b4af-ae50996d5cc6",
   "metadata": {},
   "outputs": [
    {
     "data": {
      "text/plain": [
       "0.2757014442617541"
      ]
     },
     "execution_count": 56,
     "metadata": {},
     "output_type": "execute_result"
    }
   ],
   "source": [
    "X_genre = df_movie.columns[2:].tolist()\n",
    "\n",
    "# ColumnTransformer -변수별 인코딩 방법을 달리 구성하여 처리 단계를 만듭니다.\n",
    "ct = ColumnTransformer([\n",
    "    ('tgt', TargetEncoder(target_type='continuous'), ['user id', 'item id']), # Target Encoder를 통해 user id, item id에 대한 평균으로 인코딩합니다.\n",
    "    ('ohe', OneHotEncoder(drop='first'), ['gender', 'occupation']), # 직업, 성별은 가변수화 합니다.\n",
    "    ('pt', 'passthrough', X_genre) # Genre 여부는 그대로 모델에 전달합니다.\n",
    "])\n",
    "# ColumnTransformer와 LinearRegression을 연결합니다.\n",
    "reg_lr_2 = make_pipeline(ct, LinearRegression())\n",
    "X_lr_2 = ['user id', 'item id', 'occupation', 'gender'] + X_genre\n",
    "result = eval_model(reg_lr_2, df_train_2, X_lr_2)\n",
    "np.mean(result['test_score'])"
   ]
  },
  {
   "cell_type": "code",
   "execution_count": 57,
   "id": "f41b7798-8fbb-4b8b-b941-db21d22f3ff5",
   "metadata": {},
   "outputs": [
    {
     "data": {
      "text/plain": [
       "0.2771785799076696"
      ]
     },
     "execution_count": 57,
     "metadata": {},
     "output_type": "execute_result"
    }
   ],
   "source": [
    "reg_lr_2.fit(df_train_2[X_lr_2], df_train_2['rating'])\n",
    "r2_score(df_test_2['rating'], reg_lr_2.predict(df_test_2[X_lr_2]))"
   ]
  },
  {
   "cell_type": "markdown",
   "id": "3dab52db-a2c1-4db9-991f-11dc878cafdd",
   "metadata": {},
   "source": [
    "## 로지스틱 회귀 (Logistic Regression Model)\n",
    "\n",
    "선형 회귀 모델로 로지스틱 함수를 통해 \\[0, 1\\] 실수 영역을 예측하도록 한 선형 모델\n",
    "\n",
    "로짓 함수: [0, 1] 확률 영역의 실수를 [-∞, ∞]로 변환해주는 함수\n",
    "\n",
    "  > $logit(p)= \\log(\\frac{p}{1-p})$\n",
    "\n",
    "로지스틱 함수: [-∞, ∞] 실수를 [0, 1] 확률 영역의 실수로 변환해주는 함수: 로짓함수의 역함수\n",
    "\n",
    "  > $logistic(x)= \\frac{1}{1 + e^{-x}}$\n",
    "\n",
    "SoftMax 함수: 다중클래수 분류를 위한 링크(link)함수\n",
    "\n",
    "  > $softmax(x_i) = \\frac{e^{x_i}}{\\sum_j{e^{x_j}}}$, x_i는 i클래스의 로짓\n",
    "\n",
    "손실 함수: Cross Entropy\n",
    "\n",
    "  $H(y, \\hat{y}) = -\\frac{1}{n}\\sum_{i=1}^{n} y_i \\log(\\hat{y}_i)$\n",
    "\n",
    "  $H(y, \\hat{y}) = -\\frac{1}{n}\\sum_{i=1}^{n} \\left(y_i \\log(\\hat{y}_i) + (1 - y_i) \\log(1 - \\hat{y}_i)\\right)$(이진 분류)\n",
    "  \n",
    "학습 알고리즘: 경사하강법"
   ]
  },
  {
   "cell_type": "code",
   "execution_count": 59,
   "id": "bb531608-b93d-48e4-81cf-002efa6d0be5",
   "metadata": {},
   "outputs": [
    {
     "data": {
      "image/png": "[encoded data removed]",
      "text/plain": [
       "<Figure size 600x300 with 1 Axes>"
      ]
     },
     "metadata": {},
     "output_type": "display_data"
    }
   ],
   "source": [
    "from scipy.special import expit\n",
    "plt.figure(figsize=(6, 3))\n",
    "x = np.linspace(-5, 5, 100)\n",
    "sns.lineplot(x = x, y =  x / 5 + 0.5, label='linear')\n",
    "sns.lineplot(x = x, y = expit(x), label='logistic')\n",
    "plt.axvline(0, color='black', linestyle='--')\n",
    "plt.axhline(0, color='black', linestyle='--')\n",
    "plt.axhline(1, color='black', linestyle='--')\n",
    "plt.show()"
   ]
  },
  {
   "cell_type": "markdown",
   "id": "f59f4c58-d82f-4d1c-95a0-7b7b4e488104",
   "metadata": {},
   "source": [
    "#### 예제: MovieLens100K 데이터셋에서 추천에 활용할 수 있는 모델을 만들어 봅니다.\n",
    "\n",
    "Task: 추천시 Ranking에 활용할 수 있도록 사용자가 영화에 평점 여부를 맞추는 모델을 만듭니다.\n",
    "\n",
    "지표: AUC(Area Under of ROC Curve)\n",
    "\n",
    "학습데이터:평가데이터 = 8:2\n",
    "\n",
    "검증법: 5-fold cross validation\n",
    "\n",
    "**로지스틱 회귀**분석을 이용한 초간단 모델을 만들어 봅니다.\n",
    "\n",
    "입력변수: 사용자의 rating을 한 비율, 영화의 rating을 받은 비율"
   ]
  },
  {
   "cell_type": "code",
   "execution_count": 60,
   "id": "ad4cf373-9b3b-48b8-b5c7-d4bc7640c2b1",
   "metadata": {},
   "outputs": [
    {
     "data": {
      "text/html": [
       "<div>\n",
       "<style scoped>\n",
       "    .dataframe tbody tr th:only-of-type {\n",
       "        vertical-align: middle;\n",
       "    }\n",
       "\n",
       "    .dataframe tbody tr th {\n",
       "        vertical-align: top;\n",
       "    }\n",
       "\n",
       "    .dataframe thead th {\n",
       "        text-align: right;\n",
       "    }\n",
       "</style>\n",
       "<table border=\"1\" class=\"dataframe\">\n",
       "  <thead>\n",
       "    <tr style=\"text-align: right;\">\n",
       "      <th></th>\n",
       "      <th>user id</th>\n",
       "      <th>item id</th>\n",
       "      <th>yn</th>\n",
       "    </tr>\n",
       "  </thead>\n",
       "  <tbody>\n",
       "    <tr>\n",
       "      <th>0</th>\n",
       "      <td>1</td>\n",
       "      <td>1</td>\n",
       "      <td>True</td>\n",
       "    </tr>\n",
       "    <tr>\n",
       "      <th>1</th>\n",
       "      <td>1</td>\n",
       "      <td>2</td>\n",
       "      <td>True</td>\n",
       "    </tr>\n",
       "    <tr>\n",
       "      <th>2</th>\n",
       "      <td>1</td>\n",
       "      <td>3</td>\n",
       "      <td>True</td>\n",
       "    </tr>\n",
       "    <tr>\n",
       "      <th>3</th>\n",
       "      <td>1</td>\n",
       "      <td>4</td>\n",
       "      <td>True</td>\n",
       "    </tr>\n",
       "    <tr>\n",
       "      <th>4</th>\n",
       "      <td>1</td>\n",
       "      <td>5</td>\n",
       "      <td>True</td>\n",
       "    </tr>\n",
       "  </tbody>\n",
       "</table>\n",
       "</div>"
      ],
      "text/plain": [
       "   user id  item id    yn\n",
       "0        1        1  True\n",
       "1        1        2  True\n",
       "2        1        3  True\n",
       "3        1        4  True\n",
       "4        1        5  True"
      ]
     },
     "execution_count": 60,
     "metadata": {},
     "output_type": "execute_result"
    }
   ],
   "source": [
    "# 1. user id와 item id를 cross tab을 하여 사용자별 평가 내역이 있으면 1, 없으면 0인 DataFrame을 만듭니다.\n",
    "# 2. 이를 stack 하여 user id별 item id에 대한 시청 유무를 나타내는 데이터프레임으로 변환합니다.\n",
    "df_ratings_yn = df_ratings.pivot(index='user id', columns='item id', values='rating')\\\n",
    "        .notna().stack().rename('yn').reset_index()\n",
    "df_ratings_yn.head()"
   ]
  },
  {
   "cell_type": "code",
   "execution_count": 61,
   "id": "f0fdfc95-4ef1-4898-a2dd-a569ca591243",
   "metadata": {},
   "outputs": [
    {
     "data": {
      "text/plain": [
       "(1586126, 3)"
      ]
     },
     "execution_count": 61,
     "metadata": {},
     "output_type": "execute_result"
    }
   ],
   "source": [
    "df_ratings_yn.shape"
   ]
  },
  {
   "cell_type": "code",
   "execution_count": 62,
   "id": "cbf3f9b0-ea8a-4524-b24a-9d58a7ce31c5",
   "metadata": {},
   "outputs": [],
   "source": [
    "# 학습셋 8, 평가셋 2의 비율로 나눕니다.\n",
    "df_train_yn, df_test_yn = train_test_split(df_ratings_yn, train_size=0.8, random_state=123)"
   ]
  },
  {
   "cell_type": "code",
   "execution_count": 63,
   "id": "2125bc86-9437-4222-8ff3-8612185d56cc",
   "metadata": {},
   "outputs": [
    {
     "data": {
      "text/plain": [
       "yn\n",
       "False    0.936953\n",
       "True     0.063047\n",
       "Name: proportion, dtype: float64"
      ]
     },
     "execution_count": 63,
     "metadata": {},
     "output_type": "execute_result"
    }
   ],
   "source": [
    "df_ratings_yn['yn'].value_counts(normalize=True)"
   ]
  },
  {
   "cell_type": "code",
   "execution_count": 64,
   "id": "78208b54-d740-4301-8996-f869c8b7f800",
   "metadata": {},
   "outputs": [],
   "source": [
    "# 모델 검증 프로 루틴입니다.\n",
    "from sklearn.model_selection import KFold, cross_validate\n",
    "from sklearn.metrics import roc_auc_score\n",
    "\n",
    "# 5겹 교차 검정을 세팅합니다.\n",
    "cv = KFold(n_splits=5, random_state=123, shuffle=True)\n",
    "def eval_model_yn(reg_model, df, X):\n",
    "    return cross_validate(reg_model, df[X], df['yn'], scoring='roc_auc', cv=cv, return_train_score=True)"
   ]
  },
  {
   "cell_type": "code",
   "execution_count": 65,
   "id": "3eca1426-f810-4ea5-be27-71394449ae4c",
   "metadata": {},
   "outputs": [
    {
     "data": {
      "text/plain": [
       "{'fit_time': array([1.53107524, 1.54828477, 1.49455667, 1.58641911, 1.55036259]),\n",
       " 'score_time': array([0.17126012, 0.17330003, 0.1754775 , 0.17623329, 0.17346168]),\n",
       " 'test_score': array([0.87955675, 0.87720313, 0.87873666, 0.87959866, 0.87712377]),\n",
       " 'train_score': array([0.88178244, 0.88188859, 0.8816551 , 0.88149132, 0.882076  ])}"
      ]
     },
     "execution_count": 65,
     "metadata": {},
     "output_type": "execute_result"
    }
   ],
   "source": [
    "from sklearn.preprocessing import TargetEncoder\n",
    "from sklearn.pipeline import make_pipeline\n",
    "from sklearn.linear_model import LogisticRegression\n",
    "\n",
    "clf_lr_tgt = make_pipeline(\n",
    "    TargetEncoder(), # Target Encoder 시청율(yn인 비율)로 user id, item id를 인코딩합니다.\n",
    "    LogisticRegression() # LogisticRegression 모델을 설정합니다.\n",
    ")\n",
    "X_lr = ['user id', 'item id']\n",
    "eval_model_yn(clf_lr_tgt, df_train_yn, X_lr)"
   ]
  },
  {
   "cell_type": "code",
   "execution_count": 66,
   "id": "1e7d1f30-d224-49a8-9e9b-86d977de3ed9",
   "metadata": {},
   "outputs": [
    {
     "name": "stderr",
     "output_type": "stream",
     "text": [
      "/home/multicampus/.local/lib/python3.11/site-packages/sklearn/linear_model/_logistic.py:460: ConvergenceWarning: lbfgs failed to converge (status=1):\n",
      "STOP: TOTAL NO. of ITERATIONS REACHED LIMIT.\n",
      "\n",
      "Increase the number of iterations (max_iter) or scale the data as shown in:\n",
      "    https://scikit-learn.org/stable/modules/preprocessing.html\n",
      "Please also refer to the documentation for alternative solver options:\n",
      "    https://scikit-learn.org/stable/modules/linear_model.html#logistic-regression\n",
      "  n_iter_i = _check_optimize_result(\n",
      "/home/multicampus/.local/lib/python3.11/site-packages/sklearn/linear_model/_logistic.py:460: ConvergenceWarning: lbfgs failed to converge (status=1):\n",
      "STOP: TOTAL NO. of ITERATIONS REACHED LIMIT.\n",
      "\n",
      "Increase the number of iterations (max_iter) or scale the data as shown in:\n",
      "    https://scikit-learn.org/stable/modules/preprocessing.html\n",
      "Please also refer to the documentation for alternative solver options:\n",
      "    https://scikit-learn.org/stable/modules/linear_model.html#logistic-regression\n",
      "  n_iter_i = _check_optimize_result(\n",
      "/home/multicampus/.local/lib/python3.11/site-packages/sklearn/linear_model/_logistic.py:460: ConvergenceWarning: lbfgs failed to converge (status=1):\n",
      "STOP: TOTAL NO. of ITERATIONS REACHED LIMIT.\n",
      "\n",
      "Increase the number of iterations (max_iter) or scale the data as shown in:\n",
      "    https://scikit-learn.org/stable/modules/preprocessing.html\n",
      "Please also refer to the documentation for alternative solver options:\n",
      "    https://scikit-learn.org/stable/modules/linear_model.html#logistic-regression\n",
      "  n_iter_i = _check_optimize_result(\n",
      "/home/multicampus/.local/lib/python3.11/site-packages/sklearn/linear_model/_logistic.py:460: ConvergenceWarning: lbfgs failed to converge (status=1):\n",
      "STOP: TOTAL NO. of ITERATIONS REACHED LIMIT.\n",
      "\n",
      "Increase the number of iterations (max_iter) or scale the data as shown in:\n",
      "    https://scikit-learn.org/stable/modules/preprocessing.html\n",
      "Please also refer to the documentation for alternative solver options:\n",
      "    https://scikit-learn.org/stable/modules/linear_model.html#logistic-regression\n",
      "  n_iter_i = _check_optimize_result(\n",
      "/home/multicampus/.local/lib/python3.11/site-packages/sklearn/linear_model/_logistic.py:460: ConvergenceWarning: lbfgs failed to converge (status=1):\n",
      "STOP: TOTAL NO. of ITERATIONS REACHED LIMIT.\n",
      "\n",
      "Increase the number of iterations (max_iter) or scale the data as shown in:\n",
      "    https://scikit-learn.org/stable/modules/preprocessing.html\n",
      "Please also refer to the documentation for alternative solver options:\n",
      "    https://scikit-learn.org/stable/modules/linear_model.html#logistic-regression\n",
      "  n_iter_i = _check_optimize_result(\n"
     ]
    },
    {
     "data": {
      "text/plain": [
       "{'fit_time': array([2.76144314, 2.89169216, 2.79590869, 2.73818851, 2.73224235]),\n",
       " 'score_time': array([0.11799502, 0.12202263, 0.11777425, 0.12022066, 0.1182735 ]),\n",
       " 'test_score': array([0.89410601, 0.89328406, 0.89370656, 0.89511047, 0.89272095]),\n",
       " 'train_score': array([0.89855989, 0.89859475, 0.89839565, 0.89818854, 0.89877897])}"
      ]
     },
     "execution_count": 66,
     "metadata": {},
     "output_type": "execute_result"
    }
   ],
   "source": [
    "clf_lr_ohe = make_pipeline(\n",
    "    OneHotEncoder(drop='first'), # OneHotEncoder linear 계열 모델, drop='first'\n",
    "    LogisticRegression() # LogisticRegression 모델을 설정합니다.\n",
    ")\n",
    "X_lr = ['user id', 'item id']\n",
    "eval_model_yn(clf_lr_ohe, df_train_yn, X_lr)"
   ]
  },
  {
   "cell_type": "code",
   "execution_count": 67,
   "id": "20fb7eb1-0e2f-426d-8ddd-183a10614b4e",
   "metadata": {},
   "outputs": [
    {
     "name": "stdout",
     "output_type": "stream",
     "text": [
      "tgt 0.8788631273993897\n",
      "ohe 0.8934565664315273\n"
     ]
    },
    {
     "name": "stderr",
     "output_type": "stream",
     "text": [
      "/home/multicampus/.local/lib/python3.11/site-packages/sklearn/linear_model/_logistic.py:460: ConvergenceWarning: lbfgs failed to converge (status=1):\n",
      "STOP: TOTAL NO. of ITERATIONS REACHED LIMIT.\n",
      "\n",
      "Increase the number of iterations (max_iter) or scale the data as shown in:\n",
      "    https://scikit-learn.org/stable/modules/preprocessing.html\n",
      "Please also refer to the documentation for alternative solver options:\n",
      "    https://scikit-learn.org/stable/modules/linear_model.html#logistic-regression\n",
      "  n_iter_i = _check_optimize_result(\n"
     ]
    }
   ],
   "source": [
    "from sklearn.metrics import roc_auc_score\n",
    "# 둘의 실제 성능을 뽑아봅니다.\n",
    "clf_lr_tgt.fit(df_train_yn[X_lr], df_train_yn['yn'])\n",
    "print('tgt', roc_auc_score(df_test_yn['yn'], clf_lr_tgt.predict_proba(df_test_yn[X_lr])[:, 1]))\n",
    "\n",
    "clf_lr_ohe.fit(df_train_yn[X_lr], df_train_yn['yn'])\n",
    "print('ohe', roc_auc_score(df_test_yn['yn'], clf_lr_ohe.predict_proba(df_test_yn[X_lr])[:, 1]))"
   ]
  },
  {
   "cell_type": "markdown",
   "id": "b3b37f1e-9b32-496e-8d03-dc443b790aa5",
   "metadata": {},
   "source": [
    "**실습**\n",
    "\n",
    "사용자의 직업, 성별과 영화 장르 정보를 입력 변수에 추가하여 yn  예측 모델의 기능을 추가해봅니다."
   ]
  },
  {
   "cell_type": "code",
   "execution_count": 68,
   "id": "fa1d8168-feac-410a-8a89-70df39735161",
   "metadata": {},
   "outputs": [],
   "source": [
    "# df_train_yn셋에 df_movie 정보를 포함 시킵니다.\n",
    "df_train_yn_2 = df_train_yn.join(df_movie, on='item id').join(df_user, on='user id') \n",
    "# df_test_yn셋에 df_movie 정보를 포함 시킵니다.\n",
    "df_test_yn_2 = df_test_yn.join(df_movie, on='item id').join(df_user, on='user id')"
   ]
  },
  {
   "cell_type": "code",
   "execution_count": 69,
   "id": "e63e6ddb-6ca6-4bea-b63f-a9104f87d75a",
   "metadata": {},
   "outputs": [
    {
     "data": {
      "text/html": [
       "<div>\n",
       "<style scoped>\n",
       "    .dataframe tbody tr th:only-of-type {\n",
       "        vertical-align: middle;\n",
       "    }\n",
       "\n",
       "    .dataframe tbody tr th {\n",
       "        vertical-align: top;\n",
       "    }\n",
       "\n",
       "    .dataframe thead th {\n",
       "        text-align: right;\n",
       "    }\n",
       "</style>\n",
       "<table border=\"1\" class=\"dataframe\">\n",
       "  <thead>\n",
       "    <tr style=\"text-align: right;\">\n",
       "      <th></th>\n",
       "      <th>user id</th>\n",
       "      <th>item id</th>\n",
       "      <th>yn</th>\n",
       "      <th>movie title</th>\n",
       "      <th>release date</th>\n",
       "      <th>unknown</th>\n",
       "      <th>Action</th>\n",
       "      <th>Adventure</th>\n",
       "      <th>Animation</th>\n",
       "      <th>Children's</th>\n",
       "      <th>...</th>\n",
       "      <th>Mystery</th>\n",
       "      <th>Romance</th>\n",
       "      <th>Sci-Fi</th>\n",
       "      <th>Thriller</th>\n",
       "      <th>War</th>\n",
       "      <th>Western</th>\n",
       "      <th>age</th>\n",
       "      <th>gender</th>\n",
       "      <th>occupation</th>\n",
       "      <th>zip code</th>\n",
       "    </tr>\n",
       "  </thead>\n",
       "  <tbody>\n",
       "    <tr>\n",
       "      <th>1191215</th>\n",
       "      <td>709</td>\n",
       "      <td>360</td>\n",
       "      <td>False</td>\n",
       "      <td>Wonderland (1997)</td>\n",
       "      <td>01-Jan-1997</td>\n",
       "      <td>0</td>\n",
       "      <td>0</td>\n",
       "      <td>0</td>\n",
       "      <td>0</td>\n",
       "      <td>0</td>\n",
       "      <td>...</td>\n",
       "      <td>0</td>\n",
       "      <td>0</td>\n",
       "      <td>0</td>\n",
       "      <td>0</td>\n",
       "      <td>0</td>\n",
       "      <td>0</td>\n",
       "      <td>21</td>\n",
       "      <td>M</td>\n",
       "      <td>other</td>\n",
       "      <td>N4T1A</td>\n",
       "    </tr>\n",
       "    <tr>\n",
       "      <th>347585</th>\n",
       "      <td>207</td>\n",
       "      <td>1094</td>\n",
       "      <td>False</td>\n",
       "      <td>Thin Line Between Love and Hate, A (1996)</td>\n",
       "      <td>03-Apr-1996</td>\n",
       "      <td>0</td>\n",
       "      <td>0</td>\n",
       "      <td>0</td>\n",
       "      <td>0</td>\n",
       "      <td>0</td>\n",
       "      <td>...</td>\n",
       "      <td>0</td>\n",
       "      <td>0</td>\n",
       "      <td>0</td>\n",
       "      <td>0</td>\n",
       "      <td>0</td>\n",
       "      <td>0</td>\n",
       "      <td>39</td>\n",
       "      <td>M</td>\n",
       "      <td>marketing</td>\n",
       "      <td>92037</td>\n",
       "    </tr>\n",
       "    <tr>\n",
       "      <th>728980</th>\n",
       "      <td>434</td>\n",
       "      <td>675</td>\n",
       "      <td>False</td>\n",
       "      <td>Nosferatu (Nosferatu, eine Symphonie des Graue...</td>\n",
       "      <td>01-Jan-1922</td>\n",
       "      <td>0</td>\n",
       "      <td>0</td>\n",
       "      <td>0</td>\n",
       "      <td>0</td>\n",
       "      <td>0</td>\n",
       "      <td>...</td>\n",
       "      <td>0</td>\n",
       "      <td>0</td>\n",
       "      <td>0</td>\n",
       "      <td>0</td>\n",
       "      <td>0</td>\n",
       "      <td>0</td>\n",
       "      <td>16</td>\n",
       "      <td>F</td>\n",
       "      <td>student</td>\n",
       "      <td>49705</td>\n",
       "    </tr>\n",
       "    <tr>\n",
       "      <th>1558868</th>\n",
       "      <td>927</td>\n",
       "      <td>1337</td>\n",
       "      <td>False</td>\n",
       "      <td>Larger Than Life (1996)</td>\n",
       "      <td>01-Nov-1996</td>\n",
       "      <td>0</td>\n",
       "      <td>0</td>\n",
       "      <td>0</td>\n",
       "      <td>0</td>\n",
       "      <td>0</td>\n",
       "      <td>...</td>\n",
       "      <td>0</td>\n",
       "      <td>0</td>\n",
       "      <td>0</td>\n",
       "      <td>0</td>\n",
       "      <td>0</td>\n",
       "      <td>0</td>\n",
       "      <td>23</td>\n",
       "      <td>M</td>\n",
       "      <td>programmer</td>\n",
       "      <td>55428</td>\n",
       "    </tr>\n",
       "    <tr>\n",
       "      <th>1305487</th>\n",
       "      <td>777</td>\n",
       "      <td>256</td>\n",
       "      <td>False</td>\n",
       "      <td>When the Cats Away (Chacun cherche son chat) (...</td>\n",
       "      <td>20-Jun-1997</td>\n",
       "      <td>0</td>\n",
       "      <td>0</td>\n",
       "      <td>0</td>\n",
       "      <td>0</td>\n",
       "      <td>0</td>\n",
       "      <td>...</td>\n",
       "      <td>0</td>\n",
       "      <td>1</td>\n",
       "      <td>0</td>\n",
       "      <td>0</td>\n",
       "      <td>0</td>\n",
       "      <td>0</td>\n",
       "      <td>63</td>\n",
       "      <td>M</td>\n",
       "      <td>programmer</td>\n",
       "      <td>01810</td>\n",
       "    </tr>\n",
       "  </tbody>\n",
       "</table>\n",
       "<p>5 rows × 28 columns</p>\n",
       "</div>"
      ],
      "text/plain": [
       "         user id  item id     yn  \\\n",
       "1191215      709      360  False   \n",
       "347585       207     1094  False   \n",
       "728980       434      675  False   \n",
       "1558868      927     1337  False   \n",
       "1305487      777      256  False   \n",
       "\n",
       "                                               movie title release date  \\\n",
       "1191215                                  Wonderland (1997)  01-Jan-1997   \n",
       "347585           Thin Line Between Love and Hate, A (1996)  03-Apr-1996   \n",
       "728980   Nosferatu (Nosferatu, eine Symphonie des Graue...  01-Jan-1922   \n",
       "1558868                            Larger Than Life (1996)  01-Nov-1996   \n",
       "1305487  When the Cats Away (Chacun cherche son chat) (...  20-Jun-1997   \n",
       "\n",
       "         unknown  Action  Adventure  Animation  Children's  ...  Mystery  \\\n",
       "1191215        0       0          0          0           0  ...        0   \n",
       "347585         0       0          0          0           0  ...        0   \n",
       "728980         0       0          0          0           0  ...        0   \n",
       "1558868        0       0          0          0           0  ...        0   \n",
       "1305487        0       0          0          0           0  ...        0   \n",
       "\n",
       "         Romance  Sci-Fi  Thriller  War  Western  age  gender  occupation  \\\n",
       "1191215        0       0         0    0        0   21       M       other   \n",
       "347585         0       0         0    0        0   39       M   marketing   \n",
       "728980         0       0         0    0        0   16       F     student   \n",
       "1558868        0       0         0    0        0   23       M  programmer   \n",
       "1305487        1       0         0    0        0   63       M  programmer   \n",
       "\n",
       "         zip code  \n",
       "1191215     N4T1A  \n",
       "347585      92037  \n",
       "728980      49705  \n",
       "1558868     55428  \n",
       "1305487     01810  \n",
       "\n",
       "[5 rows x 28 columns]"
      ]
     },
     "execution_count": 69,
     "metadata": {},
     "output_type": "execute_result"
    }
   ],
   "source": [
    "df_train_yn_2.head()"
   ]
  },
  {
   "cell_type": "code",
   "execution_count": 70,
   "id": "f3f08f7d-00f2-4eef-ae20-c4a252deb86e",
   "metadata": {},
   "outputs": [
    {
     "data": {
      "text/html": [
       "<div>\n",
       "<style scoped>\n",
       "    .dataframe tbody tr th:only-of-type {\n",
       "        vertical-align: middle;\n",
       "    }\n",
       "\n",
       "    .dataframe tbody tr th {\n",
       "        vertical-align: top;\n",
       "    }\n",
       "\n",
       "    .dataframe thead th {\n",
       "        text-align: right;\n",
       "    }\n",
       "</style>\n",
       "<table border=\"1\" class=\"dataframe\">\n",
       "  <thead>\n",
       "    <tr style=\"text-align: right;\">\n",
       "      <th></th>\n",
       "      <th>user id</th>\n",
       "      <th>item id</th>\n",
       "      <th>yn</th>\n",
       "      <th>movie title</th>\n",
       "      <th>release date</th>\n",
       "      <th>unknown</th>\n",
       "      <th>Action</th>\n",
       "      <th>Adventure</th>\n",
       "      <th>Animation</th>\n",
       "      <th>Children's</th>\n",
       "      <th>...</th>\n",
       "      <th>Mystery</th>\n",
       "      <th>Romance</th>\n",
       "      <th>Sci-Fi</th>\n",
       "      <th>Thriller</th>\n",
       "      <th>War</th>\n",
       "      <th>Western</th>\n",
       "      <th>age</th>\n",
       "      <th>gender</th>\n",
       "      <th>occupation</th>\n",
       "      <th>zip code</th>\n",
       "    </tr>\n",
       "  </thead>\n",
       "  <tbody>\n",
       "    <tr>\n",
       "      <th>921522</th>\n",
       "      <td>548</td>\n",
       "      <td>1469</td>\n",
       "      <td>False</td>\n",
       "      <td>Tom and Huck (1995)</td>\n",
       "      <td>01-Jan-1995</td>\n",
       "      <td>0</td>\n",
       "      <td>0</td>\n",
       "      <td>1</td>\n",
       "      <td>0</td>\n",
       "      <td>1</td>\n",
       "      <td>...</td>\n",
       "      <td>0</td>\n",
       "      <td>0</td>\n",
       "      <td>0</td>\n",
       "      <td>0</td>\n",
       "      <td>0</td>\n",
       "      <td>0</td>\n",
       "      <td>51</td>\n",
       "      <td>M</td>\n",
       "      <td>writer</td>\n",
       "      <td>95468</td>\n",
       "    </tr>\n",
       "    <tr>\n",
       "      <th>1238488</th>\n",
       "      <td>737</td>\n",
       "      <td>537</td>\n",
       "      <td>False</td>\n",
       "      <td>My Own Private Idaho (1991)</td>\n",
       "      <td>01-Jan-1991</td>\n",
       "      <td>0</td>\n",
       "      <td>0</td>\n",
       "      <td>0</td>\n",
       "      <td>0</td>\n",
       "      <td>0</td>\n",
       "      <td>...</td>\n",
       "      <td>0</td>\n",
       "      <td>0</td>\n",
       "      <td>0</td>\n",
       "      <td>0</td>\n",
       "      <td>0</td>\n",
       "      <td>0</td>\n",
       "      <td>30</td>\n",
       "      <td>M</td>\n",
       "      <td>programmer</td>\n",
       "      <td>98072</td>\n",
       "    </tr>\n",
       "    <tr>\n",
       "      <th>640861</th>\n",
       "      <td>382</td>\n",
       "      <td>20</td>\n",
       "      <td>False</td>\n",
       "      <td>Angels and Insects (1995)</td>\n",
       "      <td>01-Jan-1995</td>\n",
       "      <td>0</td>\n",
       "      <td>0</td>\n",
       "      <td>0</td>\n",
       "      <td>0</td>\n",
       "      <td>0</td>\n",
       "      <td>...</td>\n",
       "      <td>0</td>\n",
       "      <td>1</td>\n",
       "      <td>0</td>\n",
       "      <td>0</td>\n",
       "      <td>0</td>\n",
       "      <td>0</td>\n",
       "      <td>45</td>\n",
       "      <td>M</td>\n",
       "      <td>engineer</td>\n",
       "      <td>01824</td>\n",
       "    </tr>\n",
       "    <tr>\n",
       "      <th>670487</th>\n",
       "      <td>399</td>\n",
       "      <td>1052</td>\n",
       "      <td>False</td>\n",
       "      <td>Dracula: Dead and Loving It (1995)</td>\n",
       "      <td>01-Jan-1995</td>\n",
       "      <td>0</td>\n",
       "      <td>0</td>\n",
       "      <td>0</td>\n",
       "      <td>0</td>\n",
       "      <td>0</td>\n",
       "      <td>...</td>\n",
       "      <td>0</td>\n",
       "      <td>0</td>\n",
       "      <td>0</td>\n",
       "      <td>0</td>\n",
       "      <td>0</td>\n",
       "      <td>0</td>\n",
       "      <td>25</td>\n",
       "      <td>M</td>\n",
       "      <td>other</td>\n",
       "      <td>92374</td>\n",
       "    </tr>\n",
       "    <tr>\n",
       "      <th>1235043</th>\n",
       "      <td>735</td>\n",
       "      <td>456</td>\n",
       "      <td>False</td>\n",
       "      <td>Beverly Hills Ninja (1997)</td>\n",
       "      <td>17-Jan-1997</td>\n",
       "      <td>0</td>\n",
       "      <td>1</td>\n",
       "      <td>0</td>\n",
       "      <td>0</td>\n",
       "      <td>0</td>\n",
       "      <td>...</td>\n",
       "      <td>0</td>\n",
       "      <td>0</td>\n",
       "      <td>0</td>\n",
       "      <td>0</td>\n",
       "      <td>0</td>\n",
       "      <td>0</td>\n",
       "      <td>29</td>\n",
       "      <td>F</td>\n",
       "      <td>healthcare</td>\n",
       "      <td>85719</td>\n",
       "    </tr>\n",
       "  </tbody>\n",
       "</table>\n",
       "<p>5 rows × 28 columns</p>\n",
       "</div>"
      ],
      "text/plain": [
       "         user id  item id     yn                         movie title  \\\n",
       "921522       548     1469  False                 Tom and Huck (1995)   \n",
       "1238488      737      537  False         My Own Private Idaho (1991)   \n",
       "640861       382       20  False           Angels and Insects (1995)   \n",
       "670487       399     1052  False  Dracula: Dead and Loving It (1995)   \n",
       "1235043      735      456  False          Beverly Hills Ninja (1997)   \n",
       "\n",
       "        release date  unknown  Action  Adventure  Animation  Children's  ...  \\\n",
       "921522   01-Jan-1995        0       0          1          0           1  ...   \n",
       "1238488  01-Jan-1991        0       0          0          0           0  ...   \n",
       "640861   01-Jan-1995        0       0          0          0           0  ...   \n",
       "670487   01-Jan-1995        0       0          0          0           0  ...   \n",
       "1235043  17-Jan-1997        0       1          0          0           0  ...   \n",
       "\n",
       "         Mystery  Romance  Sci-Fi  Thriller  War  Western  age  gender  \\\n",
       "921522         0        0       0         0    0        0   51       M   \n",
       "1238488        0        0       0         0    0        0   30       M   \n",
       "640861         0        1       0         0    0        0   45       M   \n",
       "670487         0        0       0         0    0        0   25       M   \n",
       "1235043        0        0       0         0    0        0   29       F   \n",
       "\n",
       "         occupation  zip code  \n",
       "921522       writer     95468  \n",
       "1238488  programmer     98072  \n",
       "640861     engineer     01824  \n",
       "670487        other     92374  \n",
       "1235043  healthcare     85719  \n",
       "\n",
       "[5 rows x 28 columns]"
      ]
     },
     "execution_count": 70,
     "metadata": {},
     "output_type": "execute_result"
    }
   ],
   "source": [
    "df_test_yn_2.head()"
   ]
  },
  {
   "cell_type": "code",
   "execution_count": 71,
   "id": "00785536-f111-44b4-832a-27c90e2c5fdc",
   "metadata": {},
   "outputs": [
    {
     "data": {
      "text/plain": [
       "{'fit_time': array([8.51865888, 9.19179201, 9.49097586, 9.51485276, 8.95818377]),\n",
       " 'score_time': array([0.31672382, 0.31255746, 0.31930828, 0.31478167, 0.32721281]),\n",
       " 'test_score': array([0.87790536, 0.87556493, 0.87677025, 0.87739887, 0.87572767]),\n",
       " 'train_score': array([0.87997564, 0.88011876, 0.87971379, 0.87986652, 0.88012196])}"
      ]
     },
     "execution_count": 71,
     "metadata": {},
     "output_type": "execute_result"
    }
   ],
   "source": [
    "X_genre = df_movie.columns[2:].tolist()\n",
    "ct = ColumnTransformer([\n",
    "    ('tgt', TargetEncoder(), ['user id', 'item id']),# Target Encoder 시청율(yn인 비율)로 user id, item id를 인코딩합니다.\n",
    "    ('ohe', OneHotEncoder(drop='first'), ['occupation', 'gender']),# occupation, gender를 사전순으로 첫번째 수준을 제외 시키고 가변수화합니다.\n",
    "    ('pt', 'passthrough', X_genre)# X_genre는 처리 없이 통과시킵니다.\n",
    "])\n",
    "\n",
    "reg_lr_2 = make_pipeline(\n",
    "    ct, \n",
    "    LogisticRegression()\n",
    ")\n",
    "X_lr_2 = ['user id', 'item id', 'occupation', 'gender'] + X_genre\n",
    "eval_model_yn(reg_lr_2, df_train_yn_2, X_lr_2)"
   ]
  },
  {
   "cell_type": "code",
   "execution_count": 72,
   "id": "6ff152dc-2c02-4498-8877-d6ba47cfcedc",
   "metadata": {},
   "outputs": [
    {
     "data": {
      "text/plain": [
       "0.8766564743401338"
      ]
     },
     "execution_count": 72,
     "metadata": {},
     "output_type": "execute_result"
    }
   ],
   "source": [
    "reg_lr_2.fit(df_train_yn_2[X_lr_2], df_train_yn_2['yn']) # 전체 Train셋에서 학습시킵니다.\n",
    "# 테스트셋에 대한 평가를합니다.\n",
    "roc_auc_score(df_test_yn_2['yn'], reg_lr_2.predict_proba(df_test_yn_2[X_lr_2])[:, 1])"
   ]
  },
  {
   "cell_type": "markdown",
   "id": "59acd690-6b72-4037-a15f-3966986c0fd6",
   "metadata": {},
   "source": [
    "## 인공신경망(Artificial Neural Network)\n",
    "\n",
    "- 신경세포를 본 딴 모수적 모델\n",
    "\n",
    "> 선형 회귀 모델이 나타내지 못하는 패턴(Non-Linear 패턴)을 나타낼 수 있습니다.\n",
    "\n",
    "> 층(Layer): 입력을 처리하여 변환하는 연속된 연산 단위 \n",
    "\n",
    "> 은닉층 (Hidden Layer): 기본적으로 가중치와 활성화 구성\n",
    "\n",
    "  유닛(Unit) - 은닉층의 노드수: 은닉층의 출력 변수의 수\n",
    " \n",
    "  가중치(Weight) - 모수(Parameter)에 해당\n",
    "  \n",
    "  > 밀도레이어(Dense Layer):  $N_{input} × N_{output}$ 인 행렬\n",
    "  \n",
    "  ![image.png](data:image/png;base64,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)\n",
    "  \n",
    "  활성화 함수(Activation Function)\n",
    "  \n",
    "  > 신경세포의 역치를 나타냄 - 신경세포에 전달된 자극이 다음 신경세포로 전달 되려면 일정 수준이상의 자극이 필요\n",
    "  \n",
    "  > 수학적으로는 비선형성을 부여\n",
    "  \n",
    "  > Ex) sigmoid / tanh / relu / leaky relu / ... \n",
    "  \n",
    "  \n",
    "- 학습 알고리즘: 경사하강법\n",
    "\n",
    "[Tensorflow Playground](https://playground.tensorflow.org/)"
   ]
  },
  {
   "cell_type": "markdown",
   "id": "a161953d-4b2f-4987-8c2b-aaf3276d5265",
   "metadata": {},
   "source": [
    "#### 예제: MovieLens100K 데이터셋에서 추천에 활용할 수 있는 모델을 만들어 봅니다.\n",
    "\n",
    "Task: 추천시 Ranking에 활용할 수 있도록 사용자별 영화 평점을 예측기를 만들어 봅시다. \n",
    "\n",
    "지표: R2\n",
    "\n",
    "학습데이터:평가데이터 = 8:2\n",
    "\n",
    "검증법: 5-fold cross validation\n",
    "\n",
    "**인공신경망**모델을 이용한 초간단 모델을 만들어 봅니다.\n",
    "\n",
    "입력변수: 사용자의 rating 평균, 영화의 rating 평균, 사용자의 직업, 성별과 영화 장르 정보를 입력 변수"
   ]
  },
  {
   "cell_type": "code",
   "execution_count": 73,
   "id": "fa1de21f-ab10-4787-9fa9-bd6072028a01",
   "metadata": {},
   "outputs": [],
   "source": [
    "# 사용자 Metadata(df_user) 영화의 Metadata(df_movie)를 결합하여 활용해봅니다.\n",
    "df_train_2 = df_train.join(df_user, on='user id').join(df_movie, on='item id')\n",
    "df_test_2 = df_test.join(df_user, on='user id').join(df_movie, on='item id')"
   ]
  },
  {
   "cell_type": "code",
   "execution_count": 74,
   "id": "380457f1-aede-4c1d-b944-8280029dbaa7",
   "metadata": {},
   "outputs": [
    {
     "data": {
      "text/plain": [
       "{'fit_time': array([ 7.18044901,  6.81443286, 10.05865955,  9.82792568, 12.83892202]),\n",
       " 'score_time': array([0.02882147, 0.01875448, 0.01841259, 0.01829028, 0.01857758]),\n",
       " 'test_score': array([0.2739423 , 0.27943189, 0.27557974, 0.27362212, 0.28965419]),\n",
       " 'train_score': array([0.32677015, 0.32510899, 0.33062692, 0.33175442, 0.32771235])}"
      ]
     },
     "execution_count": 74,
     "metadata": {},
     "output_type": "execute_result"
    }
   ],
   "source": [
    "from sklearn.neural_network import MLPRegressor\n",
    "X_genre = df_movie.columns[2:].tolist()\n",
    "ct = ColumnTransformer([\n",
    "    ('tgt', TargetEncoder(target_type='continuous'), ['user id', 'item id']), # Target Encoder 시청율(yn인 비율)로 user id, item id를 인코딩합니다.\n",
    "    ('ohe', OneHotEncoder(), ['occupation', 'gender']),# occupation, gender를 사전순으로 첫번째 수준을 제외 시키고 가변수화합니다.\n",
    "    ('pt', 'passthrough', X_genre)# X_genre는 처리 없이 통과시킵니다.\n",
    "])\n",
    "\n",
    "reg_mlp = make_pipeline(\n",
    "    ct, \n",
    "    MLPRegressor(\n",
    "        hidden_layer_sizes=[16, 8], # 은닉층의 사이즈를 16, 8 로 합니다.\n",
    "        activation='relu', # 활성화 함수는 ReLU로 합니다.\n",
    "        learning_rate_init=0.001, # 초기 학습률은 0.001, \n",
    "        alpha=0.001, # L2 규제 계수는 0.001로합니다.\n",
    "        random_state=123\n",
    "    )\n",
    ")\n",
    "X_mlp = ['user id', 'item id', 'occupation', 'gender'] + X_genre\n",
    "eval_model(reg_mlp, df_train_2, X_mlp)"
   ]
  },
  {
   "cell_type": "code",
   "execution_count": null,
   "id": "92524859-0ce5-4804-bbb7-f8941e24c65c",
   "metadata": {},
   "outputs": [],
   "source": [
    "from sklearn.neural_network import MLPRegressor\n",
    "X_genre = df_movie.columns[2:].tolist()\n",
    "ct = ColumnTransformer([\n",
    "    (\n",
    "        'ohe', \n",
    "        OneHotEncoder(handle_unknown='ignore'), \n",
    "        ['user id', 'item id', 'occupation', 'gender']\n",
    "    ),# occupation, gender를 사전순으로 첫번째 수준을 제외 시키고 가변수화합니다.\n",
    "    ('pt', 'passthrough', X_genre)# X_genre는 처리 없이 통과시킵니다.\n",
    "])\n",
    "\n",
    "reg_mlp_2 = make_pipeline(\n",
    "    ct, \n",
    "    MLPRegressor(\n",
    "        hidden_layer_sizes=[16, 8], # 은닉층의 사이즈를 16, 8 로 합니다.\n",
    "        activation='relu', # 활성화 함수는 ReLU로 합니다.\n",
    "        learning_rate_init=0.001, # 초기 학습률은 0.001, \n",
    "        alpha=0.001, # L2 규제 계수는 0.001로합니다.\n",
    "        random_state=123\n",
    "    )\n",
    ")\n",
    "X_mlp = ['user id', 'item id', 'occupation', 'gender'] + X_genre\n",
    "eval_model(reg_mlp_2, df_train_2, X_mlp)"
   ]
  },
  {
   "cell_type": "markdown",
   "id": "a85ae8e0-040b-47d9-90a9-8c915d686bce",
   "metadata": {},
   "source": [
    "\n",
    "**Embedding**: 복잡도가 문장, 이미지, 음성, 고차원의 범주 등 복잡도가 높은 형태의 데이터를 저 차원의 연속형 변수로 나타낸 데이터\n",
    "\n",
    "\n",
    "이번에는 user id와 item id를 대상 변수의 비율/평균으로 인코딩하는 것이 아닌, 임베딩으로 인코딩을 해봅니다. \n",
    "\n",
    "이를 위해 Tensorflow를 사용해보겠습니다.\n",
    "\n",
    "\n",
    "**Rating 예측 Neural Networks Architecture**"
   ]
  },
  {
   "cell_type": "markdown",
   "id": "5ac23570-ebf3-4ebd-bbab-45d7981f8844",
   "metadata": {},
   "source": [
    "![image.png](data:image/png;base64,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)"
   ]
  },
  {
   "cell_type": "markdown",
   "id": "ef82dbee-7d0e-412d-9a43-380d0f5fb418",
   "metadata": {},
   "source": [
    "N: 배치 사이즈(batch size)\n",
    "\n",
    "ct: 사용자 직업, 성별 가변수와 영화의 장르 여부 데이터"
   ]
  },
  {
   "cell_type": "code",
   "execution_count": 200,
   "id": "1b11297f-028b-4a7b-a50e-8ceebdcec58d",
   "metadata": {},
   "outputs": [
    {
     "data": {
      "text/plain": [
       "<tf.Tensor: shape=(4,), dtype=int64, numpy=array([1, 2, 0, 3])>"
      ]
     },
     "execution_count": 200,
     "metadata": {},
     "output_type": "execute_result"
    }
   ],
   "source": [
    "# IntegerLookup의 기능을 확인합니다.\n",
    "# vocabulary에 정의된 변수대로, 입력 변수를 위치 인덱스로 변환해줍니다.\n",
    "# vocabulary에 없는 수에 대해서는 0을 변환해줍니다.\n",
    "lu_user_id = tf.keras.layers.IntegerLookup(\n",
    "    vocabulary=[100, 200, 300]\n",
    ")\n",
    "lu_user_id(tf.constant([100, 200, 1, 300]))"
   ]
  },
  {
   "cell_type": "code",
   "execution_count": 76,
   "id": "d987fa45-06d9-4a48-b5a6-2b4032467184",
   "metadata": {},
   "outputs": [
    {
     "data": {
      "text/plain": [
       "<tf.Tensor: shape=(3, 16), dtype=float32, numpy=\n",
       "array([[-0.03469398, -0.03922371, -0.02491456,  0.00320264,  0.02842638,\n",
       "         0.01598373,  0.04374153, -0.01948618,  0.0199929 ,  0.03936005,\n",
       "         0.03149413,  0.02982252,  0.00102098,  0.00036061, -0.04401514,\n",
       "        -0.03996135],\n",
       "       [-0.04958997,  0.02238147, -0.03833001, -0.00497564, -0.04921616,\n",
       "         0.03918684,  0.04375373, -0.04285575,  0.0199929 ,  0.03936005,\n",
       "         0.03149413,  0.02982252,  0.00102098,  0.00036061, -0.04401514,\n",
       "        -0.03996135],\n",
       "       [-0.00086399,  0.01651921,  0.01733694, -0.04070868, -0.00922013,\n",
       "        -0.00739362, -0.0337853 ,  0.04195482,  0.03188105, -0.00482023,\n",
       "         0.0472116 , -0.04847175, -0.01714347, -0.03035238, -0.03947134,\n",
       "         0.02412856]], dtype=float32)>"
      ]
     },
     "execution_count": 76,
     "metadata": {},
     "output_type": "execute_result"
    }
   ],
   "source": [
    "lu_user_id = tf.keras.layers.IntegerLookup(vocabulary=tf.constant(df_user.index))\n",
    "emb_user = tf.keras.layers.Embedding(df_user.index.nunique() + 1, 8) # OOV(Out-of Vocabulary)를 고려해서 + 1을 해줍니다.\n",
    "lu_movie_id = tf.keras.layers.IntegerLookup(vocabulary=tf.constant(df_movie.index))\n",
    "emb_movie = tf.keras.layers.Embedding(df_movie.index.nunique() + 1, 8)\n",
    "\n",
    "cc = tf.keras.layers.Concatenate(axis=1) # 결합 레이어를 생성합니다.\n",
    "\n",
    "user_iloc = lu_user_id(tf.constant([3, 3, 5])) # 위치 인덱스를 가져옵니다 → 인덱스에 해당하는 임베딩을 가져옵니다.\n",
    "movie_iloc = lu_movie_id(tf.constant([1, 2, 3])) \n",
    "cc([emb_movie(movie_iloc), emb_user(user_iloc)]) # 두 개의 임베딩을 하나로 결합해줍니다."
   ]
  },
  {
   "cell_type": "markdown",
   "id": "8443f94d-b44d-4669-a136-cfd0f5220783",
   "metadata": {},
   "source": [
    "**Tensorflow를 통한 Rating 예측 모델 구현**"
   ]
  },
  {
   "cell_type": "code",
   "execution_count": 77,
   "id": "ba661e40-30d3-4253-bf6a-dad201563c7a",
   "metadata": {},
   "outputs": [],
   "source": [
    "class RatingModel(tf.keras.Model):\n",
    "    def __init__(self, user_ids, movie_ids):\n",
    "        super().__init__()\n",
    "        # user id들을 사전으로 구성하여 user id를 입력을 받아 이를 1부터 시작하는 인덱스로 변환해주는 Layer를 생성합니다. OOV: 0\n",
    "        self.lu_user_ids = tf.keras.layers.IntegerLookup(\n",
    "            vocabulary=tf.constant(user_ids)\n",
    "        )\n",
    "        # 사용자 임베딩을 생성합니다. OOV를 포함하여 사용자수 + 1입니다.\n",
    "        self.emb_user = tf.keras.layers.Embedding(len(user_ids) + 1, 8)\n",
    "        \n",
    "        # movie id들을 사전으로 구성하여 user id를 입력을 받아 이를 1부터 시작하는 인덱스로 변환해주는 Layer를 생성합니다. OOV: 0\n",
    "        self.lu_movie_ids = tf.keras.layers.IntegerLookup(\n",
    "            vocabulary=tf.constant(movie_ids)\n",
    "        )\n",
    "        # 영화 임베딩을 생성합니다.\n",
    "        self.emb_movie = tf.keras.layers.Embedding(len(movie_ids) + 1, 8)\n",
    "        \n",
    "        # Concatenate Layer\n",
    "        self.concat = tf.keras.layers.Concatenate(axis=1)\n",
    "        \n",
    "        # Dense Layer 1\n",
    "        self.d1 = tf.keras.layers.Dense(16)\n",
    "        # Dense Layer 2 \n",
    "        self.d2 = tf.keras.layers.Dense(8)\n",
    "        # Logit Layer\n",
    "        self.o = tf.keras.layers.Dense(1)\n",
    "    \n",
    "    def call(self, X, training=False):\n",
    "        x_user = self.lu_user_ids(X['user_id']) # 사용자 ID에서 임베딩 인덱스로 변환합니다. X['user_id'] N 정수 / x_user: N 정수\n",
    "        x_user = self.emb_user(x_user) # x_user에 해당하는 임베딩을 반환합니다. x_user: N×8 정수\n",
    "        x_movie = self.lu_movie_ids(X['movie_id']) # 영화 ID에서 임베딩 인덱스로 변환합니다. X['movie_id'] N 정수 / x_movie: N 정수\n",
    "        x_movie = self.emb_movie(x_movie) # x_movie에 해당하는 임베딩을 반환합니다. x_movie: N×8 정수\n",
    "        x = self.concat([x_user, x_movie, X['ct']])# To-Do-With x_user, x_movie, X['ct']을 결합합니다. X['ct']: N×40, x: N×56\n",
    "        x = self.d1(x) # d1레이를 통과시킵니다 x: N×16\n",
    "        x = self.d2(x) # d2레이어를 통과시킵니다. x: N×8\n",
    "        return self.o(x) # x: 출력층을 맏듭니다. N×1"
   ]
  },
  {
   "cell_type": "code",
   "execution_count": 80,
   "id": "c8fb0416-971a-4557-85b9-af7b3283d3a4",
   "metadata": {},
   "outputs": [
    {
     "name": "stdout",
     "output_type": "stream",
     "text": [
      "ct values size: 40\n",
      "Epoch 1/10\n",
      "500/500 [==============================] - 10s 16ms/step - loss: 1.8035 - val_loss: 0.9253\n",
      "Epoch 2/10\n",
      "500/500 [==============================] - 4s 7ms/step - loss: 0.8907 - val_loss: 0.9046\n",
      "Epoch 3/10\n",
      "500/500 [==============================] - 4s 7ms/step - loss: 0.8761 - val_loss: 0.9017\n",
      "Epoch 4/10\n",
      "500/500 [==============================] - 3s 6ms/step - loss: 0.8723 - val_loss: 0.9011\n",
      "Epoch 5/10\n",
      "500/500 [==============================] - 3s 7ms/step - loss: 0.8681 - val_loss: 0.8986\n",
      "Epoch 6/10\n",
      "500/500 [==============================] - 3s 6ms/step - loss: 0.8655 - val_loss: 0.8977\n",
      "Epoch 7/10\n",
      "500/500 [==============================] - 3s 7ms/step - loss: 0.8638 - val_loss: 0.8961\n",
      "Epoch 8/10\n",
      "500/500 [==============================] - 3s 5ms/step - loss: 0.8607 - val_loss: 0.8977\n",
      "Epoch 9/10\n",
      "500/500 [==============================] - 3s 6ms/step - loss: 0.8604 - val_loss: 0.8972\n",
      "Epoch 10/10\n",
      "500/500 [==============================] - 3s 6ms/step - loss: 0.8590 - val_loss: 0.9010\n",
      "125/125 [==============================] - 0s 3ms/step\n",
      "Epoch 1/10\n",
      "500/500 [==============================] - 9s 16ms/step - loss: 2.2798 - val_loss: 0.9126\n",
      "Epoch 2/10\n",
      "500/500 [==============================] - 3s 7ms/step - loss: 0.8889 - val_loss: 0.9003\n",
      "Epoch 3/10\n",
      "500/500 [==============================] - 3s 6ms/step - loss: 0.8749 - val_loss: 0.8969\n",
      "Epoch 4/10\n",
      "500/500 [==============================] - 3s 6ms/step - loss: 0.8701 - val_loss: 0.8924\n",
      "Epoch 5/10\n",
      "500/500 [==============================] - 3s 6ms/step - loss: 0.8666 - val_loss: 0.8914\n",
      "Epoch 6/10\n",
      "500/500 [==============================] - 3s 6ms/step - loss: 0.8650 - val_loss: 0.8918\n",
      "Epoch 7/10\n",
      "500/500 [==============================] - 3s 7ms/step - loss: 0.8627 - val_loss: 0.8924\n",
      "Epoch 8/10\n",
      "500/500 [==============================] - 3s 6ms/step - loss: 0.8611 - val_loss: 0.8905\n",
      "Epoch 9/10\n",
      "500/500 [==============================] - 3s 6ms/step - loss: 0.8603 - val_loss: 0.8941\n",
      "Epoch 10/10\n",
      "500/500 [==============================] - 3s 7ms/step - loss: 0.8583 - val_loss: 0.8907\n",
      "125/125 [==============================] - 0s 3ms/step\n",
      "Epoch 1/10\n",
      "500/500 [==============================] - 8s 15ms/step - loss: 1.7366 - val_loss: 0.9219\n",
      "Epoch 2/10\n",
      "500/500 [==============================] - 3s 6ms/step - loss: 0.8895 - val_loss: 0.9041\n",
      "Epoch 3/10\n",
      "500/500 [==============================] - 3s 7ms/step - loss: 0.8759 - val_loss: 0.9004\n",
      "Epoch 4/10\n",
      "500/500 [==============================] - 3s 7ms/step - loss: 0.8714 - val_loss: 0.9014\n",
      "Epoch 5/10\n",
      "500/500 [==============================] - 4s 7ms/step - loss: 0.8680 - val_loss: 0.8975\n",
      "Epoch 6/10\n",
      "500/500 [==============================] - 4s 7ms/step - loss: 0.8643 - val_loss: 0.8976\n",
      "Epoch 7/10\n",
      "500/500 [==============================] - 3s 6ms/step - loss: 0.8630 - val_loss: 0.8958\n",
      "Epoch 8/10\n",
      "500/500 [==============================] - 3s 6ms/step - loss: 0.8615 - val_loss: 0.8956\n",
      "Epoch 9/10\n",
      "500/500 [==============================] - 3s 6ms/step - loss: 0.8593 - val_loss: 0.9013\n",
      "Epoch 10/10\n",
      "500/500 [==============================] - 3s 6ms/step - loss: 0.8584 - val_loss: 0.8957\n",
      "125/125 [==============================] - 0s 2ms/step\n",
      "Epoch 1/10\n",
      "500/500 [==============================] - 8s 15ms/step - loss: 2.1038 - val_loss: 0.9115\n",
      "Epoch 2/10\n",
      "500/500 [==============================] - 3s 7ms/step - loss: 0.8892 - val_loss: 0.9004\n",
      "Epoch 3/10\n",
      "500/500 [==============================] - 3s 7ms/step - loss: 0.8760 - val_loss: 0.8953\n",
      "Epoch 4/10\n",
      "500/500 [==============================] - 4s 7ms/step - loss: 0.8710 - val_loss: 0.8947\n",
      "Epoch 5/10\n",
      "500/500 [==============================] - 3s 7ms/step - loss: 0.8673 - val_loss: 0.8909\n",
      "Epoch 6/10\n",
      "500/500 [==============================] - 3s 7ms/step - loss: 0.8652 - val_loss: 0.8904\n",
      "Epoch 7/10\n",
      "500/500 [==============================] - 3s 7ms/step - loss: 0.8627 - val_loss: 0.8998\n",
      "Epoch 8/10\n",
      "500/500 [==============================] - 3s 7ms/step - loss: 0.8609 - val_loss: 0.8892\n",
      "Epoch 9/10\n",
      "500/500 [==============================] - 3s 6ms/step - loss: 0.8598 - val_loss: 0.8934\n",
      "Epoch 10/10\n",
      "500/500 [==============================] - 3s 6ms/step - loss: 0.8590 - val_loss: 0.8910\n",
      "125/125 [==============================] - 0s 2ms/step\n",
      "Epoch 1/10\n",
      "500/500 [==============================] - 9s 16ms/step - loss: 1.7333 - val_loss: 0.9078\n",
      "Epoch 2/10\n",
      "500/500 [==============================] - 4s 8ms/step - loss: 0.8928 - val_loss: 0.8920\n",
      "Epoch 3/10\n",
      "500/500 [==============================] - 3s 6ms/step - loss: 0.8786 - val_loss: 0.8888\n",
      "Epoch 4/10\n",
      "500/500 [==============================] - 3s 6ms/step - loss: 0.8732 - val_loss: 0.8867\n",
      "Epoch 5/10\n",
      "500/500 [==============================] - 3s 6ms/step - loss: 0.8702 - val_loss: 0.8865\n",
      "Epoch 6/10\n",
      "500/500 [==============================] - 3s 7ms/step - loss: 0.8672 - val_loss: 0.8863\n",
      "Epoch 7/10\n",
      "500/500 [==============================] - 3s 6ms/step - loss: 0.8657 - val_loss: 0.8848\n",
      "Epoch 8/10\n",
      "500/500 [==============================] - 3s 6ms/step - loss: 0.8635 - val_loss: 0.8903\n",
      "Epoch 9/10\n",
      "500/500 [==============================] - 3s 6ms/step - loss: 0.8627 - val_loss: 0.8856\n",
      "Epoch 10/10\n",
      "500/500 [==============================] - 3s 6ms/step - loss: 0.8614 - val_loss: 0.8880\n",
      "125/125 [==============================] - 0s 3ms/step\n"
     ]
    },
    {
     "data": {
      "text/plain": [
       "[0.29296012608726385,\n",
       " 0.29324861503960586,\n",
       " 0.2865914140303869,\n",
       " 0.2902699998108361,\n",
       " 0.2961347090399856]"
      ]
     },
     "execution_count": 80,
     "metadata": {},
     "output_type": "execute_result"
    }
   ],
   "source": [
    "from sklearn.metrics import r2_score\n",
    "from sklearn.model_selection import KFold\n",
    "# 5-fold cross validation을 합니다.\n",
    "\n",
    "# Genre와 직업, 성별을 변환기를 설정합니다.\n",
    "ct = ColumnTransformer([\n",
    "    ('pt', 'passthrough', X_genre),\n",
    "    ('ohe', OneHotEncoder(drop='first'), ['occupation', 'gender']),\n",
    "])\n",
    "ct.fit(df_train_2)\n",
    "print(\"ct values size: {}\".format(len(ct.get_feature_names_out())))\n",
    "ct_cols = X_genre.tolist() + ['occupation', 'gender']\n",
    "\n",
    "cv = KFold(5)\n",
    "train_scores_, valid_scores_ =  [], []\n",
    "for train_idx, test_idx in cv.split(df_train_2):\n",
    "    tf.keras.backend.clear_session()\n",
    "    df_cv_train = df_train_2.iloc[train_idx]\n",
    "    df_cv_test = df_train_2.iloc[test_idx]\n",
    "    reg_nn_rating = RatingModel(\n",
    "        # df_train_2에 등장한 user id 중에서 출현빈도가 5건 이상만 전달합니다.\n",
    "        df_cv_train['user id'].value_counts().pipe(lambda x: x.loc[x >= 5].index), \n",
    "        # df_train_2에 등장한  item id 중에서 출현빈도가 5건 이상만 전달합니다.\n",
    "        df_cv_train['item id'].value_counts().pipe(lambda x: x.loc[x >= 5].index)\n",
    "    )\n",
    "    reg_nn_rating.compile(\n",
    "        optimizer= tf.keras.optimizers.Adam(), # Adam Optimizer를 사용합니다.\n",
    "        loss= tf.keras.losses.MeanSquaredError()# MSE로 설정합니다.\n",
    "    )\n",
    "    # ({'user_id': df_train_2.iloc[train_idx]['user id'] , 'movie_id': ~['item id'], 'ct': genre와 직업 성별 전처리 데이터}, rating) 구조의\n",
    "    # Tensorflow Dataset을 만들고\n",
    "    # shuffle 10000, batch 128의 과정을 설정합니다.\n",
    "    ds_train_2 = tf.data.Dataset.from_tensor_slices(({\n",
    "        'user_id': df_cv_train['user id'],\n",
    "        'movie_id': df_cv_train['item id'],\n",
    "        'ct': ct.transform(df_cv_train[ct_cols])\n",
    "    }, df_cv_train['rating'])).shuffle(10000).batch(128)\n",
    "\n",
    "    # ({'user_id': df_train_2.iloc[test_idx]['user id'] , 'movie_id': ~['item id'], 'ct': genre와 직업 성별 전처리 데이터}, rating) 구조의\n",
    "    # Tensorflow Dataset을 만들고\n",
    "    # batch 128의 과정을 설정합니다.\n",
    "    ds_valid_2 = tf.data.Dataset.from_tensor_slices(({\n",
    "        'user_id': df_cv_test['user id'],\n",
    "        'movie_id': df_cv_test['item id'],\n",
    "        'ct': ct.transform(df_cv_test[ct_cols])\n",
    "    }, df_cv_test['rating'])).batch(128)\n",
    "    \n",
    "    reg_nn_rating.fit(ds_train_2, validation_data=ds_valid_2, epochs=10)\n",
    "    # r2_score를 valid_score_에 기록합니다.\n",
    "    valid_scores_.append(\n",
    "        r2_score(\n",
    "            df_cv_test['rating'], \n",
    "            reg_nn_rating.predict(ds_valid_2)\n",
    "        )\n",
    "    )\n",
    "del ds_train_2, ds_valid_2\n",
    "valid_scores_, np.mean(valid_scores_)"
   ]
  },
  {
   "cell_type": "code",
   "execution_count": 53,
   "id": "33895533-a0e9-4239-a613-5c15a7aafaab",
   "metadata": {},
   "outputs": [
    {
     "name": "stdout",
     "output_type": "stream",
     "text": [
      "Epoch 1/10\n",
      "625/625 [==============================] - 9s 13ms/step - loss: 2.1243 - val_loss: 0.0000e+00\n",
      "Epoch 2/10\n",
      "625/625 [==============================] - 4s 6ms/step - loss: 0.8894 - val_loss: 0.0000e+00\n",
      "Epoch 3/10\n",
      "625/625 [==============================] - 4s 6ms/step - loss: 0.8785 - val_loss: 0.0000e+00\n",
      "Epoch 4/10\n",
      "625/625 [==============================] - 4s 7ms/step - loss: 0.8730 - val_loss: 0.0000e+00\n",
      "Epoch 5/10\n",
      "625/625 [==============================] - 4s 6ms/step - loss: 0.8685 - val_loss: 0.0000e+00\n",
      "Epoch 6/10\n",
      "625/625 [==============================] - 4s 6ms/step - loss: 0.8670 - val_loss: 0.0000e+00\n",
      "Epoch 7/10\n",
      "625/625 [==============================] - 4s 6ms/step - loss: 0.8649 - val_loss: 0.0000e+00\n",
      "Epoch 8/10\n",
      "625/625 [==============================] - 4s 6ms/step - loss: 0.8627 - val_loss: 0.0000e+00\n",
      "Epoch 9/10\n",
      "625/625 [==============================] - 4s 6ms/step - loss: 0.8616 - val_loss: 0.0000e+00\n",
      "Epoch 10/10\n",
      "625/625 [==============================] - 4s 6ms/step - loss: 0.8604 - val_loss: 0.0000e+00\n",
      "157/157 [==============================] - 0s 2ms/step\n"
     ]
    },
    {
     "data": {
      "text/plain": [
       "0.2957032587138039"
      ]
     },
     "execution_count": 53,
     "metadata": {},
     "output_type": "execute_result"
    }
   ],
   "source": [
    "# Train에 학습하고 Test로 평가합니다.\n",
    "\n",
    "# 전처리를 합니다.\n",
    "ct = ColumnTransformer([\n",
    "    ('pt', 'passthrough', X_genre),\n",
    "    ('ohe', OneHotEncoder(drop='first'), ['occupation', 'gender']),\n",
    "])\n",
    "ct.fit(df_train_2)\n",
    "\n",
    "tf.keras.backend.clear_session()\n",
    "reg_nn_rating = RatingModel(\n",
    "    df_train_2['user id'].value_counts().pipe(lambda x: x.loc[x >= 5].index.tolist()), \n",
    "    df_train_2['item id'].value_counts().pipe(lambda x: x.loc[x >= 5].index.tolist())\n",
    ")\n",
    "reg_nn_rating.compile(\n",
    "    optimizer=tf.keras.optimizers.Adam(), \n",
    "    loss=tf.keras.losses.MeanSquaredError(),\n",
    ")\n",
    "\n",
    "# ({'user_id': df_train_2['user id'] , 'movie_id': ~['item id'], 'ct': genre와 직업 성별 전처리 데이터}, rating) 구조의\n",
    "# Tensorflow Dataset을 만들고\n",
    "# shuffle 10000, batch 128의 과정을 설정합니다.\n",
    "ds_train_2 = tf.data.Dataset.from_tensor_slices(({\n",
    "    'user_id': df_train_2['user id'],\n",
    "    'movie_id': df_train_2['item id'],\n",
    "    'ct': ct.transform(df_train_2[ct_cols])\n",
    "}, df_train_2['rating'])).shuffle(10000).batch(128)\n",
    "\n",
    "# ({'user_id': df_train_2.iloc[test_idx]['user id'] , 'movie_id': ~['item id'], 'ct': genre와 직업 성별 전처리 데이터}, rating) 구조의\n",
    "# Tensorflow Dataset을 만들고\n",
    "# batch 128의 과정을 설정합니다.\n",
    "ds_test_2 = tf.data.Dataset.from_tensor_slices({\n",
    "    'user_id': df_test_2['user id'],\n",
    "    'movie_id': df_test_2['item id'],\n",
    "    'ct': ct.transform(df_test_2[ct_cols])\n",
    "}).batch(128)\n",
    "\n",
    "# ds_train_2로 reg_nn_rating을 학습을 시킵니다. \n",
    "# 검증셋을로 ds_test_2를 사용합니다.\n",
    "# epochs는 10으로 합니다. \n",
    "reg_nn_rating.fit(ds_train_2, epochs=10)\n",
    "# df_test2에 대한 reg_nn_rating의 r2_score를 구합니다.\n",
    "r2_score(\n",
    "    df_test_2['rating'], \n",
    "    reg_nn_rating.predict(ds_test_2)\n",
    ")"
   ]
  },
  {
   "cell_type": "code",
   "execution_count": 54,
   "id": "c64b311b-5800-4168-b8d9-c5ddaed76b29",
   "metadata": {},
   "outputs": [
    {
     "name": "stdout",
     "output_type": "stream",
     "text": [
      "Model: \"rating_model\"\n",
      "_________________________________________________________________\n",
      " Layer (type)                Output Shape              Param #   \n",
      "=================================================================\n",
      " integer_lookup (IntegerLoo  multiple                  0         \n",
      " kup)                                                            \n",
      "                                                                 \n",
      " embedding (Embedding)       multiple                  7552      \n",
      "                                                                 \n",
      " integer_lookup_1 (IntegerL  multiple                  0         \n",
      " ookup)                                                          \n",
      "                                                                 \n",
      " embedding_1 (Embedding)     multiple                  10328     \n",
      "                                                                 \n",
      " concatenate (Concatenate)   multiple                  0         \n",
      "                                                                 \n",
      " dense (Dense)               multiple                  272       \n",
      "                                                                 \n",
      " dense_1 (Dense)             multiple                  136       \n",
      "                                                                 \n",
      " dense_2 (Dense)             multiple                  9         \n",
      "                                                                 \n",
      "=================================================================\n",
      "Total params: 18297 (71.47 KB)\n",
      "Trainable params: 18297 (71.47 KB)\n",
      "Non-trainable params: 0 (0.00 Byte)\n",
      "_________________________________________________________________\n"
     ]
    }
   ],
   "source": [
    "reg_nn_rating.summary()"
   ]
  },
  {
   "cell_type": "code",
   "execution_count": 23,
   "id": "4fe96149-0e08-4365-85b5-c83fd08d7467",
   "metadata": {},
   "outputs": [],
   "source": [
    "from tensorboard.plugins import projector\n",
    "%load_ext tensorboard"
   ]
  },
  {
   "cell_type": "code",
   "execution_count": null,
   "id": "c8643697-a1b4-426d-b790-0c3a5157819d",
   "metadata": {},
   "outputs": [],
   "source": [
    "log_dir='logs/nn/'\n",
    "if not os.path.exists(log_dir):\n",
    "    os.makedirs(log_dir)\n",
    "\n",
    "# 임베딩의 메타데이터를 만듭니다.\n",
    "with open(os.path.join(log_dir, 'metadata.tsv'), \"w\") as f:\n",
    "    for i in df_train_2['item id'].value_counts().pipe(lambda x: x.loc[x >= 5].index):\n",
    "        f.write(\"{}\\n\".format(df_movie.loc[i, 'movie title']))\n",
    "\n",
    "# 영화 임베딩을 생성합니다.\n",
    "weights = tf.Variable(reg_nn_rating.emb_movie.get_weights()[0][1:])\n",
    "checkpoint = tf.train.Checkpoint(embedding=weights)\n",
    "checkpoint.save(os.path.join(log_dir, \"embedding.ckpt\"))\n",
    "\n",
    "# 임베딩 프로젝터를 설정합니다.\n",
    "config = projector.ProjectorConfig()\n",
    "embedding = config.embeddings.add()\n",
    "embedding.tensor_name = \"embedding/.ATTRIBUTES/VARIABLE_VALUE\"\n",
    "embedding.metadata_path = 'metadata.tsv'\n",
    "projector.visualize_embeddings(log_dir, config)"
   ]
  },
  {
   "cell_type": "code",
   "execution_count": 30,
   "id": "56c2950c-d2cc-4dfd-a8a3-9b630347760e",
   "metadata": {},
   "outputs": [
    {
     "data": {
      "text/html": [
       "\n",
       "      <iframe id=\"tensorboard-frame-e14216735e5ef784\" width=\"100%\" height=\"800\" frameborder=\"0\">\n",
       "      </iframe>\n",
       "      <script>\n",
       "        (function() {\n",
       "          const frame = document.getElementById(\"tensorboard-frame-e14216735e5ef784\");\n",
       "          const url = new URL(\"/\", window.location);\n",
       "          const port = 6006;\n",
       "          if (port) {\n",
       "            url.port = port;\n",
       "          }\n",
       "          frame.src = url;\n",
       "        })();\n",
       "      </script>\n",
       "    "
      ],
      "text/plain": [
       "<IPython.core.display.HTML object>"
      ]
     },
     "metadata": {},
     "output_type": "display_data"
    }
   ],
   "source": [
    "%tensorboard --logdir logs/nn/ --bind_all"
   ]
  },
  {
   "cell_type": "markdown",
   "id": "6e38e433-d8e3-4e7f-9d76-1f9f91d57010",
   "metadata": {},
   "source": [
    "# (비모수적 모델) Non-Parametric Model\n",
    "\n",
    "## 결정 나무(Decision Tree)\n",
    "\n",
    " 입력에 대한 판단 과정을 트리 구조로 나타낸 모델\n",
    " \n",
    " 단말노드는 트리의 출력내용을 정의하고, 일반노드는 입력값에 대한 다음 자식 노드를 이동하기 위한 노드분기 조건을 나타냅니다.\n",
    " \n",
    " 결정 나무는 학습셋에 있는 패턴을 나타내기 위해 트리 구조를 확장해 나가는 특징이 있어,\n",
    " \n",
    " 트리의 크기를 제한하기 위한 설정을 하지 않으면 학습셋에 대하여 최고의 성능을 나타낼 수 있습니다.\n",
    " \n",
    " ⇒ 과적합이 쉽게 발생합니다."
   ]
  },
  {
   "cell_type": "code",
   "execution_count": null,
   "id": "f745ffcf-e336-455e-8f64-197e6a3508b1",
   "metadata": {},
   "outputs": [],
   "source": []
  },
  {
   "cell_type": "markdown",
   "id": "01928504-8b9f-4ae7-bc16-b41f3162ca8a",
   "metadata": {},
   "source": [
    "# 앙상블 모델\n",
    "\n",
    "- 일반화 성능 향상을 위해 여러 모델을 결합한 모델 \n",
    "\n",
    "## Boosting \n",
    "\n",
    "- 이전까지 결합된 모델의 손실(Loss)을 줄이는 모델을 결합해가는 앙상블 기법\n",
    "\n",
    "## Bagging \n",
    "\n",
    "- 모델의 변동성을 줄이기 위해 Boostrapping을 통하여 다수의 모델을 만들어 변동성 줄이는 앙상블 기법"
   ]
  },
  {
   "cell_type": "markdown",
   "id": "f48fafe8-22f6-42f2-8ea7-99c39680478e",
   "metadata": {},
   "source": [
    "like 변수를 rating이 사용자의 rating 평균 이상이면 True 아니면 False로 정의 합니다."
   ]
  },
  {
   "cell_type": "code",
   "execution_count": 82,
   "id": "5278d77a-57a0-43c3-a433-24bf1ad84ea3",
   "metadata": {},
   "outputs": [
    {
     "data": {
      "text/html": [
       "<div>\n",
       "<style scoped>\n",
       "    .dataframe tbody tr th:only-of-type {\n",
       "        vertical-align: middle;\n",
       "    }\n",
       "\n",
       "    .dataframe tbody tr th {\n",
       "        vertical-align: top;\n",
       "    }\n",
       "\n",
       "    .dataframe thead th {\n",
       "        text-align: right;\n",
       "    }\n",
       "</style>\n",
       "<table border=\"1\" class=\"dataframe\">\n",
       "  <thead>\n",
       "    <tr style=\"text-align: right;\">\n",
       "      <th></th>\n",
       "      <th>user id</th>\n",
       "      <th>item id</th>\n",
       "      <th>rating</th>\n",
       "      <th>date</th>\n",
       "      <th>like</th>\n",
       "      <th>unknown</th>\n",
       "      <th>Action</th>\n",
       "      <th>Adventure</th>\n",
       "      <th>Animation</th>\n",
       "      <th>Children's</th>\n",
       "      <th>...</th>\n",
       "      <th>Fantasy</th>\n",
       "      <th>Film-Noir</th>\n",
       "      <th>Horror</th>\n",
       "      <th>Musical</th>\n",
       "      <th>Mystery</th>\n",
       "      <th>Romance</th>\n",
       "      <th>Sci-Fi</th>\n",
       "      <th>Thriller</th>\n",
       "      <th>War</th>\n",
       "      <th>Western</th>\n",
       "    </tr>\n",
       "  </thead>\n",
       "  <tbody>\n",
       "    <tr>\n",
       "      <th>22302</th>\n",
       "      <td>429</td>\n",
       "      <td>24</td>\n",
       "      <td>3</td>\n",
       "      <td>1997-12-17 19:18:29</td>\n",
       "      <td>True</td>\n",
       "      <td>0</td>\n",
       "      <td>1</td>\n",
       "      <td>1</td>\n",
       "      <td>0</td>\n",
       "      <td>0</td>\n",
       "      <td>...</td>\n",
       "      <td>0</td>\n",
       "      <td>0</td>\n",
       "      <td>0</td>\n",
       "      <td>0</td>\n",
       "      <td>0</td>\n",
       "      <td>0</td>\n",
       "      <td>0</td>\n",
       "      <td>0</td>\n",
       "      <td>0</td>\n",
       "      <td>0</td>\n",
       "    </tr>\n",
       "    <tr>\n",
       "      <th>49609</th>\n",
       "      <td>480</td>\n",
       "      <td>511</td>\n",
       "      <td>4</td>\n",
       "      <td>1998-03-29 21:56:39</td>\n",
       "      <td>False</td>\n",
       "      <td>0</td>\n",
       "      <td>0</td>\n",
       "      <td>1</td>\n",
       "      <td>0</td>\n",
       "      <td>0</td>\n",
       "      <td>...</td>\n",
       "      <td>0</td>\n",
       "      <td>0</td>\n",
       "      <td>0</td>\n",
       "      <td>0</td>\n",
       "      <td>0</td>\n",
       "      <td>0</td>\n",
       "      <td>0</td>\n",
       "      <td>0</td>\n",
       "      <td>1</td>\n",
       "      <td>0</td>\n",
       "    </tr>\n",
       "    <tr>\n",
       "      <th>89251</th>\n",
       "      <td>916</td>\n",
       "      <td>746</td>\n",
       "      <td>3</td>\n",
       "      <td>1997-11-29 22:57:42</td>\n",
       "      <td>True</td>\n",
       "      <td>0</td>\n",
       "      <td>0</td>\n",
       "      <td>0</td>\n",
       "      <td>0</td>\n",
       "      <td>0</td>\n",
       "      <td>...</td>\n",
       "      <td>0</td>\n",
       "      <td>0</td>\n",
       "      <td>0</td>\n",
       "      <td>0</td>\n",
       "      <td>0</td>\n",
       "      <td>0</td>\n",
       "      <td>0</td>\n",
       "      <td>0</td>\n",
       "      <td>0</td>\n",
       "      <td>0</td>\n",
       "    </tr>\n",
       "    <tr>\n",
       "      <th>96385</th>\n",
       "      <td>892</td>\n",
       "      <td>196</td>\n",
       "      <td>4</td>\n",
       "      <td>1998-02-04 16:27:02</td>\n",
       "      <td>False</td>\n",
       "      <td>0</td>\n",
       "      <td>0</td>\n",
       "      <td>0</td>\n",
       "      <td>0</td>\n",
       "      <td>0</td>\n",
       "      <td>...</td>\n",
       "      <td>0</td>\n",
       "      <td>0</td>\n",
       "      <td>0</td>\n",
       "      <td>0</td>\n",
       "      <td>0</td>\n",
       "      <td>0</td>\n",
       "      <td>0</td>\n",
       "      <td>0</td>\n",
       "      <td>0</td>\n",
       "      <td>0</td>\n",
       "    </tr>\n",
       "    <tr>\n",
       "      <th>17569</th>\n",
       "      <td>90</td>\n",
       "      <td>83</td>\n",
       "      <td>5</td>\n",
       "      <td>1998-03-31 22:34:47</td>\n",
       "      <td>False</td>\n",
       "      <td>0</td>\n",
       "      <td>0</td>\n",
       "      <td>0</td>\n",
       "      <td>0</td>\n",
       "      <td>0</td>\n",
       "      <td>...</td>\n",
       "      <td>0</td>\n",
       "      <td>0</td>\n",
       "      <td>0</td>\n",
       "      <td>0</td>\n",
       "      <td>0</td>\n",
       "      <td>1</td>\n",
       "      <td>0</td>\n",
       "      <td>0</td>\n",
       "      <td>0</td>\n",
       "      <td>0</td>\n",
       "    </tr>\n",
       "  </tbody>\n",
       "</table>\n",
       "<p>5 rows × 24 columns</p>\n",
       "</div>"
      ],
      "text/plain": [
       "       user id  item id  rating                date   like  unknown  Action  \\\n",
       "22302      429       24       3 1997-12-17 19:18:29   True        0       1   \n",
       "49609      480      511       4 1998-03-29 21:56:39  False        0       0   \n",
       "89251      916      746       3 1997-11-29 22:57:42   True        0       0   \n",
       "96385      892      196       4 1998-02-04 16:27:02  False        0       0   \n",
       "17569       90       83       5 1998-03-31 22:34:47  False        0       0   \n",
       "\n",
       "       Adventure  Animation  Children's  ...  Fantasy  Film-Noir  Horror  \\\n",
       "22302          1          0           0  ...        0          0       0   \n",
       "49609          1          0           0  ...        0          0       0   \n",
       "89251          0          0           0  ...        0          0       0   \n",
       "96385          0          0           0  ...        0          0       0   \n",
       "17569          0          0           0  ...        0          0       0   \n",
       "\n",
       "       Musical  Mystery  Romance  Sci-Fi  Thriller  War  Western  \n",
       "22302        0        0        0       0         0    0        0  \n",
       "49609        0        0        0       0         0    1        0  \n",
       "89251        0        0        0       0         0    0        0  \n",
       "96385        0        0        0       0         0    0        0  \n",
       "17569        0        0        1       0         0    0        0  \n",
       "\n",
       "[5 rows x 24 columns]"
      ]
     },
     "execution_count": 82,
     "metadata": {},
     "output_type": "execute_result"
    }
   ],
   "source": [
    "# like를 만듭니다.\n",
    "df_train_3 = df_train.assign(\n",
    "    like = df_train.groupby('user id')['rating'].transform('mean') > df_train['rating']\n",
    ")\n",
    "# Genre별 선호비율 조사하기위해 genre를 결합시킵니다.\n",
    "X_genre = df_movie.columns[2:].tolist()\n",
    "df_train_3 = df_train_3.join(df_movie[X_genre], on='item id')\n",
    "df_train_3.head()"
   ]
  },
  {
   "cell_type": "markdown",
   "id": "7daf54bd-9f1a-4cb0-923b-ab16d4cae744",
   "metadata": {},
   "source": [
    "사용자의 장르별 선호도를 사용자가 like를 한 비율을 측정하여 구합니다. like에 대한 기록이 없는 장르는 0으로 합니다."
   ]
  },
  {
   "cell_type": "code",
   "execution_count": 83,
   "id": "5be9f895-6572-4641-a3f4-7eab45b339f2",
   "metadata": {},
   "outputs": [],
   "source": [
    "# 사용자의 genre별 선호도를 구하여 입력 변수로 활용할 수 있게 like의 비율을 구합니다. \n",
    "df_like = df_train_3.groupby('user id')[X_genre].mean()"
   ]
  },
  {
   "cell_type": "code",
   "execution_count": 84,
   "id": "b3eed21a-0ee3-4144-b97b-bcef316542a2",
   "metadata": {},
   "outputs": [],
   "source": [
    "# 결합합니다.\n",
    "df_train_3_like = df_train_3.join(df_like, on='user id', rsuffix='_mean')"
   ]
  },
  {
   "cell_type": "markdown",
   "id": "52782bd6-ad62-4ed7-8329-cdd2fa2102f9",
   "metadata": {},
   "source": [
    "**Light GBM으로 모델을 구성하여 성능을 평가해 봅니다**"
   ]
  },
  {
   "cell_type": "code",
   "execution_count": 85,
   "id": "f4732da3-57ac-481f-aa65-0385b60abba0",
   "metadata": {},
   "outputs": [
    {
     "data": {
      "text/plain": [
       "array([0.61525094, 0.62325222, 0.61001096, 0.61575168, 0.6226304 ])"
      ]
     },
     "execution_count": 85,
     "metadata": {},
     "output_type": "execute_result"
    }
   ],
   "source": [
    "import lightgbm as lgb\n",
    "from sklearn.model_selection import cross_val_score, KFold\n",
    "cv =KFold(5)\n",
    "clf_lgb = lgb.LGBMClassifier(verbose=-1)\n",
    "scores = cross_val_score(clf_lgb, \n",
    "    df_train_3_like[[i + '_mean' for i in X_genre]],\n",
    "    df_train_3_like['like'],\n",
    "    cv=cv,\n",
    "    scoring='roc_auc'                         \n",
    ")\n",
    "scores"
   ]
  },
  {
   "cell_type": "code",
   "execution_count": 86,
   "id": "ea48665a-bc72-4710-b6cf-26be6e0502a1",
   "metadata": {},
   "outputs": [
    {
     "data": {
      "text/html": [
       "<style>#sk-container-id-1 {color: black;}#sk-container-id-1 pre{padding: 0;}#sk-container-id-1 div.sk-toggleable {background-color: white;}#sk-container-id-1 label.sk-toggleable__label {cursor: pointer;display: block;width: 100%;margin-bottom: 0;padding: 0.3em;box-sizing: border-box;text-align: center;}#sk-container-id-1 label.sk-toggleable__label-arrow:before {content: \"▸\";float: left;margin-right: 0.25em;color: #696969;}#sk-container-id-1 label.sk-toggleable__label-arrow:hover:before {color: black;}#sk-container-id-1 div.sk-estimator:hover label.sk-toggleable__label-arrow:before {color: black;}#sk-container-id-1 div.sk-toggleable__content {max-height: 0;max-width: 0;overflow: hidden;text-align: left;background-color: #f0f8ff;}#sk-container-id-1 div.sk-toggleable__content pre {margin: 0.2em;color: black;border-radius: 0.25em;background-color: #f0f8ff;}#sk-container-id-1 input.sk-toggleable__control:checked~div.sk-toggleable__content {max-height: 200px;max-width: 100%;overflow: auto;}#sk-container-id-1 input.sk-toggleable__control:checked~label.sk-toggleable__label-arrow:before {content: \"▾\";}#sk-container-id-1 div.sk-estimator input.sk-toggleable__control:checked~label.sk-toggleable__label {background-color: #d4ebff;}#sk-container-id-1 div.sk-label input.sk-toggleable__control:checked~label.sk-toggleable__label {background-color: #d4ebff;}#sk-container-id-1 input.sk-hidden--visually {border: 0;clip: rect(1px 1px 1px 1px);clip: rect(1px, 1px, 1px, 1px);height: 1px;margin: -1px;overflow: hidden;padding: 0;position: absolute;width: 1px;}#sk-container-id-1 div.sk-estimator {font-family: monospace;background-color: #f0f8ff;border: 1px dotted black;border-radius: 0.25em;box-sizing: border-box;margin-bottom: 0.5em;}#sk-container-id-1 div.sk-estimator:hover {background-color: #d4ebff;}#sk-container-id-1 div.sk-parallel-item::after {content: \"\";width: 100%;border-bottom: 1px solid gray;flex-grow: 1;}#sk-container-id-1 div.sk-label:hover label.sk-toggleable__label {background-color: #d4ebff;}#sk-container-id-1 div.sk-serial::before {content: \"\";position: absolute;border-left: 1px solid gray;box-sizing: border-box;top: 0;bottom: 0;left: 50%;z-index: 0;}#sk-container-id-1 div.sk-serial {display: flex;flex-direction: column;align-items: center;background-color: white;padding-right: 0.2em;padding-left: 0.2em;position: relative;}#sk-container-id-1 div.sk-item {position: relative;z-index: 1;}#sk-container-id-1 div.sk-parallel {display: flex;align-items: stretch;justify-content: center;background-color: white;position: relative;}#sk-container-id-1 div.sk-item::before, #sk-container-id-1 div.sk-parallel-item::before {content: \"\";position: absolute;border-left: 1px solid gray;box-sizing: border-box;top: 0;bottom: 0;left: 50%;z-index: -1;}#sk-container-id-1 div.sk-parallel-item {display: flex;flex-direction: column;z-index: 1;position: relative;background-color: white;}#sk-container-id-1 div.sk-parallel-item:first-child::after {align-self: flex-end;width: 50%;}#sk-container-id-1 div.sk-parallel-item:last-child::after {align-self: flex-start;width: 50%;}#sk-container-id-1 div.sk-parallel-item:only-child::after {width: 0;}#sk-container-id-1 div.sk-dashed-wrapped {border: 1px dashed gray;margin: 0 0.4em 0.5em 0.4em;box-sizing: border-box;padding-bottom: 0.4em;background-color: white;}#sk-container-id-1 div.sk-label label {font-family: monospace;font-weight: bold;display: inline-block;line-height: 1.2em;}#sk-container-id-1 div.sk-label-container {text-align: center;}#sk-container-id-1 div.sk-container {/* jupyter's `normalize.less` sets `[hidden] { display: none; }` but bootstrap.min.css set `[hidden] { display: none !important; }` so we also need the `!important` here to be able to override the default hidden behavior on the sphinx rendered scikit-learn.org. See: https://github.com/scikit-learn/scikit-learn/issues/21755 */display: inline-block !important;position: relative;}#sk-container-id-1 div.sk-text-repr-fallback {display: none;}</style><div id=\"sk-container-id-1\" class=\"sk-top-container\"><div class=\"sk-text-repr-fallback\"><pre>LGBMClassifier(verbose=-1)</pre><b>In a Jupyter environment, please rerun this cell to show the HTML representation or trust the notebook. <br />On GitHub, the HTML representation is unable to render, please try loading this page with nbviewer.org.</b></div><div class=\"sk-container\" hidden><div class=\"sk-item\"><div class=\"sk-estimator sk-toggleable\"><input class=\"sk-toggleable__control sk-hidden--visually\" id=\"sk-estimator-id-1\" type=\"checkbox\" checked><label for=\"sk-estimator-id-1\" class=\"sk-toggleable__label sk-toggleable__label-arrow\">LGBMClassifier</label><div class=\"sk-toggleable__content\"><pre>LGBMClassifier(verbose=-1)</pre></div></div></div></div></div>"
      ],
      "text/plain": [
       "LGBMClassifier(verbose=-1)"
      ]
     },
     "execution_count": 86,
     "metadata": {},
     "output_type": "execute_result"
    }
   ],
   "source": [
    "clf_lgb.fit(\n",
    "    df_train_3_like[[i + '_mean' for i in X_genre]],\n",
    "    df_train_3_like['like']\n",
    ")"
   ]
  },
  {
   "cell_type": "code",
   "execution_count": 87,
   "id": "9a880955-354a-4497-b3b7-cd24244b9ad7",
   "metadata": {},
   "outputs": [
    {
     "data": {
      "image/png": "[encoded data removed]",
      "text/plain": [
       "<Figure size 640x480 with 1 Axes>"
      ]
     },
     "metadata": {},
     "output_type": "display_data"
    }
   ],
   "source": [
    "# 입력 변수별 중요로를 살펴 봅니다.\n",
    "sns.barplot(\n",
    "    x = clf_lgb.feature_importances_,\n",
    "    y = [i + '_mean' for i in X_genre]\n",
    ")\n",
    "plt.show()"
   ]
  },
  {
   "cell_type": "markdown",
   "id": "4770790f-7674-4903-bf3d-2ee7a58c1639",
   "metadata": {},
   "source": [
    "# 비지도 학습\n",
    "\n",
    "- 군집화(Clustering ): 비슷한 속성을 지닌 데이터 포인트를 그룹화하는 과정\n",
    "\n",
    "- 차원축소(Dimension Reduction): 정보의 손실을 최소화하여 데이터의 변수의 수를 줄이는 과정"
   ]
  },
  {
   "cell_type": "markdown",
   "id": "9314d0d0-01b0-4a3e-a8b1-9cf81db1dcd7",
   "metadata": {},
   "source": [
    "**예제: 차원 축소 기법을 활용한 초간단 텍스트 마이닝**\n",
    "\n",
    "영화 줄거리 데이터에서, Bag-of-words 모델 + TF-IDF 변환 + TruncatedSVD 모델을 이용한 텍스트 임베딩 추출\n",
    "\n",
    "> Bag-of-words : 문서를 단어들의 출현 빈도로 나타냅니다.\n",
    "\n",
    "> TF-IDF 변환: 단어 빈도수를 전체 문서들에서 두루 나오는 단어의 가중치를 낮추어 변환합니다.\n",
    "\n",
    "> TruncatedSVD: 입력 변수의 수를 줄입니다.\n",
    "\n",
    "→ LSA(Latent Semantic Allocation) model"
   ]
  },
  {
   "cell_type": "code",
   "execution_count": 90,
   "id": "4b7257b9-1d91-4dca-8e5f-2e5868c716e1",
   "metadata": {},
   "outputs": [],
   "source": [
    "with open('dataset/tmdb_movie_info_kr.pkl', 'rb') as f:\n",
    "    movie_info_kr = pkl.load(f)"
   ]
  },
  {
   "cell_type": "code",
   "execution_count": 91,
   "id": "1aad8004-6e8f-411c-98fd-bee7c0fc0ecc",
   "metadata": {},
   "outputs": [
    {
     "data": {
      "text/plain": [
       "'카우보이 인형 우디는 꼬마 주인인 앤디의 가장 사랑받는 장난감이다. 그러나 어느날 버즈라는 새로운 장난감이 등장한다.  버즈는 최신형 장난감으로 레이저 빔 등의 첨단장비를 갖추고 있으나, 버즈는 자신이 장난감임을 인식하지 못하고 자신이 우주에서 온 전사이며 자신이 갖춘 장비로 하늘을 날 수 있다고 믿고 있다. 버즈의 허상을 상처받지 않고 인식시켜 주려는 우디와 친구들. 그러나 뜻밖의 사고가 일어난다. 옆집 개에게 버즈가 납치당하고 이런 버즈를 구하기 위해 우디와 친구들은 구조대를 조직해 버즈를 구하러 가는데...'"
      ]
     },
     "execution_count": 91,
     "metadata": {},
     "output_type": "execute_result"
    }
   ],
   "source": [
    "movie_info_kr[1]['overview']"
   ]
  },
  {
   "cell_type": "markdown",
   "id": "89c2bec0-a89c-4898-a000-73ea91f84cd5",
   "metadata": {},
   "source": [
    "한글 형태소 분석기: 어절에서 형태소 단위의 분리를 해주며, 이와 함께  형태소의 품사를 제공합니다.\n",
    "\n",
    "[KIWI](https://github.com/bab2min/kiwipiepy)"
   ]
  },
  {
   "cell_type": "code",
   "execution_count": 92,
   "id": "f988a0f2-c365-4754-b16d-cc4c3f680045",
   "metadata": {},
   "outputs": [],
   "source": [
    "# 한글 형태소 분석기: 형태소 분석기를 통해 어절에서 단어를 추출합니다. \n",
    "\n",
    "from kiwipiepy import Kiwi\n",
    "from tqdm import tqdm\n",
    "kiwi = Kiwi()"
   ]
  },
  {
   "cell_type": "code",
   "execution_count": 93,
   "id": "e4f30250-d071-49ae-b96f-c965f7245d96",
   "metadata": {},
   "outputs": [
    {
     "data": {
      "text/plain": [
       "[([Token(form='카우보이', tag='NNG', start=0, len=4),\n",
       "   Token(form='인형', tag='NNG', start=5, len=2),\n",
       "   Token(form='우디', tag='NNP', start=8, len=2),\n",
       "   Token(form='는', tag='JX', start=10, len=1),\n",
       "   Token(form='꼬마', tag='NNG', start=12, len=2),\n",
       "   Token(form='주인', tag='NNG', start=15, len=2),\n",
       "   Token(form='이', tag='VCP', start=17, len=1),\n",
       "   Token(form='ᆫ', tag='ETM', start=17, len=1),\n",
       "   Token(form='앤디', tag='NNP', start=19, len=2),\n",
       "   Token(form='의', tag='JKG', start=21, len=1),\n",
       "   Token(form='가장', tag='MAG', start=23, len=2),\n",
       "   Token(form='사랑', tag='NNG', start=26, len=2),\n",
       "   Token(form='받', tag='XSV', start=28, len=1),\n",
       "   Token(form='는', tag='ETM', start=29, len=1),\n",
       "   Token(form='장난감', tag='NNG', start=31, len=3),\n",
       "   Token(form='이', tag='VCP', start=34, len=1),\n",
       "   Token(form='다', tag='EF', start=35, len=1),\n",
       "   Token(form='.', tag='SF', start=36, len=1),\n",
       "   Token(form='그러나', tag='MAJ', start=38, len=3),\n",
       "   Token(form='어느', tag='MM', start=42, len=2),\n",
       "   Token(form='날', tag='NNG', start=44, len=1),\n",
       "   Token(form='버즈', tag='NNP', start=46, len=2),\n",
       "   Token(form='이', tag='VCP', start=48, len=0),\n",
       "   Token(form='라는', tag='ETM', start=48, len=2),\n",
       "   Token(form='새롭', tag='VA-I', start=51, len=3),\n",
       "   Token(form='은', tag='ETM', start=53, len=1),\n",
       "   Token(form='장난감', tag='NNG', start=55, len=3),\n",
       "   Token(form='이', tag='JKS', start=58, len=1),\n",
       "   Token(form='등장', tag='NNG', start=60, len=2),\n",
       "   Token(form='하', tag='XSV', start=62, len=1),\n",
       "   Token(form='ᆫ다', tag='EF', start=62, len=2),\n",
       "   Token(form='.', tag='SF', start=64, len=1),\n",
       "   Token(form='버즈', tag='NNP', start=67, len=2),\n",
       "   Token(form='는', tag='JX', start=69, len=1),\n",
       "   Token(form='최신', tag='NNG', start=71, len=2),\n",
       "   Token(form='형', tag='XSN', start=73, len=1),\n",
       "   Token(form='장난감', tag='NNG', start=75, len=3),\n",
       "   Token(form='으로', tag='JKB', start=78, len=2),\n",
       "   Token(form='레이저', tag='NNG', start=81, len=3),\n",
       "   Token(form='빔', tag='NNG', start=85, len=1),\n",
       "   Token(form='등', tag='NNB', start=87, len=1),\n",
       "   Token(form='의', tag='JKG', start=88, len=1),\n",
       "   Token(form='첨단', tag='NNG', start=90, len=2),\n",
       "   Token(form='장비', tag='NNG', start=92, len=2),\n",
       "   Token(form='를', tag='JKO', start=94, len=1),\n",
       "   Token(form='갖추', tag='VV', start=96, len=2),\n",
       "   Token(form='고', tag='EC', start=98, len=1),\n",
       "   Token(form='있', tag='VX', start=100, len=1),\n",
       "   Token(form='으나', tag='EC', start=101, len=2),\n",
       "   Token(form=',', tag='SP', start=103, len=1),\n",
       "   Token(form='버즈', tag='NNP', start=105, len=2),\n",
       "   Token(form='는', tag='JX', start=107, len=1),\n",
       "   Token(form='자신', tag='NNG', start=109, len=2),\n",
       "   Token(form='이', tag='JKS', start=111, len=1),\n",
       "   Token(form='장난감', tag='NNG', start=113, len=3),\n",
       "   Token(form='이', tag='VCP', start=116, len=1),\n",
       "   Token(form='ᆷ', tag='ETN', start=116, len=1),\n",
       "   Token(form='을', tag='JKO', start=117, len=1),\n",
       "   Token(form='인식', tag='NNG', start=119, len=2),\n",
       "   Token(form='하', tag='XSV', start=121, len=1),\n",
       "   Token(form='지', tag='EC', start=122, len=1),\n",
       "   Token(form='못하', tag='VX', start=124, len=2),\n",
       "   Token(form='고', tag='EC', start=126, len=1),\n",
       "   Token(form='자신', tag='NNG', start=128, len=2),\n",
       "   Token(form='이', tag='JKS', start=130, len=1),\n",
       "   Token(form='우주', tag='NNG', start=132, len=2),\n",
       "   Token(form='에서', tag='JKB', start=134, len=2),\n",
       "   Token(form='오', tag='VV', start=137, len=1),\n",
       "   Token(form='ᆫ', tag='ETM', start=137, len=1),\n",
       "   Token(form='전사', tag='NNG', start=139, len=2),\n",
       "   Token(form='이', tag='VCP', start=141, len=1),\n",
       "   Token(form='며', tag='EC', start=142, len=1),\n",
       "   Token(form='자신', tag='NNG', start=144, len=2),\n",
       "   Token(form='이', tag='JKS', start=146, len=1),\n",
       "   Token(form='갖추', tag='VV', start=148, len=2),\n",
       "   Token(form='ᆫ', tag='ETM', start=149, len=1),\n",
       "   Token(form='장비', tag='NNG', start=151, len=2),\n",
       "   Token(form='로', tag='JKB', start=153, len=1),\n",
       "   Token(form='하늘', tag='NNG', start=155, len=2),\n",
       "   Token(form='을', tag='JKO', start=157, len=1),\n",
       "   Token(form='날', tag='VV', start=159, len=1),\n",
       "   Token(form='ᆯ', tag='ETM', start=159, len=1),\n",
       "   Token(form='수', tag='NNB', start=161, len=1),\n",
       "   Token(form='있', tag='VA', start=163, len=1),\n",
       "   Token(form='다고', tag='EC', start=164, len=2),\n",
       "   Token(form='믿', tag='VV-R', start=167, len=1),\n",
       "   Token(form='고', tag='EC', start=168, len=1),\n",
       "   Token(form='있', tag='VX', start=170, len=1),\n",
       "   Token(form='다', tag='EF', start=171, len=1),\n",
       "   Token(form='.', tag='SF', start=172, len=1),\n",
       "   Token(form='버즈', tag='NNP', start=174, len=2),\n",
       "   Token(form='의', tag='JKG', start=176, len=1),\n",
       "   Token(form='허상', tag='NNG', start=178, len=2),\n",
       "   Token(form='을', tag='JKO', start=180, len=1),\n",
       "   Token(form='상처', tag='NNG', start=182, len=2),\n",
       "   Token(form='받', tag='VV-R', start=184, len=1),\n",
       "   Token(form='지', tag='EC', start=185, len=1),\n",
       "   Token(form='않', tag='VX', start=187, len=1),\n",
       "   Token(form='고', tag='EC', start=188, len=1),\n",
       "   Token(form='인식', tag='NNG', start=190, len=2),\n",
       "   Token(form='시키', tag='XSV', start=192, len=2),\n",
       "   Token(form='어', tag='EC', start=193, len=1),\n",
       "   Token(form='주', tag='VX', start=195, len=1),\n",
       "   Token(form='려는', tag='ETM', start=196, len=2),\n",
       "   Token(form='우디', tag='NNP', start=199, len=2),\n",
       "   Token(form='와', tag='JC', start=201, len=1),\n",
       "   Token(form='친구', tag='NNG', start=203, len=2),\n",
       "   Token(form='들', tag='XSN', start=205, len=1),\n",
       "   Token(form='.', tag='SF', start=206, len=1),\n",
       "   Token(form='그러나', tag='MAJ', start=208, len=3),\n",
       "   Token(form='뜻밖', tag='NNG', start=212, len=2),\n",
       "   Token(form='의', tag='JKG', start=214, len=1),\n",
       "   Token(form='사고', tag='NNG', start=216, len=2),\n",
       "   Token(form='가', tag='JKS', start=218, len=1),\n",
       "   Token(form='일어나', tag='VV', start=220, len=3),\n",
       "   Token(form='ᆫ다', tag='EF', start=222, len=2),\n",
       "   Token(form='.', tag='SF', start=224, len=1),\n",
       "   Token(form='옆집', tag='NNG', start=226, len=2),\n",
       "   Token(form='개', tag='NNB', start=229, len=1),\n",
       "   Token(form='에게', tag='JKB', start=230, len=2),\n",
       "   Token(form='버즈', tag='NNP', start=233, len=2),\n",
       "   Token(form='가', tag='JKS', start=235, len=1),\n",
       "   Token(form='납치', tag='NNG', start=237, len=2),\n",
       "   Token(form='당하', tag='XSV', start=239, len=2),\n",
       "   Token(form='고', tag='EC', start=241, len=1),\n",
       "   Token(form='이런', tag='MM', start=243, len=2),\n",
       "   Token(form='버즈', tag='NNP', start=246, len=2),\n",
       "   Token(form='를', tag='JKO', start=248, len=1),\n",
       "   Token(form='구하', tag='VV', start=250, len=2),\n",
       "   Token(form='기', tag='ETN', start=252, len=1),\n",
       "   Token(form='위하', tag='VV', start=254, len=2),\n",
       "   Token(form='어', tag='EC', start=255, len=1),\n",
       "   Token(form='우디', tag='NNP', start=257, len=2),\n",
       "   Token(form='와', tag='JC', start=259, len=1),\n",
       "   Token(form='친구', tag='NNG', start=261, len=2),\n",
       "   Token(form='들', tag='XSN', start=263, len=1),\n",
       "   Token(form='은', tag='JX', start=264, len=1),\n",
       "   Token(form='구조대', tag='NNG', start=266, len=3),\n",
       "   Token(form='를', tag='JKO', start=269, len=1),\n",
       "   Token(form='조직', tag='NNG', start=271, len=2),\n",
       "   Token(form='하', tag='XSV', start=273, len=1),\n",
       "   Token(form='어', tag='EC', start=273, len=1),\n",
       "   Token(form='버즈', tag='NNP', start=275, len=2),\n",
       "   Token(form='를', tag='JKO', start=277, len=1),\n",
       "   Token(form='구하', tag='VV', start=279, len=2),\n",
       "   Token(form='러', tag='EC', start=281, len=1),\n",
       "   Token(form='가', tag='VV', start=283, len=1),\n",
       "   Token(form='는데', tag='EF', start=284, len=2),\n",
       "   Token(form='...', tag='SF', start=286, len=3)],\n",
       "  -774.7431640625)]"
      ]
     },
     "execution_count": 93,
     "metadata": {},
     "output_type": "execute_result"
    }
   ],
   "source": [
    "kiwi.analyze(movie_info_kr[1]['overview'])"
   ]
  },
  {
   "cell_type": "markdown",
   "id": "1d83fa36-fccd-4ad5-a762-13c79534c046",
   "metadata": {},
   "source": [
    "조사(tag가 J로 시작) 어미(tag가 E로 시작), 접미사(tag X로 시작), 문장부호(tag S로 시작) 주격보어(VCP) 하는 단어들은 불용어 처리합니다."
   ]
  },
  {
   "cell_type": "code",
   "execution_count": 94,
   "id": "e5729e59-e2da-4f56-9535-02ce4da14f70",
   "metadata": {},
   "outputs": [
    {
     "data": {
      "text/plain": [
       "['카우보이',\n",
       " '인형',\n",
       " '우디',\n",
       " '꼬마',\n",
       " '주인',\n",
       " '앤디',\n",
       " '가장',\n",
       " '사랑',\n",
       " '장난감',\n",
       " '그러나',\n",
       " '어느',\n",
       " '날',\n",
       " '버즈',\n",
       " '새롭',\n",
       " '장난감',\n",
       " '등장',\n",
       " '버즈',\n",
       " '최신',\n",
       " '장난감',\n",
       " '레이저',\n",
       " '빔',\n",
       " '등',\n",
       " '첨단',\n",
       " '장비',\n",
       " '갖추',\n",
       " '있',\n",
       " '버즈',\n",
       " '자신',\n",
       " '장난감',\n",
       " '인식',\n",
       " '못하',\n",
       " '자신',\n",
       " '우주',\n",
       " '오',\n",
       " '전사',\n",
       " '자신',\n",
       " '갖추',\n",
       " '장비',\n",
       " '하늘',\n",
       " '날',\n",
       " '수',\n",
       " '있',\n",
       " '믿',\n",
       " '있',\n",
       " '버즈',\n",
       " '허상',\n",
       " '상처',\n",
       " '받',\n",
       " '않',\n",
       " '인식',\n",
       " '주',\n",
       " '우디',\n",
       " '친구',\n",
       " '그러나',\n",
       " '뜻밖',\n",
       " '사고',\n",
       " '일어나',\n",
       " '옆집',\n",
       " '개',\n",
       " '버즈',\n",
       " '납치',\n",
       " '이런',\n",
       " '버즈',\n",
       " '구하',\n",
       " '위하',\n",
       " '우디',\n",
       " '친구',\n",
       " '구조대',\n",
       " '조직',\n",
       " '버즈',\n",
       " '구하',\n",
       " '가']"
      ]
     },
     "execution_count": 94,
     "metadata": {},
     "output_type": "execute_result"
    }
   ],
   "source": [
    "words = [t.form for t in kiwi.tokenize(movie_info_kr[1]['overview']) if t.tag[0] not in ['J', 'E', 'X', 'S'] and t.tag != 'VCP']\n",
    "words"
   ]
  },
  {
   "cell_type": "code",
   "execution_count": 95,
   "id": "83d06cff-80ed-4750-b03c-945076ff0746",
   "metadata": {},
   "outputs": [
    {
     "name": "stderr",
     "output_type": "stream",
     "text": [
      "100%|████████████████████████████████████████████████████████████████████████████| 61571/61571 [02:29<00:00, 410.54it/s]\n"
     ]
    }
   ],
   "source": [
    "# 영화의 제목과 줄거리에서 불용어를 제외한 단어 추출 작업을\n",
    "# 전체 영화를 대상으로 진행합니다.\n",
    "doc_ids = []\n",
    "docs = []\n",
    "for k, v in tqdm(movie_info_kr.items()):\n",
    "    words = [t.form for t in kiwi.tokenize(v['title']) if t.tag[0] not in ['J', 'E', 'X', 'S'] and t.tag != 'VCP']\n",
    "    words += [t.form for t in kiwi.tokenize(v['overview']) if t.tag[0] not in ['J', 'E', 'X', 'S'] and t.tag != 'VCP']\n",
    "    doc_ids.append(k)\n",
    "    docs.append(words)"
   ]
  },
  {
   "cell_type": "code",
   "execution_count": 96,
   "id": "1ce6de22-e86d-43b6-bb44-dcdf5cb0a18f",
   "metadata": {},
   "outputs": [],
   "source": [
    "# 영화별로 추출한 단어 만으로 단어를 공백으로 구분하여 다시 결합시켜 하나의 문자열로 만듭니다. \n",
    "docs_str = [' '.join(i) for i in docs]"
   ]
  },
  {
   "cell_type": "markdown",
   "id": "26d8fc8f-3774-4657-9a19-7ab45238ccd0",
   "metadata": {},
   "source": [
    "**CountVectorizer를 학습 시킵니다**"
   ]
  },
  {
   "cell_type": "code",
   "execution_count": 97,
   "id": "2319bb0c-9798-4fe1-bbc7-4df2ffd288d8",
   "metadata": {},
   "outputs": [
    {
     "data": {
      "text/plain": [
       "'쥬만지 년 공장 운영 아버지 밑 자라 열두 살 소년 앨런 어느 날 공장 신축 부지 이상 북소리 듣 소리 따라가 앨런 나무 만들 지 이상 게임 판 발견 마침 집 오 새라 함께 게임 하 앨런 그만 게임 마법 걸리 게임 판 속 흔적 없이 사라지 년 쥬디 피터 교통사고 부모 잃 고모 함께 살 위하 값 싸 커다랗 집 이사 오 어느 날 고모 직장 출근 나 뒤 두 아이 먼지 쌓이 다락방 들려오 이상 북소리 듣 되 북소리 이끌리 쥬디 피터 찾아내 것 쥬만지 게임 판 호기심 많 두 아이 게임 판 지시 따르 주사위 던지 지금껏 한 번 보 적 없 세계 만나 되 그 게임 그만두 하 자신 의지 상관없이 게임 계속'"
      ]
     },
     "execution_count": 97,
     "metadata": {},
     "output_type": "execute_result"
    }
   ],
   "source": [
    "docs_str[1]"
   ]
  },
  {
   "cell_type": "code",
   "execution_count": 98,
   "id": "b35df81d-19da-42ab-b1f3-ffe105bf08ae",
   "metadata": {},
   "outputs": [
    {
     "data": {
      "text/html": [
       "<style>#sk-container-id-2 {color: black;}#sk-container-id-2 pre{padding: 0;}#sk-container-id-2 div.sk-toggleable {background-color: white;}#sk-container-id-2 label.sk-toggleable__label {cursor: pointer;display: block;width: 100%;margin-bottom: 0;padding: 0.3em;box-sizing: border-box;text-align: center;}#sk-container-id-2 label.sk-toggleable__label-arrow:before {content: \"▸\";float: left;margin-right: 0.25em;color: #696969;}#sk-container-id-2 label.sk-toggleable__label-arrow:hover:before {color: black;}#sk-container-id-2 div.sk-estimator:hover label.sk-toggleable__label-arrow:before {color: black;}#sk-container-id-2 div.sk-toggleable__content {max-height: 0;max-width: 0;overflow: hidden;text-align: left;background-color: #f0f8ff;}#sk-container-id-2 div.sk-toggleable__content pre {margin: 0.2em;color: black;border-radius: 0.25em;background-color: #f0f8ff;}#sk-container-id-2 input.sk-toggleable__control:checked~div.sk-toggleable__content {max-height: 200px;max-width: 100%;overflow: auto;}#sk-container-id-2 input.sk-toggleable__control:checked~label.sk-toggleable__label-arrow:before {content: \"▾\";}#sk-container-id-2 div.sk-estimator input.sk-toggleable__control:checked~label.sk-toggleable__label {background-color: #d4ebff;}#sk-container-id-2 div.sk-label input.sk-toggleable__control:checked~label.sk-toggleable__label {background-color: #d4ebff;}#sk-container-id-2 input.sk-hidden--visually {border: 0;clip: rect(1px 1px 1px 1px);clip: rect(1px, 1px, 1px, 1px);height: 1px;margin: -1px;overflow: hidden;padding: 0;position: absolute;width: 1px;}#sk-container-id-2 div.sk-estimator {font-family: monospace;background-color: #f0f8ff;border: 1px dotted black;border-radius: 0.25em;box-sizing: border-box;margin-bottom: 0.5em;}#sk-container-id-2 div.sk-estimator:hover {background-color: #d4ebff;}#sk-container-id-2 div.sk-parallel-item::after {content: \"\";width: 100%;border-bottom: 1px solid gray;flex-grow: 1;}#sk-container-id-2 div.sk-label:hover label.sk-toggleable__label {background-color: #d4ebff;}#sk-container-id-2 div.sk-serial::before {content: \"\";position: absolute;border-left: 1px solid gray;box-sizing: border-box;top: 0;bottom: 0;left: 50%;z-index: 0;}#sk-container-id-2 div.sk-serial {display: flex;flex-direction: column;align-items: center;background-color: white;padding-right: 0.2em;padding-left: 0.2em;position: relative;}#sk-container-id-2 div.sk-item {position: relative;z-index: 1;}#sk-container-id-2 div.sk-parallel {display: flex;align-items: stretch;justify-content: center;background-color: white;position: relative;}#sk-container-id-2 div.sk-item::before, #sk-container-id-2 div.sk-parallel-item::before {content: \"\";position: absolute;border-left: 1px solid gray;box-sizing: border-box;top: 0;bottom: 0;left: 50%;z-index: -1;}#sk-container-id-2 div.sk-parallel-item {display: flex;flex-direction: column;z-index: 1;position: relative;background-color: white;}#sk-container-id-2 div.sk-parallel-item:first-child::after {align-self: flex-end;width: 50%;}#sk-container-id-2 div.sk-parallel-item:last-child::after {align-self: flex-start;width: 50%;}#sk-container-id-2 div.sk-parallel-item:only-child::after {width: 0;}#sk-container-id-2 div.sk-dashed-wrapped {border: 1px dashed gray;margin: 0 0.4em 0.5em 0.4em;box-sizing: border-box;padding-bottom: 0.4em;background-color: white;}#sk-container-id-2 div.sk-label label {font-family: monospace;font-weight: bold;display: inline-block;line-height: 1.2em;}#sk-container-id-2 div.sk-label-container {text-align: center;}#sk-container-id-2 div.sk-container {/* jupyter's `normalize.less` sets `[hidden] { display: none; }` but bootstrap.min.css set `[hidden] { display: none !important; }` so we also need the `!important` here to be able to override the default hidden behavior on the sphinx rendered scikit-learn.org. See: https://github.com/scikit-learn/scikit-learn/issues/21755 */display: inline-block !important;position: relative;}#sk-container-id-2 div.sk-text-repr-fallback {display: none;}</style><div id=\"sk-container-id-2\" class=\"sk-top-container\"><div class=\"sk-text-repr-fallback\"><pre>CountVectorizer(min_df=3)</pre><b>In a Jupyter environment, please rerun this cell to show the HTML representation or trust the notebook. <br />On GitHub, the HTML representation is unable to render, please try loading this page with nbviewer.org.</b></div><div class=\"sk-container\" hidden><div class=\"sk-item\"><div class=\"sk-estimator sk-toggleable\"><input class=\"sk-toggleable__control sk-hidden--visually\" id=\"sk-estimator-id-2\" type=\"checkbox\" checked><label for=\"sk-estimator-id-2\" class=\"sk-toggleable__label sk-toggleable__label-arrow\">CountVectorizer</label><div class=\"sk-toggleable__content\"><pre>CountVectorizer(min_df=3)</pre></div></div></div></div></div>"
      ],
      "text/plain": [
       "CountVectorizer(min_df=3)"
      ]
     },
     "execution_count": 98,
     "metadata": {},
     "output_type": "execute_result"
    }
   ],
   "source": [
    "# CountVectorizer: Bag of Words Model의 sklearn version 입니다.\n",
    "from sklearn.feature_extraction.text import CountVectorizer\n",
    "cnt_vec = CountVectorizer(min_df=3) # 적어도 3개이상의 문서에 나온 단어들를 어휘에 포함시킵니다.\n",
    "cnt_vec.fit(docs_str)"
   ]
  },
  {
   "cell_type": "code",
   "execution_count": 99,
   "id": "331c34a6-cd76-4bcc-882a-7550803892af",
   "metadata": {},
   "outputs": [
    {
     "name": "stdout",
     "output_type": "stream",
     "text": [
      "가장 1\n",
      "갖추 2\n",
      "구조대 1\n",
      "구하 2\n",
      "그러나 2\n",
      "꼬마 1\n",
      "납치 1\n",
      "등장 1\n",
      "뜻밖 1\n",
      "레이저 1\n",
      "못하 1\n",
      "버즈 7\n",
      "사고 1\n",
      "사랑 1\n",
      "상처 1\n",
      "새롭 1\n",
      "스토리 1\n",
      "앤디 1\n",
      "어느 1\n",
      "옆집 1\n",
      "우디 3\n",
      "우주 1\n",
      "위하 1\n",
      "이런 1\n",
      "인식 2\n",
      "인형 1\n",
      "일어나 1\n",
      "자신 3\n",
      "장난감 4\n",
      "장비 2\n",
      "전사 1\n",
      "조직 1\n",
      "주인 1\n",
      "첨단 1\n",
      "최신 1\n",
      "친구 2\n",
      "카우보이 1\n",
      "토이 1\n",
      "하늘 1\n",
      "허상 1\n"
     ]
    }
   ],
   "source": [
    "vec = cnt_vec.transform([docs_str[0]])[0]\n",
    "for k, l in zip(vec.data, cnt_vec.get_feature_names_out()[vec.indices]):\n",
    "    print(l, k)"
   ]
  },
  {
   "cell_type": "markdown",
   "id": "334c6a1c-4ed6-4546-9c91-b2cb99c1f874",
   "metadata": {},
   "source": [
    "TFIDF 변환을 통해 두루 나오는 단어의 가중치를 낮춰줍니다.\n",
    "\n",
    "$tf(t, d)  = \\frac{f_{t,d}}{\\sum_{t'∈f_{f',d}}f_{t',d}}$\n",
    "\n",
    "$idf(t, D) = \\log{\\frac{N}{|\\{d∈D: t∈d\\}|}}$\n",
    "\n",
    "$tfidf(t, d, D) = tf(t,d)\\cdot idf(t, D)$"
   ]
  },
  {
   "cell_type": "code",
   "execution_count": 100,
   "id": "ea9dabff-9a5c-469a-9c95-08f9dc92c201",
   "metadata": {},
   "outputs": [],
   "source": [
    "from sklearn.feature_extraction.text import TfidfTransformer\n",
    "tfidf_tf = TfidfTransformer()"
   ]
  },
  {
   "cell_type": "code",
   "execution_count": 101,
   "id": "20bd8904-78a3-4840-8a80-ee131add3f98",
   "metadata": {},
   "outputs": [
    {
     "data": {
      "text/html": [
       "<style>#sk-container-id-3 {color: black;}#sk-container-id-3 pre{padding: 0;}#sk-container-id-3 div.sk-toggleable {background-color: white;}#sk-container-id-3 label.sk-toggleable__label {cursor: pointer;display: block;width: 100%;margin-bottom: 0;padding: 0.3em;box-sizing: border-box;text-align: center;}#sk-container-id-3 label.sk-toggleable__label-arrow:before {content: \"▸\";float: left;margin-right: 0.25em;color: #696969;}#sk-container-id-3 label.sk-toggleable__label-arrow:hover:before {color: black;}#sk-container-id-3 div.sk-estimator:hover label.sk-toggleable__label-arrow:before {color: black;}#sk-container-id-3 div.sk-toggleable__content {max-height: 0;max-width: 0;overflow: hidden;text-align: left;background-color: #f0f8ff;}#sk-container-id-3 div.sk-toggleable__content pre {margin: 0.2em;color: black;border-radius: 0.25em;background-color: #f0f8ff;}#sk-container-id-3 input.sk-toggleable__control:checked~div.sk-toggleable__content {max-height: 200px;max-width: 100%;overflow: auto;}#sk-container-id-3 input.sk-toggleable__control:checked~label.sk-toggleable__label-arrow:before {content: \"▾\";}#sk-container-id-3 div.sk-estimator input.sk-toggleable__control:checked~label.sk-toggleable__label {background-color: #d4ebff;}#sk-container-id-3 div.sk-label input.sk-toggleable__control:checked~label.sk-toggleable__label {background-color: #d4ebff;}#sk-container-id-3 input.sk-hidden--visually {border: 0;clip: rect(1px 1px 1px 1px);clip: rect(1px, 1px, 1px, 1px);height: 1px;margin: -1px;overflow: hidden;padding: 0;position: absolute;width: 1px;}#sk-container-id-3 div.sk-estimator {font-family: monospace;background-color: #f0f8ff;border: 1px dotted black;border-radius: 0.25em;box-sizing: border-box;margin-bottom: 0.5em;}#sk-container-id-3 div.sk-estimator:hover {background-color: #d4ebff;}#sk-container-id-3 div.sk-parallel-item::after {content: \"\";width: 100%;border-bottom: 1px solid gray;flex-grow: 1;}#sk-container-id-3 div.sk-label:hover label.sk-toggleable__label {background-color: #d4ebff;}#sk-container-id-3 div.sk-serial::before {content: \"\";position: absolute;border-left: 1px solid gray;box-sizing: border-box;top: 0;bottom: 0;left: 50%;z-index: 0;}#sk-container-id-3 div.sk-serial {display: flex;flex-direction: column;align-items: center;background-color: white;padding-right: 0.2em;padding-left: 0.2em;position: relative;}#sk-container-id-3 div.sk-item {position: relative;z-index: 1;}#sk-container-id-3 div.sk-parallel {display: flex;align-items: stretch;justify-content: center;background-color: white;position: relative;}#sk-container-id-3 div.sk-item::before, #sk-container-id-3 div.sk-parallel-item::before {content: \"\";position: absolute;border-left: 1px solid gray;box-sizing: border-box;top: 0;bottom: 0;left: 50%;z-index: -1;}#sk-container-id-3 div.sk-parallel-item {display: flex;flex-direction: column;z-index: 1;position: relative;background-color: white;}#sk-container-id-3 div.sk-parallel-item:first-child::after {align-self: flex-end;width: 50%;}#sk-container-id-3 div.sk-parallel-item:last-child::after {align-self: flex-start;width: 50%;}#sk-container-id-3 div.sk-parallel-item:only-child::after {width: 0;}#sk-container-id-3 div.sk-dashed-wrapped {border: 1px dashed gray;margin: 0 0.4em 0.5em 0.4em;box-sizing: border-box;padding-bottom: 0.4em;background-color: white;}#sk-container-id-3 div.sk-label label {font-family: monospace;font-weight: bold;display: inline-block;line-height: 1.2em;}#sk-container-id-3 div.sk-label-container {text-align: center;}#sk-container-id-3 div.sk-container {/* jupyter's `normalize.less` sets `[hidden] { display: none; }` but bootstrap.min.css set `[hidden] { display: none !important; }` so we also need the `!important` here to be able to override the default hidden behavior on the sphinx rendered scikit-learn.org. See: https://github.com/scikit-learn/scikit-learn/issues/21755 */display: inline-block !important;position: relative;}#sk-container-id-3 div.sk-text-repr-fallback {display: none;}</style><div id=\"sk-container-id-3\" class=\"sk-top-container\"><div class=\"sk-text-repr-fallback\"><pre>TfidfTransformer()</pre><b>In a Jupyter environment, please rerun this cell to show the HTML representation or trust the notebook. <br />On GitHub, the HTML representation is unable to render, please try loading this page with nbviewer.org.</b></div><div class=\"sk-container\" hidden><div class=\"sk-item\"><div class=\"sk-estimator sk-toggleable\"><input class=\"sk-toggleable__control sk-hidden--visually\" id=\"sk-estimator-id-3\" type=\"checkbox\" checked><label for=\"sk-estimator-id-3\" class=\"sk-toggleable__label sk-toggleable__label-arrow\">TfidfTransformer</label><div class=\"sk-toggleable__content\"><pre>TfidfTransformer()</pre></div></div></div></div></div>"
      ],
      "text/plain": [
       "TfidfTransformer()"
      ]
     },
     "execution_count": 101,
     "metadata": {},
     "output_type": "execute_result"
    }
   ],
   "source": [
    "tfidf_tf.fit(cnt_vec.transform(docs_str))"
   ]
  },
  {
   "cell_type": "markdown",
   "id": "44aba88d-6d13-4c42-baad-a61417860c54",
   "metadata": {},
   "source": [
    "CountVectorizer → TFIDF 를 거쳐나온 문서 Matrix의 사이즈는 |D|×|V| , |D|: 문서수 |D|=61571, |V|: 단어수, |V| = 22288\n",
    "\n",
    "TruncatedSVD를  이용하여, 문서 Matrix의 사이즈를 축소시킵니다."
   ]
  },
  {
   "cell_type": "code",
   "execution_count": 102,
   "id": "512ef9c5-67f1-40ab-a608-2cd67dbdd556",
   "metadata": {},
   "outputs": [
    {
     "name": "stdout",
     "output_type": "stream",
     "text": [
      "허상 0.11040773803597789\n",
      "하늘 0.07302883851119206\n",
      "토이 0.10467072194519084\n",
      "카우보이 0.08644657881956566\n",
      "친구 0.08480466675999868\n",
      "최신 0.09548038521414359\n",
      "첨단 0.08239656383706459\n",
      "주인 0.06540190063234085\n",
      "조직 0.05896561456462277\n",
      "전사 0.07503181257942249\n",
      "장비 0.17539147890043003\n",
      "장난감 0.34292397920611484\n",
      "자신 0.11009620400969516\n",
      "일어나 0.05860065783019869\n",
      "인형 0.08007747998638848\n",
      "인식 0.17640496237183062\n",
      "이런 0.06695681088300484\n",
      "위하 0.035134295396897636\n",
      "우주 0.07069407164875946\n",
      "우디 0.27277997808254273\n",
      "옆집 0.08281645834335107\n",
      "어느 0.040341052708672394\n",
      "앤디 0.08394048263941116\n",
      "스토리 0.0722928342224599\n",
      "새롭 0.05205170576989202\n",
      "상처 0.06600786214847729\n",
      "사랑 0.0413871333435537\n",
      "사고 0.054953450803180405\n",
      "버즈 0.7228552168465051\n",
      "못하 0.04666996216907841\n",
      "레이저 0.09365515627062969\n",
      "뜻밖 0.07822713540846711\n",
      "등장 0.06511075510025649\n",
      "납치 0.06032365212557745\n",
      "꼬마 0.0786619330556371\n",
      "그러나 0.0884582240292742\n",
      "구하 0.10491978015318174\n",
      "구조대 0.09393949727670238\n",
      "갖추 0.15575447154865893\n",
      "가장 0.053550392174017934\n"
     ]
    }
   ],
   "source": [
    "vec = tfidf_tf.transform(cnt_vec.transform([docs_str[0]]))[0]\n",
    "for k, l in zip(vec.data, cnt_vec.get_feature_names_out()[vec.indices]):\n",
    "    print(l, k)"
   ]
  },
  {
   "cell_type": "markdown",
   "id": "422eb35f-91c9-405b-8462-54809ae1cc44",
   "metadata": {},
   "source": [
    "**위 3가지 과정을 Pipeline으로 묶고 학습시킵니다.**"
   ]
  },
  {
   "cell_type": "code",
   "execution_count": 103,
   "id": "67dcd208-5fcb-448c-8a2c-61efe098caaa",
   "metadata": {},
   "outputs": [
    {
     "data": {
      "text/html": [
       "<style>#sk-container-id-4 {color: black;}#sk-container-id-4 pre{padding: 0;}#sk-container-id-4 div.sk-toggleable {background-color: white;}#sk-container-id-4 label.sk-toggleable__label {cursor: pointer;display: block;width: 100%;margin-bottom: 0;padding: 0.3em;box-sizing: border-box;text-align: center;}#sk-container-id-4 label.sk-toggleable__label-arrow:before {content: \"▸\";float: left;margin-right: 0.25em;color: #696969;}#sk-container-id-4 label.sk-toggleable__label-arrow:hover:before {color: black;}#sk-container-id-4 div.sk-estimator:hover label.sk-toggleable__label-arrow:before {color: black;}#sk-container-id-4 div.sk-toggleable__content {max-height: 0;max-width: 0;overflow: hidden;text-align: left;background-color: #f0f8ff;}#sk-container-id-4 div.sk-toggleable__content pre {margin: 0.2em;color: black;border-radius: 0.25em;background-color: #f0f8ff;}#sk-container-id-4 input.sk-toggleable__control:checked~div.sk-toggleable__content {max-height: 200px;max-width: 100%;overflow: auto;}#sk-container-id-4 input.sk-toggleable__control:checked~label.sk-toggleable__label-arrow:before {content: \"▾\";}#sk-container-id-4 div.sk-estimator input.sk-toggleable__control:checked~label.sk-toggleable__label {background-color: #d4ebff;}#sk-container-id-4 div.sk-label input.sk-toggleable__control:checked~label.sk-toggleable__label {background-color: #d4ebff;}#sk-container-id-4 input.sk-hidden--visually {border: 0;clip: rect(1px 1px 1px 1px);clip: rect(1px, 1px, 1px, 1px);height: 1px;margin: -1px;overflow: hidden;padding: 0;position: absolute;width: 1px;}#sk-container-id-4 div.sk-estimator {font-family: monospace;background-color: #f0f8ff;border: 1px dotted black;border-radius: 0.25em;box-sizing: border-box;margin-bottom: 0.5em;}#sk-container-id-4 div.sk-estimator:hover {background-color: #d4ebff;}#sk-container-id-4 div.sk-parallel-item::after {content: \"\";width: 100%;border-bottom: 1px solid gray;flex-grow: 1;}#sk-container-id-4 div.sk-label:hover label.sk-toggleable__label {background-color: #d4ebff;}#sk-container-id-4 div.sk-serial::before {content: \"\";position: absolute;border-left: 1px solid gray;box-sizing: border-box;top: 0;bottom: 0;left: 50%;z-index: 0;}#sk-container-id-4 div.sk-serial {display: flex;flex-direction: column;align-items: center;background-color: white;padding-right: 0.2em;padding-left: 0.2em;position: relative;}#sk-container-id-4 div.sk-item {position: relative;z-index: 1;}#sk-container-id-4 div.sk-parallel {display: flex;align-items: stretch;justify-content: center;background-color: white;position: relative;}#sk-container-id-4 div.sk-item::before, #sk-container-id-4 div.sk-parallel-item::before {content: \"\";position: absolute;border-left: 1px solid gray;box-sizing: border-box;top: 0;bottom: 0;left: 50%;z-index: -1;}#sk-container-id-4 div.sk-parallel-item {display: flex;flex-direction: column;z-index: 1;position: relative;background-color: white;}#sk-container-id-4 div.sk-parallel-item:first-child::after {align-self: flex-end;width: 50%;}#sk-container-id-4 div.sk-parallel-item:last-child::after {align-self: flex-start;width: 50%;}#sk-container-id-4 div.sk-parallel-item:only-child::after {width: 0;}#sk-container-id-4 div.sk-dashed-wrapped {border: 1px dashed gray;margin: 0 0.4em 0.5em 0.4em;box-sizing: border-box;padding-bottom: 0.4em;background-color: white;}#sk-container-id-4 div.sk-label label {font-family: monospace;font-weight: bold;display: inline-block;line-height: 1.2em;}#sk-container-id-4 div.sk-label-container {text-align: center;}#sk-container-id-4 div.sk-container {/* jupyter's `normalize.less` sets `[hidden] { display: none; }` but bootstrap.min.css set `[hidden] { display: none !important; }` so we also need the `!important` here to be able to override the default hidden behavior on the sphinx rendered scikit-learn.org. See: https://github.com/scikit-learn/scikit-learn/issues/21755 */display: inline-block !important;position: relative;}#sk-container-id-4 div.sk-text-repr-fallback {display: none;}</style><div id=\"sk-container-id-4\" class=\"sk-top-container\"><div class=\"sk-text-repr-fallback\"><pre>Pipeline(steps=[(&#x27;countvectorizer&#x27;, CountVectorizer(min_df=3)),\n",
       "                (&#x27;tfidftransformer&#x27;, TfidfTransformer()),\n",
       "                (&#x27;truncatedsvd&#x27;, TruncatedSVD(n_components=128))])</pre><b>In a Jupyter environment, please rerun this cell to show the HTML representation or trust the notebook. <br />On GitHub, the HTML representation is unable to render, please try loading this page with nbviewer.org.</b></div><div class=\"sk-container\" hidden><div class=\"sk-item sk-dashed-wrapped\"><div class=\"sk-label-container\"><div class=\"sk-label sk-toggleable\"><input class=\"sk-toggleable__control sk-hidden--visually\" id=\"sk-estimator-id-4\" type=\"checkbox\" ><label for=\"sk-estimator-id-4\" class=\"sk-toggleable__label sk-toggleable__label-arrow\">Pipeline</label><div class=\"sk-toggleable__content\"><pre>Pipeline(steps=[(&#x27;countvectorizer&#x27;, CountVectorizer(min_df=3)),\n",
       "                (&#x27;tfidftransformer&#x27;, TfidfTransformer()),\n",
       "                (&#x27;truncatedsvd&#x27;, TruncatedSVD(n_components=128))])</pre></div></div></div><div class=\"sk-serial\"><div class=\"sk-item\"><div class=\"sk-estimator sk-toggleable\"><input class=\"sk-toggleable__control sk-hidden--visually\" id=\"sk-estimator-id-5\" type=\"checkbox\" ><label for=\"sk-estimator-id-5\" class=\"sk-toggleable__label sk-toggleable__label-arrow\">CountVectorizer</label><div class=\"sk-toggleable__content\"><pre>CountVectorizer(min_df=3)</pre></div></div></div><div class=\"sk-item\"><div class=\"sk-estimator sk-toggleable\"><input class=\"sk-toggleable__control sk-hidden--visually\" id=\"sk-estimator-id-6\" type=\"checkbox\" ><label for=\"sk-estimator-id-6\" class=\"sk-toggleable__label sk-toggleable__label-arrow\">TfidfTransformer</label><div class=\"sk-toggleable__content\"><pre>TfidfTransformer()</pre></div></div></div><div class=\"sk-item\"><div class=\"sk-estimator sk-toggleable\"><input class=\"sk-toggleable__control sk-hidden--visually\" id=\"sk-estimator-id-7\" type=\"checkbox\" ><label for=\"sk-estimator-id-7\" class=\"sk-toggleable__label sk-toggleable__label-arrow\">TruncatedSVD</label><div class=\"sk-toggleable__content\"><pre>TruncatedSVD(n_components=128)</pre></div></div></div></div></div></div></div>"
      ],
      "text/plain": [
       "Pipeline(steps=[('countvectorizer', CountVectorizer(min_df=3)),\n",
       "                ('tfidftransformer', TfidfTransformer()),\n",
       "                ('truncatedsvd', TruncatedSVD(n_components=128))])"
      ]
     },
     "execution_count": 103,
     "metadata": {},
     "output_type": "execute_result"
    }
   ],
   "source": [
    "from sklearn.decomposition import TruncatedSVD\n",
    "from sklearn.pipeline import make_pipeline\n",
    "lsa = make_pipeline(\n",
    "    CountVectorizer(min_df=3),\n",
    "    TfidfTransformer(),\n",
    "    TruncatedSVD(n_components=128) # 128 차원으로 낮춥니다.\n",
    ")\n",
    "lsa.fit(docs_str)"
   ]
  },
  {
   "cell_type": "code",
   "execution_count": 104,
   "id": "7ae64175-0c80-4adf-8389-2cbf0be100f0",
   "metadata": {},
   "outputs": [
    {
     "data": {
      "text/plain": [
       "0.12744927367634168"
      ]
     },
     "execution_count": 104,
     "metadata": {},
     "output_type": "execute_result"
    }
   ],
   "source": [
    "# 전체의 변동성(정보) 중에서 128개의 차원의 데이터가 설명하는 변동성(정보)를 구합니다.\n",
    "np.sum(lsa[2].explained_variance_ratio_)"
   ]
  },
  {
   "cell_type": "code",
   "execution_count": 115,
   "id": "9390651f-8499-43aa-a0f5-011f3e2e050d",
   "metadata": {},
   "outputs": [],
   "source": [
    "# 추출한 내용을 Tensorflow Projector를 통해 확인해 봅니다.\n",
    "import tensorflow as tf\n",
    "from tensorboard.plugins import projector\n",
    "%load_ext tensorboard"
   ]
  },
  {
   "cell_type": "code",
   "execution_count": 116,
   "id": "61491237-f045-4df9-bd83-86ced7e8b791",
   "metadata": {},
   "outputs": [
    {
     "name": "stdout",
     "output_type": "stream",
     "text": [
      "The tensorboard extension is already loaded. To reload it, use:\n",
      "  %reload_ext tensorboard\n"
     ]
    }
   ],
   "source": [
    "from tensorboard.plugins import projector\n",
    "%load_ext tensorboard\n",
    "\n",
    "log_dir='logs/lsa/'\n",
    "if not os.path.exists(log_dir):\n",
    "    os.makedirs(log_dir)\n",
    "\n",
    "# 임베딩의 메타데이터를 만듭니다.\n",
    "with open(os.path.join(log_dir, 'metadata.tsv'), \"w\") as f:\n",
    "    for i in doc_ids:\n",
    "        f.write(\"{}\\n\".format(movie_info_kr[i]['title']))\n",
    "\n",
    "# 영화 임베딩을 생성합니다.\n",
    "weights = tf.Variable(lsa.transform(docs_str))\n",
    "checkpoint = tf.train.Checkpoint(embedding=weights)\n",
    "checkpoint.save(os.path.join(log_dir, \"embedding.ckpt\"))\n",
    "\n",
    "# 임베딩 프로젝터를 설정합니다.\n",
    "config = projector.ProjectorConfig()\n",
    "embedding = config.embeddings.add()\n",
    "embedding.tensor_name = \"embedding/.ATTRIBUTES/VARIABLE_VALUE\"\n",
    "embedding.metadata_path = 'metadata.tsv'\n",
    "projector.visualize_embeddings(log_dir, config)"
   ]
  },
  {
   "cell_type": "code",
   "execution_count": 74,
   "id": "269bfaf9-5e03-4f70-89b9-8b4d0e158eb4",
   "metadata": {
    "tags": []
   },
   "outputs": [
    {
     "data": {
      "text/html": [
       "\n",
       "      <iframe id=\"tensorboard-frame-2bb3b37e328f07eb\" width=\"100%\" height=\"800\" frameborder=\"0\">\n",
       "      </iframe>\n",
       "      <script>\n",
       "        (function() {\n",
       "          const frame = document.getElementById(\"tensorboard-frame-2bb3b37e328f07eb\");\n",
       "          const url = new URL(\"/\", window.location);\n",
       "          const port = 6006;\n",
       "          if (port) {\n",
       "            url.port = port;\n",
       "          }\n",
       "          frame.src = url;\n",
       "        })();\n",
       "      </script>\n",
       "    "
      ],
      "text/plain": [
       "<IPython.core.display.HTML object>"
      ]
     },
     "metadata": {},
     "output_type": "display_data"
    }
   ],
   "source": [
    "%tensorboard --logdir logs/lsa/ --bind_all"
   ]
  },
  {
   "cell_type": "code",
   "execution_count": 75,
   "id": "b51ca465-9727-462f-92d9-a42e7a1c3318",
   "metadata": {},
   "outputs": [
    {
     "name": "stdout",
     "output_type": "stream",
     "text": [
      "sun9sun9   18430     830  9 00:59 ?        00:00:08 /usr/bin/python /home/sun9sun9/.local/bin/tensorboard --logdir logs/lsa/ --bind_all\n",
      "sun9sun9   18494   18430  0 00:59 ?        00:00:00 /home/sun9sun9/.local/lib/python3.10/site-packages/tensorboard_data_server/bin/server --logdir=logs/lsa/ --reload=5 --samples-per-plugin= --port=0 --port-file=/tmp/tensorboard_data_server_nj2tkkp6/port --die-after-stdin --error-file=/tmp/tensorboard_data_server_nj2tkkp6/startup_error\n",
      "sun9sun9   18634     830  0 01:01 pts/2    00:00:00 /bin/bash -c ps -ef|grep tensorboard\n",
      "sun9sun9   18636   18634  0 01:01 pts/2    00:00:00 grep tensorboard\n"
     ]
    }
   ],
   "source": [
    "!ps -ef|grep tensorboard"
   ]
  },
  {
   "cell_type": "code",
   "execution_count": 76,
   "id": "aac832fe-3399-4c1d-816e-8c2f791c1b7c",
   "metadata": {},
   "outputs": [],
   "source": [
    "!kill 18430"
   ]
  },
  {
   "cell_type": "code",
   "execution_count": null,
   "id": "84cb3389-61a5-42eb-a43a-f017818e67ad",
   "metadata": {},
   "outputs": [],
   "source": []
  }
 ],
 "metadata": {
  "kernelspec": {
   "display_name": "Python 3 (ipykernel)",
   "language": "python",
   "name": "python3"
  },
  "language_info": {
   "codemirror_mode": {
    "name": "ipython",
    "version": 3
   },
   "file_extension": ".py",
   "mimetype": "text/x-python",
   "name": "python",
   "nbconvert_exporter": "python",
   "pygments_lexer": "ipython3",
   "version": "3.11.6"
  }
 },
 "nbformat": 4,
 "nbformat_minor": 5
}
