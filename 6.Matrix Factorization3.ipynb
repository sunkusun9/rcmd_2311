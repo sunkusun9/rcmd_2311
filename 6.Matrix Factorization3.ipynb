{
 "cells": [
  {
   "cell_type": "markdown",
   "id": "f986c0f2-98a2-4a11-bed8-2c456d607d66",
   "metadata": {},
   "source": [
    "# Matrix Factorization 3\n",
    "\n",
    "사용자의 1 건의 이전 시청 이력에서 여러 건의 시청 이력을 반영하여 보다 정확도를 높혀 봅니다.\n",
    "\n",
    "이를 위해 필요한 데이터 처리 기법인 데이터 스트리밍 기법과,\n",
    "\n",
    "Tensorflow Custom 학습 기법을 소개합니다."
   ]
  },
  {
   "cell_type": "code",
   "execution_count": 1,
   "id": "08872fa7-31a5-4e20-98ad-b684c86037e2",
   "metadata": {},
   "outputs": [],
   "source": [
    "import os\n",
    "import pickle\n",
    "import numpy as np\n",
    "import pandas as pd\n",
    "\n",
    "os.environ['TF_CPP_MIN_LOG_LEVEL'] = '2'\n",
    "import tensorflow as tf\n",
    "\n",
    "#from tensorboard.plugins import projector\n",
    "\n",
    "import seaborn as sns\n",
    "import matplotlib.pyplot as plt\n",
    "\n",
    "from tqdm import tqdm\n",
    "\n",
    "from IPython.display import clear_output\n",
    "%load_ext tensorboard"
   ]
  },
  {
   "cell_type": "code",
   "execution_count": 2,
   "id": "86e951be-fca4-42e2-bc4a-48873cd7e054",
   "metadata": {},
   "outputs": [
    {
     "name": "stdout",
     "output_type": "stream",
     "text": [
      "1 Physical GPUs, 1 Logical GPUs\n"
     ]
    }
   ],
   "source": [
    "gpus = tf.config.experimental.list_physical_devices('GPU')\n",
    "if gpus:\n",
    "    try:\n",
    "        for gpu in gpus:\n",
    "            tf.config.experimental.set_memory_growth(gpu, True)\n",
    "        logical_gpus = tf.config.list_logical_devices('GPU')\n",
    "        print(\"{} Physical GPUs, {} Logical GPUs\".format(len(gpus), len(logical_gpus)))\n",
    "    except RuntimeError as e:\n",
    "        print(e)"
   ]
  },
  {
   "cell_type": "markdown",
   "id": "99647b91-ea54-46f0-9dd8-548692de5323",
   "metadata": {},
   "source": [
    "# MovieLens25M 데이터 준비"
   ]
  },
  {
   "cell_type": "code",
   "execution_count": 3,
   "id": "68d4e0cb-867a-4fe6-935b-da05fcc0a8ec",
   "metadata": {},
   "outputs": [
    {
     "data": {
      "text/plain": [
       "['movie_info_kr', 'movie', 'genre', 'series', 'ratings', 'movieinfo']"
      ]
     },
     "execution_count": 3,
     "metadata": {},
     "output_type": "execute_result"
    }
   ],
   "source": [
    "import movielens25m\n",
    "\n",
    "m25m = movielens25m.load_dataset('dataset')\n",
    "[i for i in m25m.keys()]"
   ]
  },
  {
   "cell_type": "code",
   "execution_count": 4,
   "id": "31f8da54-46a1-4b8b-9d86-f5a400d17f4b",
   "metadata": {},
   "outputs": [],
   "source": [
    "df_ratings = m25m['ratings']\n",
    "s_series = m25m['series']\n",
    "s_genre = m25m['genre']\n",
    "df_movie = m25m['movie']\n",
    "df_movieinfo = m25m['movieinfo']"
   ]
  },
  {
   "cell_type": "code",
   "execution_count": 5,
   "id": "d2fea567-63a6-4f5b-8472-dd8072d3bf45",
   "metadata": {},
   "outputs": [],
   "source": [
    "# 사용자의 이전 시점의 평가 이력을 입력 변수로 사용하기 위해\n",
    "# 시점별로 정렬을 하여, 사용자 별로 시청했던 이력을 시점별로 np.array로 저장합니다.\n",
    "df_user_hist = df_ratings.sort_values('date').groupby('userId').agg(list).map(lambda x: np.array(x))"
   ]
  },
  {
   "cell_type": "code",
   "execution_count": 9,
   "id": "04b02c86-2f4b-4e36-abae-395d1ae496e3",
   "metadata": {},
   "outputs": [
    {
     "data": {
      "text/html": [
       "<div>\n",
       "<style scoped>\n",
       "    .dataframe tbody tr th:only-of-type {\n",
       "        vertical-align: middle;\n",
       "    }\n",
       "\n",
       "    .dataframe tbody tr th {\n",
       "        vertical-align: top;\n",
       "    }\n",
       "\n",
       "    .dataframe thead th {\n",
       "        text-align: right;\n",
       "    }\n",
       "</style>\n",
       "<table border=\"1\" class=\"dataframe\">\n",
       "  <thead>\n",
       "    <tr style=\"text-align: right;\">\n",
       "      <th></th>\n",
       "      <th>movieId</th>\n",
       "      <th>rating</th>\n",
       "      <th>date</th>\n",
       "      <th>days</th>\n",
       "    </tr>\n",
       "    <tr>\n",
       "      <th>userId</th>\n",
       "      <th></th>\n",
       "      <th></th>\n",
       "      <th></th>\n",
       "      <th></th>\n",
       "    </tr>\n",
       "  </thead>\n",
       "  <tbody>\n",
       "    <tr>\n",
       "      <th>1</th>\n",
       "      <td>[5952, 2012, 2011, 1653, 1250, 6539, 6377, 344...</td>\n",
       "      <td>[4.0, 2.5, 2.5, 4.0, 4.0, 3.5, 4.0, 4.0, 4.0, ...</td>\n",
       "      <td>[2006-05-17 12:14:13, 2006-05-17 12:14:28, 200...</td>\n",
       "      <td>[1246.0, 5836.0, 6020.0, 3174.0, 17750.0, 1043...</td>\n",
       "    </tr>\n",
       "    <tr>\n",
       "      <th>2</th>\n",
       "      <td>[2797, 5952, 1080, 553, 653, 497, 1374, 1653, ...</td>\n",
       "      <td>[1.0, 5.0, 1.0, 2.0, 3.0, 4.0, 4.5, 4.5, 3.0, ...</td>\n",
       "      <td>[2006-03-03 19:51:49, 2006-03-03 19:52:08, 200...</td>\n",
       "      <td>[6482.0, 1171.0, 9695.0, 4451.0, 3563.0, 4683....</td>\n",
       "    </tr>\n",
       "    <tr>\n",
       "      <th>3</th>\n",
       "      <td>[356, 593, 1270, 1, 480, 2571, 260, 318, 1196,...</td>\n",
       "      <td>[4.0, 4.0, 3.5, 4.0, 2.0, 4.0, 4.0, 4.0, 4.0, ...</td>\n",
       "      <td>[2015-08-13 13:23:19, 2015-08-13 13:23:23, 201...</td>\n",
       "      <td>[7721.0, 8946.0, 10998.0, 7227.0, 8098.0, 5980...</td>\n",
       "    </tr>\n",
       "    <tr>\n",
       "      <th>4</th>\n",
       "      <td>[97913, 93510, 91630, 93840, 195159, 122914, 1...</td>\n",
       "      <td>[3.5, 4.0, 3.5, 4.5, 5.0, 3.0, 2.0, 3.5, 2.5, ...</td>\n",
       "      <td>[2019-11-16 20:44:51, 2019-11-16 20:44:56, 201...</td>\n",
       "      <td>[2571.0, 2803.0, 2901.0, 2774.0, 345.0, 206.0,...</td>\n",
       "    </tr>\n",
       "    <tr>\n",
       "      <th>5</th>\n",
       "      <td>[592, 590, 296, 150, 344, 153, 588, 595, 231, ...</td>\n",
       "      <td>[3.0, 3.0, 4.0, 5.0, 4.0, 3.0, 4.0, 3.0, 4.0, ...</td>\n",
       "      <td>[1996-04-29 13:55:55, 1996-04-29 13:55:55, 199...</td>\n",
       "      <td>[2502.0, 2222.0, 597.0, 304.0, 815.0, 318.0, 1...</td>\n",
       "    </tr>\n",
       "  </tbody>\n",
       "</table>\n",
       "</div>"
      ],
      "text/plain": [
       "                                                  movieId  \\\n",
       "userId                                                      \n",
       "1       [5952, 2012, 2011, 1653, 1250, 6539, 6377, 344...   \n",
       "2       [2797, 5952, 1080, 553, 653, 497, 1374, 1653, ...   \n",
       "3       [356, 593, 1270, 1, 480, 2571, 260, 318, 1196,...   \n",
       "4       [97913, 93510, 91630, 93840, 195159, 122914, 1...   \n",
       "5       [592, 590, 296, 150, 344, 153, 588, 595, 231, ...   \n",
       "\n",
       "                                                   rating  \\\n",
       "userId                                                      \n",
       "1       [4.0, 2.5, 2.5, 4.0, 4.0, 3.5, 4.0, 4.0, 4.0, ...   \n",
       "2       [1.0, 5.0, 1.0, 2.0, 3.0, 4.0, 4.5, 4.5, 3.0, ...   \n",
       "3       [4.0, 4.0, 3.5, 4.0, 2.0, 4.0, 4.0, 4.0, 4.0, ...   \n",
       "4       [3.5, 4.0, 3.5, 4.5, 5.0, 3.0, 2.0, 3.5, 2.5, ...   \n",
       "5       [3.0, 3.0, 4.0, 5.0, 4.0, 3.0, 4.0, 3.0, 4.0, ...   \n",
       "\n",
       "                                                     date  \\\n",
       "userId                                                      \n",
       "1       [2006-05-17 12:14:13, 2006-05-17 12:14:28, 200...   \n",
       "2       [2006-03-03 19:51:49, 2006-03-03 19:52:08, 200...   \n",
       "3       [2015-08-13 13:23:19, 2015-08-13 13:23:23, 201...   \n",
       "4       [2019-11-16 20:44:51, 2019-11-16 20:44:56, 201...   \n",
       "5       [1996-04-29 13:55:55, 1996-04-29 13:55:55, 199...   \n",
       "\n",
       "                                                     days  \n",
       "userId                                                     \n",
       "1       [1246.0, 5836.0, 6020.0, 3174.0, 17750.0, 1043...  \n",
       "2       [6482.0, 1171.0, 9695.0, 4451.0, 3563.0, 4683....  \n",
       "3       [7721.0, 8946.0, 10998.0, 7227.0, 8098.0, 5980...  \n",
       "4       [2571.0, 2803.0, 2901.0, 2774.0, 345.0, 206.0,...  \n",
       "5       [2502.0, 2222.0, 597.0, 304.0, 815.0, 318.0, 1...  "
      ]
     },
     "execution_count": 9,
     "metadata": {},
     "output_type": "execute_result"
    }
   ],
   "source": [
    "df_user_hist.head()"
   ]
  },
  {
   "cell_type": "code",
   "execution_count": 6,
   "id": "6139571a-2838-4152-ad73-4cdce35188a8",
   "metadata": {},
   "outputs": [
    {
     "data": {
      "text/plain": [
       "(0.9519748224956746, 0.048025177504325486)"
      ]
     },
     "execution_count": 6,
     "metadata": {},
     "output_type": "execute_result"
    }
   ],
   "source": [
    "df_train = df_ratings.loc[df_ratings['date'] < '2019-01-01'].sample(frac=1)\n",
    "df_test = df_ratings.loc[df_ratings['date'] >= '2019-01-01']\n",
    "len(df_train) / len(df_ratings), len(df_test) / len(df_ratings)"
   ]
  },
  {
   "cell_type": "code",
   "execution_count": 7,
   "id": "c7d00fd9-cc49-4ce2-ac24-7fe34a2f294a",
   "metadata": {},
   "outputs": [],
   "source": [
    "rating_train_mean = df_train['rating'].astype('float64').mean()\n",
    "s_userCnt = df_train['userId'].value_counts()\n",
    "s_movieCnt = df_train['movieId'].value_counts()"
   ]
  },
  {
   "cell_type": "code",
   "execution_count": 8,
   "id": "677932e3-c462-4b1d-8f8a-bf06b8bab5ec",
   "metadata": {},
   "outputs": [],
   "source": [
    "import rcmd"
   ]
  },
  {
   "cell_type": "markdown",
   "id": "bcaf82d2-7389-4f44-8ccf-9ee10afc6c05",
   "metadata": {},
   "source": [
    "**사용자의 평가이력 모델을 업그레이드해봅니다.**\n",
    "\n",
    "여러개의 이력에서 패턴을 뽑아 사용자 벡터를 만들어 내는 신경망 모델을 만듭니다."
   ]
  },
  {
   "cell_type": "markdown",
   "id": "243d3a68-7f2f-4a5d-afc1-d7f6a36188a3",
   "metadata": {},
   "source": [
    "![image.png](data:image/png;base64,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)"
   ]
  },
  {
   "cell_type": "code",
   "execution_count": 10,
   "id": "e676fd36-bf00-4479-8fb6-e2b10c9b5139",
   "metadata": {},
   "outputs": [],
   "source": [
    "# UserHistModel2에서 평가 순서를 모델링하기 위한 RNN의 기능을 확인해봅니다. \n",
    "# 이를 통해 순서를 기반한 패턴을 모델링합니다.\n",
    "rank = 32\n",
    "movie_model = rcmd.EmbModel(s_movieCnt.loc[s_movieCnt >= 100].index.values, rank)\n",
    "movie_info_model = rcmd.MovieInfoModel(df_movieinfo, movie_model, {'genre': 4, 'collection': 8}, rank)\n",
    "\n",
    "# LSTM이라는 RNN을 사용합니다.\n",
    "rnn = tf.keras.layers.LSTM(32)"
   ]
  },
  {
   "cell_type": "code",
   "execution_count": 11,
   "id": "645d29ea-4cc3-4f2a-b82b-a91afa983f88",
   "metadata": {},
   "outputs": [
    {
     "data": {
      "text/plain": [
       "<tf.Tensor: shape=(2, 32), dtype=float32, numpy=\n",
       "array([[-1.12869162e-02, -1.91228390e-02,  5.66163007e-03,\n",
       "         6.83766417e-03,  3.89419892e-03, -5.78641077e-04,\n",
       "         5.67399431e-03, -2.01793551e-03,  1.45989396e-02,\n",
       "         1.21862171e-02, -6.69348706e-03, -5.88738639e-03,\n",
       "         5.17159700e-03,  5.44846011e-03,  1.21902013e-02,\n",
       "        -5.32254810e-03,  3.63484537e-03, -1.04553634e-02,\n",
       "         7.07097305e-03,  1.21014295e-02, -8.58281087e-03,\n",
       "        -3.53539293e-03,  3.29275406e-03, -9.01109725e-03,\n",
       "         1.21783081e-03,  3.60364886e-03,  1.09713832e-02,\n",
       "         1.65421737e-03,  1.04485499e-02,  3.03652859e-03,\n",
       "         2.93834065e-03, -8.24722345e-04],\n",
       "       [-7.92763941e-03, -1.10917315e-02,  3.73017206e-03,\n",
       "         4.30004625e-03,  1.94928632e-03, -6.64183881e-06,\n",
       "         4.68519051e-03, -1.64898974e-03,  9.85793769e-03,\n",
       "         9.36419796e-03, -1.89266098e-03, -6.68297475e-03,\n",
       "         2.78365542e-03,  4.62410366e-03,  1.02715362e-02,\n",
       "        -4.20515426e-03,  4.32876730e-03, -8.44819844e-03,\n",
       "         3.96742299e-03,  9.48201399e-03, -6.26308145e-03,\n",
       "        -3.84401385e-04,  3.06858425e-03, -7.63309747e-03,\n",
       "         1.98861305e-03,  3.09476606e-03,  8.08420219e-03,\n",
       "        -1.70517865e-06,  6.36262121e-03,  2.80244276e-03,\n",
       "         2.98095401e-03, -3.15965997e-04]], dtype=float32)>"
      ]
     },
     "execution_count": 11,
     "metadata": {},
     "output_type": "execute_result"
    }
   ],
   "source": [
    "# [1, 2, 3] 영화 평가 순서 Pattern을 뽑고 \n",
    "# [3, 2] 영화 평가 순서 Pattern을 뽑아\n",
    "# LSTM 출력 유닛으로 출력을 내어줍니다.\n",
    "rnn(\n",
    "    movie_info_model(tf.ragged.constant([[1, 2, 3], [3, 2]]))\n",
    ")"
   ]
  },
  {
   "cell_type": "code",
   "execution_count": 12,
   "id": "a598ea9c-9242-4645-b21f-1d9c1ed1045a",
   "metadata": {},
   "outputs": [
    {
     "data": {
      "text/plain": [
       "<tf.Tensor: shape=(2, 32), dtype=float32, numpy=\n",
       "array([[-0.00075529, -0.015187  , -0.02071313,  0.01931651, -0.01423714,\n",
       "        -0.01274119,  0.0228266 , -0.00542844, -0.0202788 , -0.00533937,\n",
       "         0.02022846, -0.01058209,  0.01542205,  0.01137811,  0.04585173,\n",
       "         0.01005351,  0.02698179,  0.01933   , -0.02251164, -0.01251344,\n",
       "         0.00086709,  0.03476882, -0.02623725, -0.00139036, -0.00199881,\n",
       "         0.01644393, -0.00206803, -0.03929342, -0.04715078,  0.0061381 ,\n",
       "         0.00202106,  0.00450155],\n",
       "       [-0.00049906, -0.005582  , -0.01719061,  0.01569261, -0.01957904,\n",
       "        -0.00609072,  0.02401893, -0.00813039, -0.01952178, -0.00997056,\n",
       "         0.02232562, -0.01275676,  0.00326297,  0.01791783,  0.03621761,\n",
       "         0.01111403,  0.01935076,  0.01861187, -0.02081333, -0.01579045,\n",
       "         0.0085611 ,  0.02556458, -0.0341126 ,  0.00192915, -0.0058146 ,\n",
       "         0.02972114, -0.00120183, -0.03804114, -0.04089532,  0.00574531,\n",
       "         0.00475156,  0.00317891]], dtype=float32)>"
      ]
     },
     "execution_count": 12,
     "metadata": {},
     "output_type": "execute_result"
    }
   ],
   "source": [
    "# 순서를 고려하지 않는다면, 평균을 내어 패턴을 뽑는 방법을 쓸 수 있습니다.\n",
    "tf.reduce_mean(\n",
    "    movie_info_model(tf.ragged.constant([[1, 2, 3], [3, 2]])),\n",
    "    axis=-2\n",
    ")"
   ]
  },
  {
   "cell_type": "code",
   "execution_count": 13,
   "id": "ee904910-aae5-43bd-b93b-197143f54d0f",
   "metadata": {},
   "outputs": [],
   "source": [
    "class UserHistModel2(tf.keras.Model):\n",
    "    def __init__(self, user_model, movie_model, rank, l2 = 0, rnn = \"lstm\"):\n",
    "        \"\"\"\n",
    "            user_model: EmbModel\n",
    "                사용자 임베딩 모델\n",
    "            movie_model: EmbModel\n",
    "                영화 임베딩 모델\n",
    "            rank: int\n",
    "                출력 벡터의 사이즈\n",
    "            l2: float\n",
    "                l2 규제 계수\n",
    "            rnn: str\n",
    "                평가 이력 행렬을 통과시킬 RNN 종류: lstm - LSTM, gru - GRU, 그외는 RNN 미사용 평균\n",
    "        \"\"\"\n",
    "        super().__init__()\n",
    "        self.user_model = user_model\n",
    "        self.movie_model = movie_model\n",
    "        if rnn == \"lstm\":\n",
    "            self.rnn = tf.keras.layers.LSTM(32)\n",
    "        elif rnn == \"gru\":\n",
    "            self.rnn = tf.keras.layers.GRU(32)\n",
    "        else:\n",
    "            self.rnn = None\n",
    "        if l2 > 0:\n",
    "            reg = tf.keras.regularizers.L2(l2)\n",
    "        else:\n",
    "            reg = None\n",
    "        # 평가 이력 벡터와 사용자 벡터를 입력으로하는 은닉 밀도층\n",
    "        # unit size: 64, activator: relu, kernel initializer: HeNormal\n",
    "        self.dl = tf.keras.layers.Dense(\n",
    "            64, activation='relu', \n",
    "            kernel_initializer=tf.keras.initializers.HeNormal(),\n",
    "            kernel_regularizer=reg\n",
    "        )\n",
    "        # 출력 밀도레이어\n",
    "        self.o = tf.keras.layers.Dense(\n",
    "            rank,\n",
    "            kernel_regularizer=reg\n",
    "        )\n",
    "        # 평가 영화 벡터와 평점을 결합시키기 위한 결합레이어\n",
    "        self.cc = tf.keras.layers.Concatenate(axis=-1)\n",
    "        # 평가 이력 벡터와 사용자 벡터를 결합시키기 위한 레이어\n",
    "        self.cc2 = tf.keras.layers.Concatenate(axis=-1)\n",
    "        \n",
    "    def call(self, x, prev_movieIds, prev_ratings, training=False):\n",
    "        hist_vec = self.cc2([\n",
    "            self.movie_model(prev_movieIds, training=training), # 사용자 이전 평가 영화 Matrix N×?×rank\n",
    "            prev_ratings # 사용자 이전 rating Matrix N×?×1\n",
    "        ]) # N×?×(rank + 1)\n",
    "        if self.rnn != None:\n",
    "            hist_vec = self.rnn(hist_vec, training=training) # N×32\n",
    "        else:\n",
    "            hist_vec = tf.reduce_mean(hist_vec, axis= -2) # rnn을 사용하지 않는 다면 평균을 사용합니다. N×rank\n",
    "        vec = self.cc([\n",
    "            self.user_model(x, training=training), \n",
    "            hist_vec\n",
    "        ]) # N×(32 + rank)\n",
    "        vec = self.dl(vec) # N×64\n",
    "        return self.o(vec) # N×rank"
   ]
  },
  {
   "cell_type": "markdown",
   "id": "ba5b605c-ff9e-488c-b2ef-1eb862433fe3",
   "metadata": {},
   "source": [
    "![image.png](data:image/png;base64,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)"
   ]
  },
  {
   "cell_type": "code",
   "execution_count": 14,
   "id": "bdacf068-85e4-4111-9a2c-18d9d8919857",
   "metadata": {},
   "outputs": [],
   "source": [
    "class MFModel3(tf.keras.Model):\n",
    "    def __init__(self, user_hist_model, movie_model):\n",
    "        super().__init__()\n",
    "        self.user_hist_model = user_hist_model\n",
    "        self.movie_model = movie_model\n",
    "        self.dot = tf.keras.layers.Dot(axes=-1)\n",
    "    \n",
    "    def call(self, x, training=False):\n",
    "        x_user = self.user_hist_model(\n",
    "            x['userId'], \n",
    "            x['prev_movieIds'], \n",
    "            tf.expand_dims(x['prev_ratings'], axis=-1), training=training # N → N×1\n",
    "        )\n",
    "        x_movieId = self.movie_model(x['movieId'], training=training)\n",
    "        return self.dot([x_user, x_movieId])"
   ]
  },
  {
   "cell_type": "code",
   "execution_count": 15,
   "id": "f89bc1b7-6e68-44c3-b174-0a7f46bd510a",
   "metadata": {},
   "outputs": [
    {
     "data": {
      "text/plain": [
       "<tf.Tensor: shape=(2, 1), dtype=float32, numpy=\n",
       "array([[-0.00597251],\n",
       "       [-0.01151647]], dtype=float32)>"
      ]
     },
     "execution_count": 15,
     "metadata": {},
     "output_type": "execute_result"
    }
   ],
   "source": [
    "tf.keras.backend.clear_session()\n",
    "rank = 32\n",
    "user_model = rcmd.EmbModel(s_userCnt.loc[s_userCnt >= 150].index.values, rank)\n",
    "movie_model = rcmd.EmbModel(s_movieCnt.loc[s_movieCnt >= 100].index.values, rank)\n",
    "movie_info_model = rcmd.MovieInfoModel(df_movieinfo, movie_model, {'genre': 4, 'collection': 8}, rank)\n",
    "user_hist_model = UserHistModel2(user_model, movie_info_model, rank, rnn='lstm')\n",
    "mf_model3 = MFModel3(user_hist_model, movie_info_model)\n",
    "mf_model3({'userId': tf.constant([1, 2]), 'movieId': tf.constant([1, 5]), \n",
    "          'prev_movieIds': tf.ragged.constant([[0, 1], [2]]), 'prev_ratings': tf.ragged.constant([[1.0, 3.5], [2]])})"
   ]
  },
  {
   "cell_type": "code",
   "execution_count": 16,
   "id": "3986d238-0d1c-4a33-95aa-274a0f322cdd",
   "metadata": {},
   "outputs": [
    {
     "data": {
      "text/plain": [
       "userCnt\n",
       "[0.0, 1.0)         930474\n",
       "[150.0, 500.0)      80619\n",
       "[1000.0, inf)       75826\n",
       "[1.0, 150.0)        59775\n",
       "[500.0, 1000.0)     53940\n",
       "Name: count, dtype: int64"
      ]
     },
     "execution_count": 16,
     "metadata": {},
     "output_type": "execute_result"
    }
   ],
   "source": [
    "user_bins = [0, 1, 150, 500, 1000, np.inf]\n",
    "s_user_type = pd.cut(\n",
    "    df_test['userId'].map(df_train['userId'].value_counts()).fillna(0), bins=user_bins, right=False\n",
    ").rename('userCnt')\n",
    "s_user_type.value_counts()"
   ]
  },
  {
   "cell_type": "code",
   "execution_count": 17,
   "id": "ad330342-0ec1-4f3c-831e-c616c847bf53",
   "metadata": {},
   "outputs": [
    {
     "data": {
      "text/plain": [
       "movieCnt\n",
       "[10000.0, inf)       442931\n",
       "[1000.0, 5000.0)     279785\n",
       "[5000.0, 10000.0)    190618\n",
       "[100.0, 1000.0)      152343\n",
       "[1.0, 100.0)         100575\n",
       "[0.0, 1.0)            34382\n",
       "Name: count, dtype: int64"
      ]
     },
     "execution_count": 17,
     "metadata": {},
     "output_type": "execute_result"
    }
   ],
   "source": [
    "movie_bins = [0, 1, 100, 1000, 5000, 10000, np.inf]\n",
    "s_movie_type = pd.cut(\n",
    "    df_test['movieId'].map(df_train['movieId'].value_counts()).fillna(0), bins=movie_bins, right=False\n",
    ").rename('movieCnt')\n",
    "s_movie_type.value_counts()"
   ]
  },
  {
   "cell_type": "code",
   "execution_count": 18,
   "id": "307bfd12-228b-4a09-9d81-d90a45cb4fa0",
   "metadata": {},
   "outputs": [
    {
     "data": {
      "text/plain": [
       "<tf.Tensor: shape=(2, 1), dtype=float32, numpy=\n",
       "array([[3.4944026],\n",
       "       [3.5075428]], dtype=float32)>"
      ]
     },
     "execution_count": 18,
     "metadata": {},
     "output_type": "execute_result"
    }
   ],
   "source": [
    "user_mean_model = rcmd.EmbModel(s_userCnt.loc[s_userCnt > 1].index.values, rank=1)\n",
    "movie_mean_model = rcmd.EmbModel(s_movieCnt.loc[s_movieCnt > 1].index.values, rank=1)\n",
    "mean_model = rcmd.MeanModel(rating_train_mean, user_mean_model, movie_mean_model)\n",
    "mean_model({'userId': tf.constant([1, 2]), 'movieId': tf.constant([1, 5])})"
   ]
  },
  {
   "cell_type": "code",
   "execution_count": 19,
   "id": "48fe2859-7618-4c01-aa1f-fb58838d78a7",
   "metadata": {},
   "outputs": [
    {
     "data": {
      "text/plain": [
       "<tf.Tensor: shape=(2, 1), dtype=float32, numpy=\n",
       "array([[3.48843  ],\n",
       "       [3.4960263]], dtype=float32)>"
      ]
     },
     "execution_count": 19,
     "metadata": {},
     "output_type": "execute_result"
    }
   ],
   "source": [
    "a_model = rcmd.AdditiveModel([mf_model3, mean_model])\n",
    "a_model({'userId': tf.constant([1, 2]), 'movieId': tf.constant([1, 5]),\n",
    "        'prev_movieIds': tf.ragged.constant([[0, 1], [2]]), 'prev_ratings': tf.ragged.constant([[1.0, 3.5], [2]])})"
   ]
  },
  {
   "cell_type": "markdown",
   "id": "37d4cdde-3ada-43e3-9993-9d70c7ba0f94",
   "metadata": {},
   "source": [
    "**Custom Train Step**\n",
    "\n",
    "다수의 이전 시청했던 영화 평가 이력을 미리 만들어 놓으면 상당한 메모리가 필요하게 됩니다. \n",
    "\n",
    "학습데이터를 전달하기 전에 즉 필요한 양 만큼 이전 평가 이력을 만들어 모델에 전달하려고 합니다. \n",
    "\n",
    "이렇게 하려면, compile ~ fit을 사용할 수 없고, \n",
    "\n",
    "데이터 처리 루틴에서 처리한 양만큼을 즉 스탭별로 학습시키는 방식으로 바꿔야 합니다. \n",
    "\n",
    "이를 위해, Train Step 루틴을 만듭니다."
   ]
  },
  {
   "cell_type": "code",
   "execution_count": 20,
   "id": "29a5e71a-22ee-4e27-ac0f-39265acdd2db",
   "metadata": {},
   "outputs": [],
   "source": [
    "optimizer = tf.keras.optimizers.Adam(learning_rate=1e-5)\n",
    "mse = tf.keras.losses.MeanSquaredError()\n",
    "\n",
    "# Custom Train Step\n",
    "# @tf.function \n",
    "# 피선언된 함수 내부의 Tensor 연산은 Graph 모드로 동작하게 됩니다.\n",
    "# (Ragged)TensorSpec 는 함수에 입력된 텐서의 Spec을 정의합니다.\n",
    "@tf.function(\n",
    "    input_signature = [\n",
    "        tf.TensorSpec(shape=(None, ), dtype=tf.int64), # userId: N\n",
    "        tf.TensorSpec(shape=(None, ), dtype=tf.int64), # moveId: N\n",
    "        tf.RaggedTensorSpec(shape=(None, None), dtype=tf.int64), # prev_movieIds: Nx?\n",
    "        tf.RaggedTensorSpec(shape=(None, None), dtype=tf.float32), # prev_ratings: Nx?\n",
    "        tf.TensorSpec(shape=(None,), dtype=tf.float32) # ratings: N\n",
    "    ]\n",
    ")\n",
    "def train_step(userId, movieId, prev_movieIds, prev_ratings, rating):\n",
    "    # Loss의 경사도를 계산하기 위해, \n",
    "    # Loss를 구하기 위한 연산들에서 모델들의 가중치(weight)의 경사도를 기록하게 합니다.\n",
    "    with tf.GradientTape() as tape:\n",
    "        prd = a_model({'userId': userId, 'movieId': movieId, 'prev_movieIds': prev_movieIds, 'prev_ratings': prev_ratings}, training=True)\n",
    "        mse_ = mse(rating, prd)\n",
    "        regularization_loss = tf.reduce_sum(a_model.losses)\n",
    "        loss = mse_ + regularization_loss\n",
    "    metrics = {\n",
    "        'mse': mse_,\n",
    "        'loss': loss,\n",
    "        'regularization_loss': regularization_loss\n",
    "    }\n",
    "    variables = a_model.trainable_variables\n",
    "    # 기록된 모델에 있는 가중치의 경사도를 가져옵니다.\n",
    "    gradients = tape.gradient(loss, variables)\n",
    "    # 최적화 모듈에 경사도를 전달하여 모델에 있는 가중치를 업데이트합니다.\n",
    "    optimizer.apply_gradients(zip(gradients, variables))\n",
    "    return metrics"
   ]
  },
  {
   "cell_type": "code",
   "execution_count": 21,
   "id": "c2c2744c-e1b3-46da-8e18-2458534014e2",
   "metadata": {
    "tags": []
   },
   "outputs": [],
   "source": [
    "from sklearn.metrics import mean_squared_error\n",
    "\n",
    "def train(hist_cnt = 8, batch_size = 1024):\n",
    "    # df_train의 위치 인덱스를 batch_size 만큼씩 나눕니다.\n",
    "    pos = np.hstack([np.arange(0, len(df_train), batch_size), [len(df_train) - batch_size]])\n",
    "    # 데이터가 특정 범주로 편중이 되면 학습이 잘 되지 않습니다. \n",
    "    # 이룰 방지하기 위해 순서를 섞어 줍니다.\n",
    "    np.random.shuffle(pos)\n",
    "    pbar = tqdm(pos)\n",
    "    metric_mse = tf.keras.metrics.Mean()\n",
    "    metric_loss = tf.keras.metrics.Mean()\n",
    "    for n, i in enumerate(pbar):\n",
    "        piece = df_train.iloc[i:i + batch_size]\n",
    "        # 사용자 이력을 가져 옵니다.\n",
    "        hist = df_user_hist.loc[piece['userId']]\n",
    "        tmp = piece['date'].values\n",
    "        prev_movies = list()\n",
    "        prev_ratings = list()\n",
    "\n",
    "        # 해당 시점의 위치 인덱스를 찾고 시점의 hist_cnt만큼의 평가 이력을 가져옵니다.\n",
    "        for hist_date, hist_movieId, hist_rating, d in zip(hist['date'], hist['movieId'], hist['rating'],piece['date']):\n",
    "            # 현재 평가시점에 해당하는 위치인덱스를 가져옵니다.\n",
    "            idx = np.searchsorted(hist_date, d)\n",
    "            # 가져올 평가 이력의 시작 지점을 계산합니다.\n",
    "            from_idx  = max(0, idx - hist_cnt)\n",
    "            # 이전 평가 인덱스를 가져옵니다.\n",
    "            prev_movies.append(hist_movieId[from_idx:idx] if from_idx < idx else [0])\n",
    "            # 이전 평가 rating을 가져옵니다.\n",
    "            prev_ratings.append(hist_rating[from_idx:idx] if from_idx < idx else [0.0])\n",
    "\n",
    "        # 사용자 / 영화 / 추출한 평가이력 / 점수를 train_step에 전달합니다.\n",
    "        loss = train_step(\n",
    "            tf.constant(piece['userId'], dtype=tf.int64),\n",
    "            tf.constant(piece['movieId'], dtype=tf.int64),\n",
    "            tf.ragged.constant(prev_movies, dtype=tf.int64),\n",
    "            tf.ragged.constant(prev_ratings, dtype=tf.float32),\n",
    "            tf.constant(piece['rating'], dtype=tf.float32)\n",
    "        )\n",
    "        metric_mse.update_state(loss['mse'])\n",
    "        metric_loss.update_state(loss['loss'])\n",
    "        pbar.set_description(\"mse {:.3f}, loss {:.3f}\".format(metric_mse.result().numpy(), metric_loss.result().numpy()))\n",
    "        \n",
    "def predict_test(batch_size):\n",
    "    pos = np.hstack([np.arange(0, len(df_test),batch_size)])\n",
    "    prds = []\n",
    "    pbar = tqdm(pos)\n",
    "    for n, i in enumerate(pbar):\n",
    "        piece = df_test.iloc[i:i + batch_size]\n",
    "        hist = df_user_hist.loc[piece['userId']]\n",
    "        tmp = piece['date'].values\n",
    "        prev_movies = list()\n",
    "        prev_ratings = list()\n",
    "        for hist_date, hist_movieId, hist_rating, d in zip(hist['date'], hist['movieId'], hist['rating'], piece['date']):\n",
    "            idx = np.searchsorted(hist_date, d)\n",
    "            from_idx  = max(0, idx - hist_cnt)\n",
    "            prev_movies.append(hist_movieId[from_idx:idx] if from_idx < idx else [0])\n",
    "            prev_ratings.append(hist_rating[from_idx:idx] if from_idx < idx else [0.0])\n",
    "        prd = a_model({\n",
    "            'userId': tf.constant(piece['userId']), \n",
    "            'movieId': tf.constant(piece['movieId']), \n",
    "            'prev_movieIds': tf.ragged.constant(prev_movies), \n",
    "            'prev_ratings': tf.ragged.constant(prev_ratings)\n",
    "        })\n",
    "        prds.append(prd.numpy())\n",
    "    return np.squeeze(np.vstack(prds))"
   ]
  },
  {
   "cell_type": "code",
   "execution_count": 18,
   "id": "cbb9bf7d-3b09-49d8-9fd8-3ceadfaaf0c4",
   "metadata": {},
   "outputs": [
    {
     "data": {
      "text/html": [
       "<div>\n",
       "<style scoped>\n",
       "    .dataframe tbody tr th:only-of-type {\n",
       "        vertical-align: middle;\n",
       "    }\n",
       "\n",
       "    .dataframe tbody tr th {\n",
       "        vertical-align: top;\n",
       "    }\n",
       "\n",
       "    .dataframe thead tr th {\n",
       "        text-align: left;\n",
       "    }\n",
       "</style>\n",
       "<table border=\"1\" class=\"dataframe\">\n",
       "  <thead>\n",
       "    <tr>\n",
       "      <th></th>\n",
       "      <th></th>\n",
       "      <th colspan=\"5\" halign=\"left\">userCnt</th>\n",
       "      <th colspan=\"6\" halign=\"left\">movieCnt</th>\n",
       "    </tr>\n",
       "    <tr>\n",
       "      <th></th>\n",
       "      <th>test</th>\n",
       "      <th>[0.0, 1.0)</th>\n",
       "      <th>[1.0, 150.0)</th>\n",
       "      <th>[150.0, 500.0)</th>\n",
       "      <th>[500.0, 1000.0)</th>\n",
       "      <th>[1000.0, inf)</th>\n",
       "      <th>[0.0, 1.0)</th>\n",
       "      <th>[1.0, 100.0)</th>\n",
       "      <th>[100.0, 1000.0)</th>\n",
       "      <th>[1000.0, 5000.0)</th>\n",
       "      <th>[5000.0, 10000.0)</th>\n",
       "      <th>[10000.0, inf)</th>\n",
       "    </tr>\n",
       "  </thead>\n",
       "  <tbody>\n",
       "    <tr>\n",
       "      <th>1</th>\n",
       "      <td>0.673888</td>\n",
       "      <td>0.680123</td>\n",
       "      <td>0.663623</td>\n",
       "      <td>0.711958</td>\n",
       "      <td>0.618895</td>\n",
       "      <td>0.604111</td>\n",
       "      <td>0.823605</td>\n",
       "      <td>0.724784</td>\n",
       "      <td>0.655986</td>\n",
       "      <td>0.661616</td>\n",
       "      <td>0.663917</td>\n",
       "      <td>0.668909</td>\n",
       "    </tr>\n",
       "    <tr>\n",
       "      <th>2</th>\n",
       "      <td>0.671287</td>\n",
       "      <td>0.678415</td>\n",
       "      <td>0.662137</td>\n",
       "      <td>0.704994</td>\n",
       "      <td>0.610602</td>\n",
       "      <td>0.598359</td>\n",
       "      <td>0.817579</td>\n",
       "      <td>0.719789</td>\n",
       "      <td>0.648722</td>\n",
       "      <td>0.662488</td>\n",
       "      <td>0.663415</td>\n",
       "      <td>0.665625</td>\n",
       "    </tr>\n",
       "    <tr>\n",
       "      <th>3</th>\n",
       "      <td>0.666367</td>\n",
       "      <td>0.672814</td>\n",
       "      <td>0.658085</td>\n",
       "      <td>0.700974</td>\n",
       "      <td>0.608862</td>\n",
       "      <td>0.597890</td>\n",
       "      <td>0.817059</td>\n",
       "      <td>0.715323</td>\n",
       "      <td>0.644603</td>\n",
       "      <td>0.658428</td>\n",
       "      <td>0.660081</td>\n",
       "      <td>0.658759</td>\n",
       "    </tr>\n",
       "    <tr>\n",
       "      <th>4</th>\n",
       "      <td>0.663651</td>\n",
       "      <td>0.669989</td>\n",
       "      <td>0.655113</td>\n",
       "      <td>0.697876</td>\n",
       "      <td>0.608049</td>\n",
       "      <td>0.595770</td>\n",
       "      <td>0.813402</td>\n",
       "      <td>0.706974</td>\n",
       "      <td>0.642210</td>\n",
       "      <td>0.656957</td>\n",
       "      <td>0.659229</td>\n",
       "      <td>0.655694</td>\n",
       "    </tr>\n",
       "    <tr>\n",
       "      <th>5</th>\n",
       "      <td>0.661597</td>\n",
       "      <td>0.668663</td>\n",
       "      <td>0.652023</td>\n",
       "      <td>0.693962</td>\n",
       "      <td>0.603921</td>\n",
       "      <td>0.589048</td>\n",
       "      <td>0.806788</td>\n",
       "      <td>0.699430</td>\n",
       "      <td>0.639919</td>\n",
       "      <td>0.655666</td>\n",
       "      <td>0.658776</td>\n",
       "      <td>0.654151</td>\n",
       "    </tr>\n",
       "    <tr>\n",
       "      <th>6</th>\n",
       "      <td>0.663668</td>\n",
       "      <td>0.671958</td>\n",
       "      <td>0.653459</td>\n",
       "      <td>0.692492</td>\n",
       "      <td>0.600539</td>\n",
       "      <td>0.584242</td>\n",
       "      <td>0.802135</td>\n",
       "      <td>0.696947</td>\n",
       "      <td>0.641741</td>\n",
       "      <td>0.658909</td>\n",
       "      <td>0.662898</td>\n",
       "      <td>0.656241</td>\n",
       "    </tr>\n",
       "    <tr>\n",
       "      <th>7</th>\n",
       "      <td>0.656282</td>\n",
       "      <td>0.664336</td>\n",
       "      <td>0.645502</td>\n",
       "      <td>0.686360</td>\n",
       "      <td>0.593447</td>\n",
       "      <td>0.578679</td>\n",
       "      <td>0.807495</td>\n",
       "      <td>0.690680</td>\n",
       "      <td>0.632921</td>\n",
       "      <td>0.649833</td>\n",
       "      <td>0.655008</td>\n",
       "      <td>0.649391</td>\n",
       "    </tr>\n",
       "    <tr>\n",
       "      <th>8</th>\n",
       "      <td>0.655181</td>\n",
       "      <td>0.663857</td>\n",
       "      <td>0.644860</td>\n",
       "      <td>0.682624</td>\n",
       "      <td>0.588288</td>\n",
       "      <td>0.575252</td>\n",
       "      <td>0.804637</td>\n",
       "      <td>0.687552</td>\n",
       "      <td>0.632721</td>\n",
       "      <td>0.648521</td>\n",
       "      <td>0.654115</td>\n",
       "      <td>0.648619</td>\n",
       "    </tr>\n",
       "    <tr>\n",
       "      <th>9</th>\n",
       "      <td>0.650567</td>\n",
       "      <td>0.658759</td>\n",
       "      <td>0.640620</td>\n",
       "      <td>0.679506</td>\n",
       "      <td>0.585006</td>\n",
       "      <td>0.573745</td>\n",
       "      <td>0.809489</td>\n",
       "      <td>0.683120</td>\n",
       "      <td>0.627528</td>\n",
       "      <td>0.643477</td>\n",
       "      <td>0.649208</td>\n",
       "      <td>0.643826</td>\n",
       "    </tr>\n",
       "    <tr>\n",
       "      <th>10</th>\n",
       "      <td>0.650130</td>\n",
       "      <td>0.658802</td>\n",
       "      <td>0.640346</td>\n",
       "      <td>0.676987</td>\n",
       "      <td>0.582214</td>\n",
       "      <td>0.571186</td>\n",
       "      <td>0.806435</td>\n",
       "      <td>0.679830</td>\n",
       "      <td>0.628501</td>\n",
       "      <td>0.642109</td>\n",
       "      <td>0.647993</td>\n",
       "      <td>0.644679</td>\n",
       "    </tr>\n",
       "  </tbody>\n",
       "</table>\n",
       "</div>"
      ],
      "text/plain": [
       "                userCnt                                              \\\n",
       "        test [0.0, 1.0) [1.0, 150.0) [150.0, 500.0) [500.0, 1000.0)   \n",
       "1   0.673888   0.680123     0.663623       0.711958        0.618895   \n",
       "2   0.671287   0.678415     0.662137       0.704994        0.610602   \n",
       "3   0.666367   0.672814     0.658085       0.700974        0.608862   \n",
       "4   0.663651   0.669989     0.655113       0.697876        0.608049   \n",
       "5   0.661597   0.668663     0.652023       0.693962        0.603921   \n",
       "6   0.663668   0.671958     0.653459       0.692492        0.600539   \n",
       "7   0.656282   0.664336     0.645502       0.686360        0.593447   \n",
       "8   0.655181   0.663857     0.644860       0.682624        0.588288   \n",
       "9   0.650567   0.658759     0.640620       0.679506        0.585006   \n",
       "10  0.650130   0.658802     0.640346       0.676987        0.582214   \n",
       "\n",
       "                   movieCnt                                                \\\n",
       "   [1000.0, inf) [0.0, 1.0) [1.0, 100.0) [100.0, 1000.0) [1000.0, 5000.0)   \n",
       "1       0.604111   0.823605     0.724784        0.655986         0.661616   \n",
       "2       0.598359   0.817579     0.719789        0.648722         0.662488   \n",
       "3       0.597890   0.817059     0.715323        0.644603         0.658428   \n",
       "4       0.595770   0.813402     0.706974        0.642210         0.656957   \n",
       "5       0.589048   0.806788     0.699430        0.639919         0.655666   \n",
       "6       0.584242   0.802135     0.696947        0.641741         0.658909   \n",
       "7       0.578679   0.807495     0.690680        0.632921         0.649833   \n",
       "8       0.575252   0.804637     0.687552        0.632721         0.648521   \n",
       "9       0.573745   0.809489     0.683120        0.627528         0.643477   \n",
       "10      0.571186   0.806435     0.679830        0.628501         0.642109   \n",
       "\n",
       "                                     \n",
       "   [5000.0, 10000.0) [10000.0, inf)  \n",
       "1           0.663917       0.668909  \n",
       "2           0.663415       0.665625  \n",
       "3           0.660081       0.658759  \n",
       "4           0.659229       0.655694  \n",
       "5           0.658776       0.654151  \n",
       "6           0.662898       0.656241  \n",
       "7           0.655008       0.649391  \n",
       "8           0.654115       0.648619  \n",
       "9           0.649208       0.643826  \n",
       "10          0.647993       0.644679  "
      ]
     },
     "metadata": {},
     "output_type": "display_data"
    }
   ],
   "source": [
    "verbose = True\n",
    "epochs = 10\n",
    "hist_cnt = 8\n",
    "batch_size = 1024\n",
    "\n",
    "mse_test, mse_by_userCnt, mse_by_movieCnt = list(), list(), list()\n",
    "for i in range(epochs):\n",
    "    train(hist_cnt, batch_size)\n",
    "    prds = predict_test(batch_size)\n",
    "    if verbose:\n",
    "        # 테스트셋의 성능을 구합니다.\n",
    "        mse_test.append(mean_squared_error(df_test['rating'], prds))\n",
    "        # 테스트셋 성능을 묶어 데이터프레임을 만듭니다.\n",
    "        df_prd = pd.DataFrame({'rating': df_test['rating'], 'prds': prds})\n",
    "        # 학습셋의 사용자 평점수 구간별 테스트셋의 성능을 구합니다.\n",
    "        mse_by_userCnt.append(\n",
    "            df_prd.groupby(s_user_type).apply(lambda x: mean_squared_error(x['rating'], x['prds']))\n",
    "        )\n",
    "        # 학습셋의 영화 평점수 구간별 테스트셋의 성능을 구합니다.\n",
    "        mse_by_movieCnt.append(\n",
    "            df_prd.groupby(s_movie_type).apply(lambda x: mean_squared_error(x['rating'], x['prds']))\n",
    "        )\n",
    "        # 종합하여 하나의 데이터프레임으로 만듭니다.\n",
    "        df_result = pd.concat([\n",
    "            pd.DataFrame({('', 'test'): mse_test}),\n",
    "            pd.concat(mse_by_userCnt, axis=1).pipe(\n",
    "                lambda x: x.set_index(pd.MultiIndex.from_product([['userCnt'], x.index.tolist()]))\n",
    "            ).T,\n",
    "            pd.concat(mse_by_movieCnt, axis=1).pipe(\n",
    "                lambda x: x.set_index(pd.MultiIndex.from_product([['movieCnt'], x.index.tolist()]))\n",
    "            ).T\n",
    "        ], axis=1)\n",
    "        df_result.index = np.arange(1, len(df_result) + 1)\n",
    "        df_result.name = 'epoch'\n",
    "        clear_output()\n",
    "        display(df_result)"
   ]
  },
  {
   "cell_type": "code",
   "execution_count": 19,
   "id": "6001e6cd-427f-461e-a91a-e741c8ceabbe",
   "metadata": {},
   "outputs": [],
   "source": [
    "\"\"\"\n",
    "# 학습 결과를 저장하고자 한다면 주석을 해제하고 실행시키면 됩니다.\n",
    "\n",
    "with open('mf3.pkl', 'wb') as f:\n",
    "    pickle.dump({\n",
    "        'userCnt': s_userCnt,\n",
    "        'movieCnt': s_movieCnt,\n",
    "        'movieInfo': df_movieinfo,\n",
    "        'result': df_result,\n",
    "        'weights': a_model.get_weights(),\n",
    "        'rnn': 'lstm'\n",
    "    }, f)\n",
    "\"\"\""
   ]
  },
  {
   "cell_type": "markdown",
   "id": "acce01b7-a308-4572-995a-526fdf8b1b31",
   "metadata": {},
   "source": [
    "## 저장된 학습 결과에서 불러와 봅니다."
   ]
  },
  {
   "cell_type": "code",
   "execution_count": 23,
   "id": "67f92802-9074-410a-89f8-d71ee950c4d8",
   "metadata": {},
   "outputs": [
    {
     "data": {
      "text/plain": [
       "['userCnt', 'movieCnt', 'movieInfo', 'result', 'weights', 'rnn']"
      ]
     },
     "execution_count": 23,
     "metadata": {},
     "output_type": "execute_result"
    }
   ],
   "source": [
    "with open('mf3.pkl', 'rb') as f:\n",
    "    mf3 = pickle.load(f)\n",
    "[i for i in mf3.keys()]"
   ]
  },
  {
   "cell_type": "code",
   "execution_count": 26,
   "id": "70b47028-0cbe-4c90-83ea-882b1934fac1",
   "metadata": {},
   "outputs": [],
   "source": [
    "# 모델을  만듭니다.\n",
    "tf.keras.backend.clear_session()\n",
    "rank = 32\n",
    "user_model = rcmd.EmbModel(mf3['userCnt'].pipe(lambda  x: x.loc[x >= 150].index.values), rank)\n",
    "movie_model = rcmd.EmbModel(mf3['movieCnt'].pipe(lambda x: x.loc[x >= 100].index.values), rank)\n",
    "movie_info_model = rcmd.MovieInfoModel(mf3['movieInfo'], movie_model, {'genre': 4, 'collection': 8}, rank)\n",
    "user_hist_model2 = UserHistModel2(user_model, movie_info_model, rank, rnn=\"lstm\")\n",
    "mf_model3 = MFModel3(user_hist_model2, movie_info_model)\n",
    "\n",
    "user_mean_model = rcmd.EmbModel(s_userCnt.loc[s_userCnt > 1].index.values, rank=1)\n",
    "movie_mean_model = rcmd.EmbModel(s_movieCnt.loc[s_movieCnt > 1].index.values, rank=1)\n",
    "mean_model = rcmd.MeanModel(rating_train_mean, user_mean_model, movie_mean_model)\n",
    "mean_model({'userId': tf.constant([1, 2]), 'movieId': tf.constant([1, 5])})\n",
    "\n",
    "a_model = rcmd.AdditiveModel([mf_model3, mean_model])\n",
    "\n",
    "# 모델을 호출을 하면 구성된 모델의 Weights가 생성됩니다.\n",
    "a_model({'userId': tf.constant([1, 2]), 'movieId': tf.constant([1, 5]),\n",
    "        'prev_movieIds': tf.ragged.constant([[0, 1], [2]]), 'prev_ratings': tf.ragged.constant([[1.0, 3.5], [2]])})\n",
    "\n",
    "# 저장해두었던 가중치를 설정합니다.\n",
    "a_model.set_weights(mf3['weights'])"
   ]
  },
  {
   "cell_type": "code",
   "execution_count": 29,
   "id": "b0ce5790-7b01-488b-820d-f85a063126c3",
   "metadata": {},
   "outputs": [
    {
     "name": "stderr",
     "output_type": "stream",
     "text": [
      "100%|███████████████████████████████████████████████████████████████████████████████████████████████| 1173/1173 [01:12<00:00, 16.11it/s]\n"
     ]
    }
   ],
   "source": [
    "hist_cnt = 8\n",
    "prds = predict_test(1024)"
   ]
  },
  {
   "cell_type": "code",
   "execution_count": 30,
   "id": "f7d040c2-d62b-4a8b-857a-cd50e73dbc4b",
   "metadata": {},
   "outputs": [
    {
     "data": {
      "text/plain": [
       "userCnt\n",
       "[0.0, 1.0)         0.659535\n",
       "[1.0, 150.0)       0.645509\n",
       "[150.0, 500.0)     0.680751\n",
       "[500.0, 1000.0)    0.585476\n",
       "[1000.0, inf)      0.575169\n",
       "dtype: float32"
      ]
     },
     "metadata": {},
     "output_type": "display_data"
    },
    {
     "data": {
      "text/plain": [
       "movieCnt\n",
       "[0.0, 1.0)           0.806690\n",
       "[1.0, 100.0)         0.689855\n",
       "[100.0, 1000.0)      0.630233\n",
       "[1000.0, 5000.0)     0.643069\n",
       "[5000.0, 10000.0)    0.648509\n",
       "[10000.0, inf)       0.644959\n",
       "dtype: float32"
      ]
     },
     "metadata": {},
     "output_type": "display_data"
    }
   ],
   "source": [
    "df_prd = pd.DataFrame({'rating': df_test['rating'], 'prds': prds})\n",
    "# 학습셋의 사용자 평점수 구간별 테스트셋의 성능을 구합니다.\n",
    "display(\n",
    "    df_prd.groupby(s_user_type, observed=True).apply(lambda x: mean_squared_error(x['rating'], x['prds']))\n",
    ")\n",
    "# 학습셋의 영화 평점수 구간별 테스트셋의 성능을 구합니다.\n",
    "display(\n",
    "    df_prd.groupby(s_movie_type, observed=True).apply(lambda x: mean_squared_error(x['rating'], x['prds']))\n",
    ")"
   ]
  },
  {
   "cell_type": "code",
   "execution_count": 31,
   "id": "f0ca1fb2-83c5-492b-bbfb-f5adb52cbdfd",
   "metadata": {},
   "outputs": [],
   "source": [
    "# 영화 임베딩을 프로젝션해봅니다.\n",
    "\n",
    "from tensorboard.plugins import projector\n",
    "\n",
    "# 프로젝션 데이터가 저장될 경로를 만듭니다.\n",
    "log_dir='logs/m25m_3/'\n",
    "if not os.path.exists(log_dir):\n",
    "    os.makedirs(log_dir)\n",
    "\n",
    "# 메타데이터를 저장합니다.\n",
    "known = []\n",
    "with open(os.path.join(log_dir, 'metadata.tsv'), \"w\") as f:\n",
    "    for i in s_movieCnt.loc[s_movieCnt > 100].index:\n",
    "        if i in m25m['movie_info_kr']:\n",
    "            f.write(\"{}\\n\".format(df_movie.loc[i, 'title']))\n",
    "            known.append(i)\n",
    "\n",
    "# 내용을 저장합니다.\n",
    "weights =  tf.Variable(movie_info_model(tf.constant(known)))\n",
    "checkpoint = tf.train.Checkpoint(embedding=weights)\n",
    "checkpoint.save(os.path.join(log_dir, \"embedding.ckpt\"))\n",
    "\n",
    "config = projector.ProjectorConfig()\n",
    "embedding = config.embeddings.add()\n",
    "# The name of the tensor will be suffixed by `/.ATTRIBUTES/VARIABLE_VALUE`.\n",
    "embedding.tensor_name = \"embedding/.ATTRIBUTES/VARIABLE_VALUE\"\n",
    "embedding.metadata_path = 'metadata.tsv'\n",
    "projector.visualize_embeddings(log_dir, config)"
   ]
  },
  {
   "cell_type": "code",
   "execution_count": 32,
   "id": "b7dabe3f-98b6-49e2-ac0b-3ed5187d5ae9",
   "metadata": {},
   "outputs": [
    {
     "data": {
      "text/html": [
       "\n",
       "      <iframe id=\"tensorboard-frame-b9490289843552fd\" width=\"100%\" height=\"800\" frameborder=\"0\">\n",
       "      </iframe>\n",
       "      <script>\n",
       "        (function() {\n",
       "          const frame = document.getElementById(\"tensorboard-frame-b9490289843552fd\");\n",
       "          const url = new URL(\"/\", window.location);\n",
       "          const port = 6006;\n",
       "          if (port) {\n",
       "            url.port = port;\n",
       "          }\n",
       "          frame.src = url;\n",
       "        })();\n",
       "      </script>\n",
       "    "
      ],
      "text/plain": [
       "<IPython.core.display.HTML object>"
      ]
     },
     "metadata": {},
     "output_type": "display_data"
    }
   ],
   "source": [
    "%tensorboard --logdir logs/m25m_3/ --bind_all"
   ]
  },
  {
   "cell_type": "code",
   "execution_count": null,
   "id": "6b1dc57c-c640-46db-99e1-4805535fc731",
   "metadata": {},
   "outputs": [],
   "source": []
  }
 ],
 "metadata": {
  "kernelspec": {
   "display_name": "Python 3 (ipykernel)",
   "language": "python",
   "name": "python3"
  },
  "language_info": {
   "codemirror_mode": {
    "name": "ipython",
    "version": 3
   },
   "file_extension": ".py",
   "mimetype": "text/x-python",
   "name": "python",
   "nbconvert_exporter": "python",
   "pygments_lexer": "ipython3",
   "version": "3.10.9"
  }
 },
 "nbformat": 4,
 "nbformat_minor": 5
}
